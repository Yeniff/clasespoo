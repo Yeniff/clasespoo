{
  "nbformat": 4,
  "nbformat_minor": 0,
  "metadata": {
    "colab": {
      "name": "Untitled1.ipynb",
      "provenance": [],
      "authorship_tag": "ABX9TyMqzbcjWt3bAkAItQY9crLa",
      "include_colab_link": true
    },
    "kernelspec": {
      "name": "python3",
      "display_name": "Python 3"
    },
    "language_info": {
      "name": "python"
    }
  },
  "cells": [
    {
      "cell_type": "markdown",
      "metadata": {
        "id": "view-in-github",
        "colab_type": "text"
      },
      "source": [
        "<a href=\"https://colab.research.google.com/github/Yeniff/clasespoo/blob/main/Untitled1.ipynb\" target=\"_parent\"><img src=\"https://colab.research.google.com/assets/colab-badge.svg\" alt=\"Open In Colab\"/></a>"
      ]
    },
    {
      "cell_type": "code",
      "metadata": {
        "id": "kqtRPXpOO33k"
      },
      "source": [
        "!pip install turicreate"
      ],
      "execution_count": null,
      "outputs": []
    },
    {
      "cell_type": "code",
      "metadata": {
        "id": "Iwmi5XYzPY1L"
      },
      "source": [
        "import turicreate as tc"
      ],
      "execution_count": 2,
      "outputs": []
    },
    {
      "cell_type": "code",
      "metadata": {
        "id": "pkXOU7QRPluK",
        "colab": {
          "base_uri": "https://localhost:8080/",
          "height": 482
        },
        "outputId": "ed0b06ca-842c-4b82-bf03-a4338aad7b4b"
      },
      "source": [
        "cancer = tc.SFrame('cancer.csv')\n",
        "cancer"
      ],
      "execution_count": 91,
      "outputs": [
        {
          "output_type": "display_data",
          "data": {
            "text/html": [
              "<pre>Finished parsing file /content/cancer.csv</pre>"
            ],
            "text/plain": [
              "Finished parsing file /content/cancer.csv"
            ]
          },
          "metadata": {}
        },
        {
          "output_type": "display_data",
          "data": {
            "text/html": [
              "<pre>Parsing completed. Parsed 100 lines in 0.048783 secs.</pre>"
            ],
            "text/plain": [
              "Parsing completed. Parsed 100 lines in 0.048783 secs."
            ]
          },
          "metadata": {}
        },
        {
          "output_type": "stream",
          "name": "stdout",
          "text": [
            "------------------------------------------------------\n",
            "Inferred types from first 100 line(s) of file as \n",
            "column_type_hints=[float,float,float,float,float,int]\n",
            "If parsing fails due to incorrect types, you can correct\n",
            "the inferred type list above and pass it to read_csv in\n",
            "the column_type_hints argument\n",
            "------------------------------------------------------\n"
          ]
        },
        {
          "output_type": "display_data",
          "data": {
            "text/html": [
              "<pre>Finished parsing file /content/cancer.csv</pre>"
            ],
            "text/plain": [
              "Finished parsing file /content/cancer.csv"
            ]
          },
          "metadata": {}
        },
        {
          "output_type": "display_data",
          "data": {
            "text/html": [
              "<pre>Parsing completed. Parsed 569 lines in 0.024334 secs.</pre>"
            ],
            "text/plain": [
              "Parsing completed. Parsed 569 lines in 0.024334 secs."
            ]
          },
          "metadata": {}
        },
        {
          "output_type": "execute_result",
          "data": {
            "text/html": [
              "<div style=\"max-height:1000px;max-width:1500px;overflow:auto;\"><table frame=\"box\" rules=\"cols\">\n",
              "    <tr>\n",
              "        <th style=\"padding-left: 1em; padding-right: 1em; text-align: center\">mean_radius</th>\n",
              "        <th style=\"padding-left: 1em; padding-right: 1em; text-align: center\">mean_texture</th>\n",
              "        <th style=\"padding-left: 1em; padding-right: 1em; text-align: center\">mean_perimeter</th>\n",
              "        <th style=\"padding-left: 1em; padding-right: 1em; text-align: center\">mean_area</th>\n",
              "        <th style=\"padding-left: 1em; padding-right: 1em; text-align: center\">mean_smoothness</th>\n",
              "        <th style=\"padding-left: 1em; padding-right: 1em; text-align: center\">diagnosis</th>\n",
              "    </tr>\n",
              "    <tr>\n",
              "        <td style=\"padding-left: 1em; padding-right: 1em; text-align: center; vertical-align: top\">17.99</td>\n",
              "        <td style=\"padding-left: 1em; padding-right: 1em; text-align: center; vertical-align: top\">10.38</td>\n",
              "        <td style=\"padding-left: 1em; padding-right: 1em; text-align: center; vertical-align: top\">122.8</td>\n",
              "        <td style=\"padding-left: 1em; padding-right: 1em; text-align: center; vertical-align: top\">1001.0</td>\n",
              "        <td style=\"padding-left: 1em; padding-right: 1em; text-align: center; vertical-align: top\">0.1184</td>\n",
              "        <td style=\"padding-left: 1em; padding-right: 1em; text-align: center; vertical-align: top\">0</td>\n",
              "    </tr>\n",
              "    <tr>\n",
              "        <td style=\"padding-left: 1em; padding-right: 1em; text-align: center; vertical-align: top\">20.57</td>\n",
              "        <td style=\"padding-left: 1em; padding-right: 1em; text-align: center; vertical-align: top\">17.77</td>\n",
              "        <td style=\"padding-left: 1em; padding-right: 1em; text-align: center; vertical-align: top\">132.9</td>\n",
              "        <td style=\"padding-left: 1em; padding-right: 1em; text-align: center; vertical-align: top\">1326.0</td>\n",
              "        <td style=\"padding-left: 1em; padding-right: 1em; text-align: center; vertical-align: top\">0.08474</td>\n",
              "        <td style=\"padding-left: 1em; padding-right: 1em; text-align: center; vertical-align: top\">0</td>\n",
              "    </tr>\n",
              "    <tr>\n",
              "        <td style=\"padding-left: 1em; padding-right: 1em; text-align: center; vertical-align: top\">19.69</td>\n",
              "        <td style=\"padding-left: 1em; padding-right: 1em; text-align: center; vertical-align: top\">21.25</td>\n",
              "        <td style=\"padding-left: 1em; padding-right: 1em; text-align: center; vertical-align: top\">130.0</td>\n",
              "        <td style=\"padding-left: 1em; padding-right: 1em; text-align: center; vertical-align: top\">1203.0</td>\n",
              "        <td style=\"padding-left: 1em; padding-right: 1em; text-align: center; vertical-align: top\">0.1096</td>\n",
              "        <td style=\"padding-left: 1em; padding-right: 1em; text-align: center; vertical-align: top\">0</td>\n",
              "    </tr>\n",
              "    <tr>\n",
              "        <td style=\"padding-left: 1em; padding-right: 1em; text-align: center; vertical-align: top\">11.42</td>\n",
              "        <td style=\"padding-left: 1em; padding-right: 1em; text-align: center; vertical-align: top\">20.38</td>\n",
              "        <td style=\"padding-left: 1em; padding-right: 1em; text-align: center; vertical-align: top\">77.58</td>\n",
              "        <td style=\"padding-left: 1em; padding-right: 1em; text-align: center; vertical-align: top\">386.1</td>\n",
              "        <td style=\"padding-left: 1em; padding-right: 1em; text-align: center; vertical-align: top\">0.1425</td>\n",
              "        <td style=\"padding-left: 1em; padding-right: 1em; text-align: center; vertical-align: top\">0</td>\n",
              "    </tr>\n",
              "    <tr>\n",
              "        <td style=\"padding-left: 1em; padding-right: 1em; text-align: center; vertical-align: top\">20.29</td>\n",
              "        <td style=\"padding-left: 1em; padding-right: 1em; text-align: center; vertical-align: top\">14.34</td>\n",
              "        <td style=\"padding-left: 1em; padding-right: 1em; text-align: center; vertical-align: top\">135.1</td>\n",
              "        <td style=\"padding-left: 1em; padding-right: 1em; text-align: center; vertical-align: top\">1297.0</td>\n",
              "        <td style=\"padding-left: 1em; padding-right: 1em; text-align: center; vertical-align: top\">0.1003</td>\n",
              "        <td style=\"padding-left: 1em; padding-right: 1em; text-align: center; vertical-align: top\">0</td>\n",
              "    </tr>\n",
              "    <tr>\n",
              "        <td style=\"padding-left: 1em; padding-right: 1em; text-align: center; vertical-align: top\">12.45</td>\n",
              "        <td style=\"padding-left: 1em; padding-right: 1em; text-align: center; vertical-align: top\">15.7</td>\n",
              "        <td style=\"padding-left: 1em; padding-right: 1em; text-align: center; vertical-align: top\">82.57</td>\n",
              "        <td style=\"padding-left: 1em; padding-right: 1em; text-align: center; vertical-align: top\">477.1</td>\n",
              "        <td style=\"padding-left: 1em; padding-right: 1em; text-align: center; vertical-align: top\">0.1278</td>\n",
              "        <td style=\"padding-left: 1em; padding-right: 1em; text-align: center; vertical-align: top\">0</td>\n",
              "    </tr>\n",
              "    <tr>\n",
              "        <td style=\"padding-left: 1em; padding-right: 1em; text-align: center; vertical-align: top\">18.25</td>\n",
              "        <td style=\"padding-left: 1em; padding-right: 1em; text-align: center; vertical-align: top\">19.98</td>\n",
              "        <td style=\"padding-left: 1em; padding-right: 1em; text-align: center; vertical-align: top\">119.6</td>\n",
              "        <td style=\"padding-left: 1em; padding-right: 1em; text-align: center; vertical-align: top\">1040.0</td>\n",
              "        <td style=\"padding-left: 1em; padding-right: 1em; text-align: center; vertical-align: top\">0.09463</td>\n",
              "        <td style=\"padding-left: 1em; padding-right: 1em; text-align: center; vertical-align: top\">0</td>\n",
              "    </tr>\n",
              "    <tr>\n",
              "        <td style=\"padding-left: 1em; padding-right: 1em; text-align: center; vertical-align: top\">13.71</td>\n",
              "        <td style=\"padding-left: 1em; padding-right: 1em; text-align: center; vertical-align: top\">20.83</td>\n",
              "        <td style=\"padding-left: 1em; padding-right: 1em; text-align: center; vertical-align: top\">90.2</td>\n",
              "        <td style=\"padding-left: 1em; padding-right: 1em; text-align: center; vertical-align: top\">577.9</td>\n",
              "        <td style=\"padding-left: 1em; padding-right: 1em; text-align: center; vertical-align: top\">0.1189</td>\n",
              "        <td style=\"padding-left: 1em; padding-right: 1em; text-align: center; vertical-align: top\">0</td>\n",
              "    </tr>\n",
              "    <tr>\n",
              "        <td style=\"padding-left: 1em; padding-right: 1em; text-align: center; vertical-align: top\">13.0</td>\n",
              "        <td style=\"padding-left: 1em; padding-right: 1em; text-align: center; vertical-align: top\">21.82</td>\n",
              "        <td style=\"padding-left: 1em; padding-right: 1em; text-align: center; vertical-align: top\">87.5</td>\n",
              "        <td style=\"padding-left: 1em; padding-right: 1em; text-align: center; vertical-align: top\">519.8</td>\n",
              "        <td style=\"padding-left: 1em; padding-right: 1em; text-align: center; vertical-align: top\">0.1273</td>\n",
              "        <td style=\"padding-left: 1em; padding-right: 1em; text-align: center; vertical-align: top\">0</td>\n",
              "    </tr>\n",
              "    <tr>\n",
              "        <td style=\"padding-left: 1em; padding-right: 1em; text-align: center; vertical-align: top\">12.46</td>\n",
              "        <td style=\"padding-left: 1em; padding-right: 1em; text-align: center; vertical-align: top\">24.04</td>\n",
              "        <td style=\"padding-left: 1em; padding-right: 1em; text-align: center; vertical-align: top\">83.97</td>\n",
              "        <td style=\"padding-left: 1em; padding-right: 1em; text-align: center; vertical-align: top\">475.9</td>\n",
              "        <td style=\"padding-left: 1em; padding-right: 1em; text-align: center; vertical-align: top\">0.1186</td>\n",
              "        <td style=\"padding-left: 1em; padding-right: 1em; text-align: center; vertical-align: top\">0</td>\n",
              "    </tr>\n",
              "</table>\n",
              "[569 rows x 6 columns]<br/>Note: Only the head of the SFrame is printed.<br/>You can use print_rows(num_rows=m, num_columns=n) to print more rows and columns.\n",
              "</div>"
            ],
            "text/plain": [
              "Columns:\n",
              "\tmean_radius\tfloat\n",
              "\tmean_texture\tfloat\n",
              "\tmean_perimeter\tfloat\n",
              "\tmean_area\tfloat\n",
              "\tmean_smoothness\tfloat\n",
              "\tdiagnosis\tint\n",
              "\n",
              "Rows: 569\n",
              "\n",
              "Data:\n",
              "+-------------+--------------+----------------+-----------+-----------------+-----------+\n",
              "| mean_radius | mean_texture | mean_perimeter | mean_area | mean_smoothness | diagnosis |\n",
              "+-------------+--------------+----------------+-----------+-----------------+-----------+\n",
              "|    17.99    |    10.38     |     122.8      |   1001.0  |      0.1184     |     0     |\n",
              "|    20.57    |    17.77     |     132.9      |   1326.0  |     0.08474     |     0     |\n",
              "|    19.69    |    21.25     |     130.0      |   1203.0  |      0.1096     |     0     |\n",
              "|    11.42    |    20.38     |     77.58      |   386.1   |      0.1425     |     0     |\n",
              "|    20.29    |    14.34     |     135.1      |   1297.0  |      0.1003     |     0     |\n",
              "|    12.45    |     15.7     |     82.57      |   477.1   |      0.1278     |     0     |\n",
              "|    18.25    |    19.98     |     119.6      |   1040.0  |     0.09463     |     0     |\n",
              "|    13.71    |    20.83     |      90.2      |   577.9   |      0.1189     |     0     |\n",
              "|     13.0    |    21.82     |      87.5      |   519.8   |      0.1273     |     0     |\n",
              "|    12.46    |    24.04     |     83.97      |   475.9   |      0.1186     |     0     |\n",
              "+-------------+--------------+----------------+-----------+-----------------+-----------+\n",
              "[569 rows x 6 columns]\n",
              "Note: Only the head of the SFrame is printed.\n",
              "You can use print_rows(num_rows=m, num_columns=n) to print more rows and columns."
            ]
          },
          "metadata": {},
          "execution_count": 91
        }
      ]
    },
    {
      "cell_type": "code",
      "metadata": {
        "colab": {
          "base_uri": "https://localhost:8080/"
        },
        "id": "vNmdYE1YVjid",
        "outputId": "10de7982-c346-4313-a828-d4811c11f5c1"
      },
      "source": [
        "type(data)"
      ],
      "execution_count": 90,
      "outputs": [
        {
          "output_type": "execute_result",
          "data": {
            "text/plain": [
              "turicreate.data_structures.sframe.SFrame"
            ]
          },
          "metadata": {},
          "execution_count": 90
        }
      ]
    },
    {
      "cell_type": "code",
      "metadata": {
        "id": "t4kQh408Vn7E",
        "colab": {
          "base_uri": "https://localhost:8080/",
          "height": 1000
        },
        "outputId": "d8dd7078-9029-40fd-8a88-be7c1ce625dd"
      },
      "source": [
        "cancer.show()"
      ],
      "execution_count": 89,
      "outputs": [
        {
          "output_type": "display_data",
          "data": {
            "text/html": [
              "<pre>Materializing SFrame</pre>"
            ],
            "text/plain": [
              "Materializing SFrame"
            ]
          },
          "metadata": {}
        },
        {
          "output_type": "display_data",
          "data": {
            "text/html": [
              "<html>                 <body>                     <iframe style=\"border:0;margin:0\" width=\"1000\" height=\"2100\" srcdoc='<html lang=\"en\">                         <head>                             <script src=\"https://cdnjs.cloudflare.com/ajax/libs/vega/5.4.0/vega.js\"></script>                             <script src=\"https://cdnjs.cloudflare.com/ajax/libs/vega-embed/4.0.0/vega-embed.js\"></script>                             <script src=\"https://cdnjs.cloudflare.com/ajax/libs/vega-tooltip/0.5.1/vega-tooltip.min.js\"></script>                             <link rel=\"stylesheet\" type=\"text/css\" href=\"https://cdnjs.cloudflare.com/ajax/libs/vega-tooltip/0.5.1/vega-tooltip.min.css\">                             <style>                             .vega-actions > a{                                 color:white;                                 text-decoration: none;                                 font-family: \"Arial\";                                 cursor:pointer;                                 padding:5px;                                 background:#AAAAAA;                                 border-radius:4px;                                 padding-left:10px;                                 padding-right:10px;                                 margin-right:5px;                             }                             .vega-actions{                                 margin-top:20px;                                 text-align:center                             }                            .vega-actions > a{                                 background:#999999;                            }                             </style>                         </head>                         <body>                             <div id=\"vis\">                             </div>                             <script>                                 var vega_json = \"{\\\"$schema\\\": \\\"https://vega.github.io/schema/vega/v4.json\\\", \\\"metadata\\\": {\\\"bubbleOpts\\\": {\\\"showAllFields\\\": false, \\\"fields\\\": [{\\\"field\\\": \\\"left\\\"}, {\\\"field\\\": \\\"right\\\"}, {\\\"field\\\": \\\"count\\\"}, {\\\"field\\\": \\\"label\\\"}]}}, \\\"width\\\": 800, \\\"height\\\": 1880, \\\"padding\\\": 8, \\\"data\\\": [{\\\"name\\\": \\\"pts_store\\\"}, {\\\"name\\\": \\\"source_2\\\", \\\"values\\\": [{\\\"a\\\": 0, \\\"title\\\": \\\"mean_radius\\\", \\\"num_row\\\": 569, \\\"type\\\": \\\"float\\\", \\\"num_unique\\\": 456, \\\"num_missing\\\": 0, \\\"mean\\\": 14.127292, \\\"min\\\": 6.981, \\\"max\\\": 28.11, \\\"median\\\": 13.37, \\\"stdev\\\": 3.520951, \\\"numeric\\\": [{\\\"left\\\": 6.81344, \\\"right\\\": 7.88672, \\\"count\\\": 4}, {\\\"left\\\": 7.88672, \\\"right\\\": 8.96, \\\"count\\\": 12}, {\\\"left\\\": 8.96, \\\"right\\\": 10.0333, \\\"count\\\": 32}, {\\\"left\\\": 10.0333, \\\"right\\\": 11.1066, \\\"count\\\": 44}, {\\\"left\\\": 11.1066, \\\"right\\\": 12.1798, \\\"count\\\": 88}, {\\\"left\\\": 12.1798, \\\"right\\\": 13.2531, \\\"count\\\": 98}, {\\\"left\\\": 13.2531, \\\"right\\\": 14.3264, \\\"count\\\": 75}, {\\\"left\\\": 14.3264, \\\"right\\\": 15.3997, \\\"count\\\": 59}, {\\\"left\\\": 15.3997, \\\"right\\\": 16.473, \\\"count\\\": 32}, {\\\"left\\\": 16.473, \\\"right\\\": 17.5462, \\\"count\\\": 23}, {\\\"left\\\": 17.5462, \\\"right\\\": 18.6195, \\\"count\\\": 23}, {\\\"left\\\": 18.6195, \\\"right\\\": 19.6928, \\\"count\\\": 29}, {\\\"left\\\": 19.6928, \\\"right\\\": 20.7661, \\\"count\\\": 26}, {\\\"left\\\": 20.7661, \\\"right\\\": 21.8394, \\\"count\\\": 10}, {\\\"left\\\": 21.8394, \\\"right\\\": 22.9126, \\\"count\\\": 2}, {\\\"left\\\": 22.9126, \\\"right\\\": 23.9859, \\\"count\\\": 5}, {\\\"left\\\": 23.9859, \\\"right\\\": 25.0592, \\\"count\\\": 2}, {\\\"left\\\": 25.0592, \\\"right\\\": 26.1325, \\\"count\\\": 2}, {\\\"left\\\": 26.1325, \\\"right\\\": 27.2058, \\\"count\\\": 0}, {\\\"left\\\": 27.2058, \\\"right\\\": 28.279, \\\"count\\\": 3}, {\\\"start\\\": 6.81344, \\\"stop\\\": 28.279, \\\"step\\\": 1.07328}], \\\"categorical\\\": []}, {\\\"a\\\": 1, \\\"title\\\": \\\"mean_texture\\\", \\\"num_row\\\": 569, \\\"type\\\": \\\"float\\\", \\\"num_unique\\\": 479, \\\"num_missing\\\": 0, \\\"mean\\\": 19.289649, \\\"min\\\": 9.71, \\\"max\\\": 39.28, \\\"median\\\": 18.84, \\\"stdev\\\": 4.297255, \\\"numeric\\\": [{\\\"left\\\": 9.16804, \\\"right\\\": 10.7052, \\\"count\\\": 2}, {\\\"left\\\": 10.7052, \\\"right\\\": 12.2423, \\\"count\\\": 11}, {\\\"left\\\": 12.2423, \\\"right\\\": 13.7794, \\\"count\\\": 33}, {\\\"left\\\": 13.7794, \\\"right\\\": 15.3165, \\\"count\\\": 55}, {\\\"left\\\": 15.3165, \\\"right\\\": 16.8536, \\\"count\\\": 74}, {\\\"left\\\": 16.8536, \\\"right\\\": 18.3908, \\\"count\\\": 83}, {\\\"left\\\": 18.3908, \\\"right\\\": 19.9279, \\\"count\\\": 81}, {\\\"left\\\": 19.9279, \\\"right\\\": 21.465, \\\"count\\\": 69}, {\\\"left\\\": 21.465, \\\"right\\\": 23.0021, \\\"count\\\": 58}, {\\\"left\\\": 23.0021, \\\"right\\\": 24.5392, \\\"count\\\": 36}, {\\\"left\\\": 24.5392, \\\"right\\\": 26.0764, \\\"count\\\": 25}, {\\\"left\\\": 26.0764, \\\"right\\\": 27.6135, \\\"count\\\": 16}, {\\\"left\\\": 27.6135, \\\"right\\\": 29.1506, \\\"count\\\": 13}, {\\\"left\\\": 29.1506, \\\"right\\\": 30.6877, \\\"count\\\": 7}, {\\\"left\\\": 30.6877, \\\"right\\\": 32.2248, \\\"count\\\": 2}, {\\\"left\\\": 32.2248, \\\"right\\\": 33.762, \\\"count\\\": 2}, {\\\"left\\\": 33.762, \\\"right\\\": 35.2991, \\\"count\\\": 1}, {\\\"left\\\": 35.2991, \\\"right\\\": 36.8362, \\\"count\\\": 0}, {\\\"left\\\": 36.8362, \\\"right\\\": 38.3733, \\\"count\\\": 0}, {\\\"left\\\": 38.3733, \\\"right\\\": 39.9104, \\\"count\\\": 1}, {\\\"start\\\": 9.16804, \\\"stop\\\": 39.9104, \\\"step\\\": 1.53712}], \\\"categorical\\\": []}, {\\\"a\\\": 2, \\\"title\\\": \\\"mean_perimeter\\\", \\\"num_row\\\": 569, \\\"type\\\": \\\"float\\\", \\\"num_unique\\\": 522, \\\"num_missing\\\": 0, \\\"mean\\\": 91.969033, \\\"min\\\": 43.79, \\\"max\\\": 188.5, \\\"median\\\": 86.24, \\\"stdev\\\": 24.277619, \\\"numeric\\\": [{\\\"left\\\": 41.8788, \\\"right\\\": 49.3124, \\\"count\\\": 4}, {\\\"left\\\": 49.3124, \\\"right\\\": 56.746, \\\"count\\\": 11}, {\\\"left\\\": 56.746, \\\"right\\\": 64.1796, \\\"count\\\": 33}, {\\\"left\\\": 64.1796, \\\"right\\\": 71.6132, \\\"count\\\": 50}, {\\\"left\\\": 71.6132, \\\"right\\\": 79.0468, \\\"count\\\": 102}, {\\\"left\\\": 79.0468, \\\"right\\\": 86.4804, \\\"count\\\": 86}, {\\\"left\\\": 86.4804, \\\"right\\\": 93.914, \\\"count\\\": 68}, {\\\"left\\\": 93.914, \\\"right\\\": 101.348, \\\"count\\\": 55}, {\\\"left\\\": 101.348, \\\"right\\\": 108.781, \\\"count\\\": 34}, {\\\"left\\\": 108.781, \\\"right\\\": 116.215, \\\"count\\\": 28}, {\\\"left\\\": 116.215, \\\"right\\\": 123.648, \\\"count\\\": 24}, {\\\"left\\\": 123.648, \\\"right\\\": 131.082, \\\"count\\\": 27}, {\\\"left\\\": 131.082, \\\"right\\\": 138.516, \\\"count\\\": 23}, {\\\"left\\\": 138.516, \\\"right\\\": 145.949, \\\"count\\\": 9}, {\\\"left\\\": 145.949, \\\"right\\\": 153.383, \\\"count\\\": 5}, {\\\"left\\\": 153.383, \\\"right\\\": 160.816, \\\"count\\\": 3}, {\\\"left\\\": 160.816, \\\"right\\\": 168.25, \\\"count\\\": 2}, {\\\"left\\\": 168.25, \\\"right\\\": 175.684, \\\"count\\\": 2}, {\\\"left\\\": 175.684, \\\"right\\\": 183.117, \\\"count\\\": 1}, {\\\"left\\\": 183.117, \\\"right\\\": 190.551, \\\"count\\\": 2}, {\\\"start\\\": 41.8788, \\\"stop\\\": 190.551, \\\"step\\\": 7.4336}], \\\"categorical\\\": []}, {\\\"a\\\": 3, \\\"title\\\": \\\"mean_area\\\", \\\"num_row\\\": 569, \\\"type\\\": \\\"float\\\", \\\"num_unique\\\": 539, \\\"num_missing\\\": 0, \\\"mean\\\": 654.889104, \\\"min\\\": 143.5, \\\"max\\\": 2501.0, \\\"median\\\": 551.1, \\\"stdev\\\": 351.604754, \\\"numeric\\\": [{\\\"left\\\": 128.7, \\\"right\\\": 248.3, \\\"count\\\": 18}, {\\\"left\\\": 248.3, \\\"right\\\": 367.9, \\\"count\\\": 66}, {\\\"left\\\": 367.9, \\\"right\\\": 487.5, \\\"count\\\": 135}, {\\\"left\\\": 487.5, \\\"right\\\": 607.1, \\\"count\\\": 121}, {\\\"left\\\": 607.1, \\\"right\\\": 726.7, \\\"count\\\": 70}, {\\\"left\\\": 726.7, \\\"right\\\": 846.3, \\\"count\\\": 35}, {\\\"left\\\": 846.3, \\\"right\\\": 965.9, \\\"count\\\": 23}, {\\\"left\\\": 965.9, \\\"right\\\": 1085.5, \\\"count\\\": 24}, {\\\"left\\\": 1085.5, \\\"right\\\": 1205.1, \\\"count\\\": 24}, {\\\"left\\\": 1205.1, \\\"right\\\": 1324.7, \\\"count\\\": 27}, {\\\"left\\\": 1324.7, \\\"right\\\": 1444.3, \\\"count\\\": 9}, {\\\"left\\\": 1444.3, \\\"right\\\": 1563.9, \\\"count\\\": 5}, {\\\"left\\\": 1563.9, \\\"right\\\": 1683.5, \\\"count\\\": 2}, {\\\"left\\\": 1683.5, \\\"right\\\": 1803.1, \\\"count\\\": 4}, {\\\"left\\\": 1803.1, \\\"right\\\": 1922.7, \\\"count\\\": 2}, {\\\"left\\\": 1922.7, \\\"right\\\": 2042.3, \\\"count\\\": 1}, {\\\"left\\\": 2042.3, \\\"right\\\": 2161.9, \\\"count\\\": 0}, {\\\"left\\\": 2161.9, \\\"right\\\": 2281.5, \\\"count\\\": 1}, {\\\"left\\\": 2281.5, \\\"right\\\": 2401.1, \\\"count\\\": 0}, {\\\"left\\\": 2401.1, \\\"right\\\": 2520.7, \\\"count\\\": 2}, {\\\"start\\\": 128.7, \\\"stop\\\": 2520.7, \\\"step\\\": 119.6}], \\\"categorical\\\": []}, {\\\"a\\\": 4, \\\"title\\\": \\\"mean_smoothness\\\", \\\"num_row\\\": 569, \\\"type\\\": \\\"float\\\", \\\"num_unique\\\": 474, \\\"num_missing\\\": 0, \\\"mean\\\": 0.09636, \\\"min\\\": 0.05263, \\\"max\\\": 0.1634, \\\"median\\\": 0.09587, \\\"stdev\\\": 0.014052, \\\"numeric\\\": [{\\\"left\\\": 0.0514839, \\\"right\\\": 0.0571388, \\\"count\\\": 1}, {\\\"left\\\": 0.0571388, \\\"right\\\": 0.0627937, \\\"count\\\": 1}, {\\\"left\\\": 0.0627937, \\\"right\\\": 0.0684486, \\\"count\\\": 4}, {\\\"left\\\": 0.0684486, \\\"right\\\": 0.0741034, \\\"count\\\": 16}, {\\\"left\\\": 0.0741034, \\\"right\\\": 0.0797583, \\\"count\\\": 37}, {\\\"left\\\": 0.0797583, \\\"right\\\": 0.0854132, \\\"count\\\": 76}, {\\\"left\\\": 0.0854132, \\\"right\\\": 0.0910681, \\\"count\\\": 84}, {\\\"left\\\": 0.0910681, \\\"right\\\": 0.096723, \\\"count\\\": 74}, {\\\"left\\\": 0.096723, \\\"right\\\": 0.102378, \\\"count\\\": 90}, {\\\"left\\\": 0.102378, \\\"right\\\": 0.108033, \\\"count\\\": 79}, {\\\"left\\\": 0.108033, \\\"right\\\": 0.113688, \\\"count\\\": 42}, {\\\"left\\\": 0.113688, \\\"right\\\": 0.119342, \\\"count\\\": 37}, {\\\"left\\\": 0.119342, \\\"right\\\": 0.124997, \\\"count\\\": 14}, {\\\"left\\\": 0.124997, \\\"right\\\": 0.130652, \\\"count\\\": 6}, {\\\"left\\\": 0.130652, \\\"right\\\": 0.136307, \\\"count\\\": 3}, {\\\"left\\\": 0.136307, \\\"right\\\": 0.141962, \\\"count\\\": 2}, {\\\"left\\\": 0.141962, \\\"right\\\": 0.147617, \\\"count\\\": 2}, {\\\"left\\\": 0.147617, \\\"right\\\": 0.153272, \\\"count\\\": 0}, {\\\"left\\\": 0.153272, \\\"right\\\": 0.158927, \\\"count\\\": 0}, {\\\"left\\\": 0.158927, \\\"right\\\": 0.164582, \\\"count\\\": 1}, {\\\"start\\\": 0.0514839, \\\"stop\\\": 0.164582, \\\"step\\\": 0.00565488}], \\\"categorical\\\": []}, {\\\"a\\\": 5, \\\"title\\\": \\\"diagnosis\\\", \\\"num_row\\\": 569, \\\"type\\\": \\\"integer\\\", \\\"num_unique\\\": 2, \\\"num_missing\\\": 0, \\\"mean\\\": 0.627417, \\\"min\\\": 0.0, \\\"max\\\": 1.0, \\\"median\\\": 1.0, \\\"stdev\\\": 0.483493, \\\"numeric\\\": [{\\\"left\\\": -9, \\\"right\\\": -8, \\\"count\\\": 0}, {\\\"left\\\": -8, \\\"right\\\": -7, \\\"count\\\": 0}, {\\\"left\\\": -7, \\\"right\\\": -6, \\\"count\\\": 0}, {\\\"left\\\": -6, \\\"right\\\": -5, \\\"count\\\": 0}, {\\\"left\\\": -5, \\\"right\\\": -4, \\\"count\\\": 0}, {\\\"left\\\": -4, \\\"right\\\": -3, \\\"count\\\": 0}, {\\\"left\\\": -3, \\\"right\\\": -2, \\\"count\\\": 0}, {\\\"left\\\": -2, \\\"right\\\": -1, \\\"count\\\": 0}, {\\\"left\\\": -1, \\\"right\\\": 0, \\\"count\\\": 0}, {\\\"left\\\": 0, \\\"right\\\": 1, \\\"count\\\": 212}, {\\\"left\\\": 1, \\\"right\\\": 2, \\\"count\\\": 357}, {\\\"left\\\": 2, \\\"right\\\": 3, \\\"count\\\": 0}, {\\\"left\\\": 3, \\\"right\\\": 4, \\\"count\\\": 0}, {\\\"left\\\": 4, \\\"right\\\": 5, \\\"count\\\": 0}, {\\\"left\\\": 5, \\\"right\\\": 6, \\\"count\\\": 0}, {\\\"left\\\": 6, \\\"right\\\": 7, \\\"count\\\": 0}, {\\\"left\\\": 7, \\\"right\\\": 8, \\\"count\\\": 0}, {\\\"left\\\": 8, \\\"right\\\": 9, \\\"count\\\": 0}, {\\\"left\\\": 9, \\\"right\\\": 10, \\\"count\\\": 0}, {\\\"left\\\": 10, \\\"right\\\": 11, \\\"count\\\": 0}, {\\\"start\\\": -9, \\\"stop\\\": 11, \\\"step\\\": 1}], \\\"categorical\\\": []}]}, {\\\"name\\\": \\\"data_2\\\", \\\"source\\\": \\\"source_2\\\", \\\"transform\\\": [{\\\"type\\\": \\\"formula\\\", \\\"expr\\\": \\\"20\\\", \\\"as\\\": \\\"c_x_axis_back\\\"}, {\\\"type\\\": \\\"formula\\\", \\\"expr\\\": \\\"toNumber(datum[\\\\\\\"a\\\\\\\"])*300+66\\\", \\\"as\\\": \\\"c_main_background\\\"}, {\\\"type\\\": \\\"formula\\\", \\\"expr\\\": \\\"toNumber(datum[\\\\\\\"a\\\\\\\"])*300+43\\\", \\\"as\\\": \\\"c_top_bar\\\"}, {\\\"type\\\": \\\"formula\\\", \\\"expr\\\": \\\"toNumber(datum[\\\\\\\"a\\\\\\\"])*300+59\\\", \\\"as\\\": \\\"c_top_title\\\"}, {\\\"type\\\": \\\"formula\\\", \\\"expr\\\": \\\"toNumber(datum[\\\\\\\"a\\\\\\\"])*300+58\\\", \\\"as\\\": \\\"c_top_type\\\"}, {\\\"type\\\": \\\"formula\\\", \\\"expr\\\": \\\"toNumber(datum[\\\\\\\"a\\\\\\\"])*300+178\\\", \\\"as\\\": \\\"c_rule\\\"}, {\\\"type\\\": \\\"formula\\\", \\\"expr\\\": \\\"toNumber(datum[\\\\\\\"a\\\\\\\"])*300+106\\\", \\\"as\\\": \\\"c_num_rows\\\"}, {\\\"type\\\": \\\"formula\\\", \\\"expr\\\": \\\"toNumber(datum[\\\\\\\"a\\\\\\\"])*300+130\\\", \\\"as\\\": \\\"c_num_unique\\\"}, {\\\"type\\\": \\\"formula\\\", \\\"expr\\\": \\\"toNumber(datum[\\\\\\\"a\\\\\\\"])*300+154\\\", \\\"as\\\": \\\"c_missing\\\"}, {\\\"type\\\": \\\"formula\\\", \\\"expr\\\": \\\"toNumber(datum[\\\\\\\"a\\\\\\\"])*300+105\\\", \\\"as\\\": \\\"c_num_rows_val\\\"}, {\\\"type\\\": \\\"formula\\\", \\\"expr\\\": \\\"toNumber(datum[\\\\\\\"a\\\\\\\"])*300+130\\\", \\\"as\\\": \\\"c_num_unique_val\\\"}, {\\\"type\\\": \\\"formula\\\", \\\"expr\\\": \\\"toNumber(datum[\\\\\\\"a\\\\\\\"])*300+154\\\", \\\"as\\\": \\\"c_missing_val\\\"}, {\\\"type\\\": \\\"formula\\\", \\\"expr\\\": \\\"toNumber(datum[\\\\\\\"a\\\\\\\"])*300+195\\\", \\\"as\\\": \\\"c_frequent_items\\\"}, {\\\"type\\\": \\\"formula\\\", \\\"expr\\\": \\\"toNumber(datum[\\\\\\\"a\\\\\\\"])*300+218\\\", \\\"as\\\": \\\"c_first_item\\\"}, {\\\"type\\\": \\\"formula\\\", \\\"expr\\\": \\\"toNumber(datum[\\\\\\\"a\\\\\\\"])*300+235\\\", \\\"as\\\": \\\"c_second_item\\\"}, {\\\"type\\\": \\\"formula\\\", \\\"expr\\\": \\\"toNumber(datum[\\\\\\\"a\\\\\\\"])*300+252\\\", \\\"as\\\": \\\"c_third_item\\\"}, {\\\"type\\\": \\\"formula\\\", \\\"expr\\\": \\\"toNumber(datum[\\\\\\\"a\\\\\\\"])*300+269\\\", \\\"as\\\": \\\"c_fourth_item\\\"}, {\\\"type\\\": \\\"formula\\\", \\\"expr\\\": \\\"toNumber(datum[\\\\\\\"a\\\\\\\"])*300+286\\\", \\\"as\\\": \\\"c_fifth_item\\\"}, {\\\"type\\\": \\\"formula\\\", \\\"expr\\\": \\\"toNumber(datum[\\\\\\\"a\\\\\\\"])*300+200\\\", \\\"as\\\": \\\"c_mean\\\"}, {\\\"type\\\": \\\"formula\\\", \\\"expr\\\": \\\"toNumber(datum[\\\\\\\"a\\\\\\\"])*300+220\\\", \\\"as\\\": \\\"c_min\\\"}, {\\\"type\\\": \\\"formula\\\", \\\"expr\\\": \\\"toNumber(datum[\\\\\\\"a\\\\\\\"])*300+240\\\", \\\"as\\\": \\\"c_max\\\"}, {\\\"type\\\": \\\"formula\\\", \\\"expr\\\": \\\"toNumber(datum[\\\\\\\"a\\\\\\\"])*300+260\\\", \\\"as\\\": \\\"c_median\\\"}, {\\\"type\\\": \\\"formula\\\", \\\"expr\\\": \\\"toNumber(datum[\\\\\\\"a\\\\\\\"])*300+280\\\", \\\"as\\\": \\\"c_stdev\\\"}, {\\\"type\\\": \\\"formula\\\", \\\"expr\\\": \\\"toNumber(datum[\\\\\\\"a\\\\\\\"])*300+198\\\", \\\"as\\\": \\\"c_mean_val\\\"}, {\\\"type\\\": \\\"formula\\\", \\\"expr\\\": \\\"toNumber(datum[\\\\\\\"a\\\\\\\"])*300+218\\\", \\\"as\\\": \\\"c_min_val\\\"}, {\\\"type\\\": \\\"formula\\\", \\\"expr\\\": \\\"toNumber(datum[\\\\\\\"a\\\\\\\"])*300+238\\\", \\\"as\\\": \\\"c_max_val\\\"}, {\\\"type\\\": \\\"formula\\\", \\\"expr\\\": \\\"toNumber(datum[\\\\\\\"a\\\\\\\"])*300+258\\\", \\\"as\\\": \\\"c_median_val\\\"}, {\\\"type\\\": \\\"formula\\\", \\\"expr\\\": \\\"toNumber(datum[\\\\\\\"a\\\\\\\"])*300+278\\\", \\\"as\\\": \\\"c_stdev_val\\\"}, {\\\"type\\\": \\\"formula\\\", \\\"expr\\\": \\\"toNumber(datum[\\\\\\\"a\\\\\\\"])*300+106\\\", \\\"as\\\": \\\"graph_offset\\\"}, {\\\"type\\\": \\\"formula\\\", \\\"expr\\\": \\\"toNumber(datum[\\\\\\\"a\\\\\\\"])*300+132\\\", \\\"as\\\": \\\"graph_offset_categorical\\\"}, {\\\"type\\\": \\\"formula\\\", \\\"expr\\\": \\\"(toString(datum[\\\\\\\"type\\\\\\\"]) == \\\\\\\"integer\\\\\\\" || toString(datum[\\\\\\\"type\\\\\\\"]) == \\\\\\\"float\\\\\\\")?false:true\\\", \\\"as\\\": \\\"c_clip_val\\\"}, {\\\"type\\\": \\\"formula\\\", \\\"expr\\\": \\\"(toString(datum[\\\\\\\"type\\\\\\\"]) == \\\\\\\"integer\\\\\\\" || toString(datum[\\\\\\\"type\\\\\\\"]) == \\\\\\\"float\\\\\\\")?250:0\\\", \\\"as\\\": \\\"c_width_numeric_val\\\"}, {\\\"type\\\": \\\"formula\\\", \\\"expr\\\": \\\"(toString(datum[\\\\\\\"type\\\\\\\"]) == \\\\\\\"str\\\\\\\")?false:true\\\", \\\"as\\\": \\\"c_clip_val_cat\\\"}, {\\\"type\\\": \\\"formula\\\", \\\"expr\\\": \\\"(toString(datum[\\\\\\\"type\\\\\\\"]) == \\\\\\\"str\\\\\\\")?250:0\\\", \\\"as\\\": \\\"c_width_numeric_val_cat\\\"}]}], \\\"marks\\\": [{\\\"encode\\\": {\\\"enter\\\": {\\\"x\\\": {\\\"value\\\": 0}, \\\"width\\\": {\\\"value\\\": 734}, \\\"y\\\": {\\\"value\\\": 0}, \\\"height\\\": {\\\"value\\\": 366}, \\\"clip\\\": {\\\"value\\\": 0}, \\\"fill\\\": {\\\"value\\\": \\\"#ffffff\\\"}, \\\"fillOpacity\\\": {\\\"value\\\": 0}, \\\"stroke\\\": {\\\"value\\\": \\\"#000000\\\"}, \\\"strokeWidth\\\": {\\\"value\\\": 0}}}, \\\"marks\\\": [{\\\"encode\\\": {\\\"enter\\\": {\\\"x\\\": {\\\"value\\\": 0}, \\\"width\\\": {\\\"value\\\": 734}, \\\"y\\\": {\\\"value\\\": 0}, \\\"height\\\": {\\\"value\\\": 366}, \\\"clip\\\": {\\\"value\\\": 0}, \\\"fill\\\": {\\\"value\\\": \\\"#ffffff\\\"}, \\\"fillOpacity\\\": {\\\"value\\\": 0}, \\\"stroke\\\": {\\\"value\\\": \\\"#000000\\\"}, \\\"strokeWidth\\\": {\\\"value\\\": 0}}}, \\\"scales\\\": [], \\\"axes\\\": [], \\\"marks\\\": [{\\\"from\\\": {\\\"data\\\": \\\"data_2\\\"}, \\\"encode\\\": {\\\"enter\\\": {\\\"x\\\": {\\\"value\\\": 33}, \\\"width\\\": {\\\"value\\\": 700}, \\\"y\\\": {\\\"value\\\": 66}, \\\"height\\\": {\\\"value\\\": 250}, \\\"fill\\\": {\\\"value\\\": \\\"#FEFEFE\\\"}, \\\"fillOpacity\\\": {\\\"value\\\": 1}, \\\"stroke\\\": {\\\"value\\\": \\\"#DEDEDE\\\"}, \\\"strokeWidth\\\": {\\\"value\\\": 0.5}}, \\\"update\\\": {\\\"x\\\": {\\\"signal\\\": \\\"datum[\\\\\\\"c_x_axis_back\\\\\\\"]\\\"}, \\\"y\\\": {\\\"field\\\": \\\"c_main_background\\\"}}}, \\\"type\\\": \\\"rect\\\"}, {\\\"from\\\": {\\\"data\\\": \\\"data_2\\\"}, \\\"encode\\\": {\\\"enter\\\": {\\\"x\\\": {\\\"value\\\": 33}, \\\"width\\\": {\\\"value\\\": 700}, \\\"y\\\": {\\\"value\\\": 43}, \\\"height\\\": {\\\"value\\\": 30}, \\\"fill\\\": {\\\"value\\\": \\\"#F5F5F5\\\"}, \\\"fillOpacity\\\": {\\\"value\\\": 1}, \\\"stroke\\\": {\\\"value\\\": \\\"#DEDEDE\\\"}, \\\"strokeWidth\\\": {\\\"value\\\": 0.5}}, \\\"update\\\": {\\\"x\\\": {\\\"signal\\\": \\\"datum[\\\\\\\"c_x_axis_back\\\\\\\"]\\\"}, \\\"y\\\": {\\\"field\\\": \\\"c_top_bar\\\"}}}, \\\"type\\\": \\\"rect\\\"}, {\\\"from\\\": {\\\"data\\\": \\\"data_2\\\"}, \\\"encode\\\": {\\\"enter\\\": {\\\"x\\\": {\\\"value\\\": 720}, \\\"y\\\": {\\\"value\\\": 58}, \\\"text\\\": {\\\"signal\\\": \\\"&apos;&apos;+datum[\\\\\\\"type\\\\\\\"]\\\"}, \\\"align\\\": {\\\"value\\\": \\\"right\\\"}, \\\"baseline\\\": {\\\"value\\\": \\\"middle\\\"}, \\\"dx\\\": {\\\"value\\\": 0, \\\"offset\\\": 0}, \\\"dy\\\": {\\\"value\\\": 0, \\\"offset\\\": 0}, \\\"angle\\\": {\\\"value\\\": 0}, \\\"font\\\": {\\\"value\\\": \\\"AvenirNext-Medium\\\"}, \\\"fontSize\\\": {\\\"value\\\": 12}, \\\"fontWeight\\\": {\\\"value\\\": \\\"normal\\\"}, \\\"fontStyle\\\": {\\\"value\\\": \\\"normal\\\"}, \\\"fill\\\": {\\\"value\\\": \\\"#595859\\\"}}, \\\"update\\\": {\\\"x\\\": {\\\"signal\\\": \\\"datum[\\\\\\\"c_x_axis_back\\\\\\\"]+687\\\"}, \\\"y\\\": {\\\"field\\\": \\\"c_top_type\\\"}}}, \\\"type\\\": \\\"text\\\"}, {\\\"from\\\": {\\\"data\\\": \\\"data_2\\\"}, \\\"encode\\\": {\\\"enter\\\": {\\\"x\\\": {\\\"value\\\": 44}, \\\"y\\\": {\\\"value\\\": 59}, \\\"text\\\": {\\\"signal\\\": \\\"&apos;&apos;+datum[\\\\\\\"title\\\\\\\"]\\\"}, \\\"align\\\": {\\\"value\\\": \\\"left\\\"}, \\\"baseline\\\": {\\\"value\\\": \\\"middle\\\"}, \\\"dx\\\": {\\\"value\\\": 0, \\\"offset\\\": 0}, \\\"dy\\\": {\\\"value\\\": 0, \\\"offset\\\": 0}, \\\"angle\\\": {\\\"value\\\": 0}, \\\"font\\\": {\\\"value\\\": \\\"AvenirNext-Medium\\\"}, \\\"fontSize\\\": {\\\"value\\\": 15}, \\\"fontWeight\\\": {\\\"value\\\": \\\"normal\\\"}, \\\"fontStyle\\\": {\\\"value\\\": \\\"normal\\\"}, \\\"fill\\\": {\\\"value\\\": \\\"#9B9B9B\\\"}}, \\\"update\\\": {\\\"x\\\": {\\\"signal\\\": \\\"datum[\\\\\\\"c_x_axis_back\\\\\\\"]+11\\\"}, \\\"y\\\": {\\\"field\\\": \\\"c_top_title\\\"}}}, \\\"type\\\": \\\"text\\\"}, {\\\"from\\\": {\\\"data\\\": \\\"data_2\\\"}, \\\"encode\\\": {\\\"enter\\\": {\\\"x\\\": {\\\"value\\\": 500}, \\\"y\\\": {\\\"value\\\": 178}, \\\"stroke\\\": {\\\"value\\\": \\\"#EDEDEB\\\"}, \\\"strokeWidth\\\": {\\\"value\\\": 1}, \\\"strokeCap\\\": {\\\"value\\\": \\\"butt\\\"}, \\\"x2\\\": {\\\"value\\\": 720}, \\\"y2\\\": {\\\"value\\\": 178}}, \\\"update\\\": {\\\"x\\\": {\\\"signal\\\": \\\"datum[\\\\\\\"c_x_axis_back\\\\\\\"]+467\\\"}, \\\"x2\\\": {\\\"signal\\\": \\\"datum[\\\\\\\"c_x_axis_back\\\\\\\"]+687\\\"}, \\\"y\\\": {\\\"field\\\": \\\"c_rule\\\"}, \\\"y2\\\": {\\\"field\\\": \\\"c_rule\\\"}}}, \\\"type\\\": \\\"rule\\\"}, {\\\"from\\\": {\\\"data\\\": \\\"data_2\\\"}, \\\"encode\\\": {\\\"enter\\\": {\\\"x\\\": {\\\"value\\\": 500}, \\\"y\\\": {\\\"value\\\": 106}, \\\"text\\\": {\\\"value\\\": \\\"Num. Rows:\\\"}, \\\"align\\\": {\\\"value\\\": \\\"left\\\"}, \\\"baseline\\\": {\\\"value\\\": \\\"middle\\\"}, \\\"dx\\\": {\\\"value\\\": 0, \\\"offset\\\": 0}, \\\"dy\\\": {\\\"value\\\": 0, \\\"offset\\\": 0}, \\\"angle\\\": {\\\"value\\\": 0}, \\\"font\\\": {\\\"value\\\": \\\"AvenirNext-Medium\\\"}, \\\"fontSize\\\": {\\\"value\\\": 12}, \\\"fontWeight\\\": {\\\"value\\\": \\\"normal\\\"}, \\\"fontStyle\\\": {\\\"value\\\": \\\"normal\\\"}, \\\"fill\\\": {\\\"value\\\": \\\"#4A4A4A\\\"}}, \\\"update\\\": {\\\"x\\\": {\\\"signal\\\": \\\"datum[\\\\\\\"c_x_axis_back\\\\\\\"]+467\\\"}, \\\"y\\\": {\\\"field\\\": \\\"c_num_rows\\\"}}}, \\\"type\\\": \\\"text\\\"}, {\\\"from\\\": {\\\"data\\\": \\\"data_2\\\"}, \\\"encode\\\": {\\\"enter\\\": {\\\"x\\\": {\\\"value\\\": 500}, \\\"y\\\": {\\\"value\\\": 130}, \\\"text\\\": {\\\"value\\\": \\\"Num. Unique:\\\"}, \\\"align\\\": {\\\"value\\\": \\\"left\\\"}, \\\"baseline\\\": {\\\"value\\\": \\\"middle\\\"}, \\\"dx\\\": {\\\"value\\\": 0, \\\"offset\\\": 0}, \\\"dy\\\": {\\\"value\\\": 0, \\\"offset\\\": 0}, \\\"angle\\\": {\\\"value\\\": 0}, \\\"font\\\": {\\\"value\\\": \\\"AvenirNext-Medium\\\"}, \\\"fontSize\\\": {\\\"value\\\": 12}, \\\"fontWeight\\\": {\\\"value\\\": \\\"normal\\\"}, \\\"fontStyle\\\": {\\\"value\\\": \\\"normal\\\"}, \\\"fill\\\": {\\\"value\\\": \\\"#4A4A4A\\\"}}, \\\"update\\\": {\\\"x\\\": {\\\"signal\\\": \\\"datum[\\\\\\\"c_x_axis_back\\\\\\\"]+467\\\"}, \\\"y\\\": {\\\"field\\\": \\\"c_num_unique\\\"}}}, \\\"type\\\": \\\"text\\\"}, {\\\"from\\\": {\\\"data\\\": \\\"data_2\\\"}, \\\"encode\\\": {\\\"enter\\\": {\\\"x\\\": {\\\"value\\\": 500}, \\\"y\\\": {\\\"value\\\": 154}, \\\"text\\\": {\\\"value\\\": \\\"Missing:\\\"}, \\\"align\\\": {\\\"value\\\": \\\"left\\\"}, \\\"baseline\\\": {\\\"value\\\": \\\"middle\\\"}, \\\"dx\\\": {\\\"value\\\": 0, \\\"offset\\\": 0}, \\\"dy\\\": {\\\"value\\\": 0, \\\"offset\\\": 0}, \\\"angle\\\": {\\\"value\\\": 0}, \\\"font\\\": {\\\"value\\\": \\\"AvenirNext-Medium\\\"}, \\\"fontSize\\\": {\\\"value\\\": 12}, \\\"fontWeight\\\": {\\\"value\\\": \\\"normal\\\"}, \\\"fontStyle\\\": {\\\"value\\\": \\\"normal\\\"}, \\\"fill\\\": {\\\"value\\\": \\\"#4A4A4A\\\"}}, \\\"update\\\": {\\\"x\\\": {\\\"signal\\\": \\\"datum[\\\\\\\"c_x_axis_back\\\\\\\"]+467\\\"}, \\\"y\\\": {\\\"field\\\": \\\"c_missing\\\"}}}, \\\"type\\\": \\\"text\\\"}, {\\\"from\\\": {\\\"data\\\": \\\"data_2\\\"}, \\\"encode\\\": {\\\"enter\\\": {\\\"x\\\": {\\\"value\\\": 700}, \\\"y\\\": {\\\"value\\\": 105}, \\\"text\\\": {\\\"signal\\\": \\\"toString(format(datum[\\\\\\\"num_row\\\\\\\"], \\\\\\\",\\\\\\\"))\\\"}, \\\"align\\\": {\\\"value\\\": \\\"right\\\"}, \\\"baseline\\\": {\\\"value\\\": \\\"middle\\\"}, \\\"dx\\\": {\\\"value\\\": 0, \\\"offset\\\": 0}, \\\"dy\\\": {\\\"value\\\": 0, \\\"offset\\\": 0}, \\\"angle\\\": {\\\"value\\\": 0}, \\\"font\\\": {\\\"value\\\": \\\"AvenirNext-Medium\\\"}, \\\"fontSize\\\": {\\\"value\\\": 12}, \\\"fontWeight\\\": {\\\"value\\\": \\\"normal\\\"}, \\\"fontStyle\\\": {\\\"value\\\": \\\"normal\\\"}, \\\"fill\\\": {\\\"value\\\": \\\"#5A5A5A\\\"}}, \\\"update\\\": {\\\"x\\\": {\\\"signal\\\": \\\"datum[\\\\\\\"c_x_axis_back\\\\\\\"]+667\\\"}, \\\"y\\\": {\\\"field\\\": \\\"c_num_rows_val\\\"}}}, \\\"type\\\": \\\"text\\\"}, {\\\"from\\\": {\\\"data\\\": \\\"data_2\\\"}, \\\"encode\\\": {\\\"enter\\\": {\\\"x\\\": {\\\"value\\\": 700}, \\\"y\\\": {\\\"value\\\": 130}, \\\"text\\\": {\\\"signal\\\": \\\"toString(format(datum[\\\\\\\"num_unique\\\\\\\"], \\\\\\\",\\\\\\\"))\\\"}, \\\"align\\\": {\\\"value\\\": \\\"right\\\"}, \\\"baseline\\\": {\\\"value\\\": \\\"middle\\\"}, \\\"dx\\\": {\\\"value\\\": 0, \\\"offset\\\": 0}, \\\"dy\\\": {\\\"value\\\": 0, \\\"offset\\\": 0}, \\\"angle\\\": {\\\"value\\\": 0}, \\\"font\\\": {\\\"value\\\": \\\"AvenirNext-Medium\\\"}, \\\"fontSize\\\": {\\\"value\\\": 12}, \\\"fontWeight\\\": {\\\"value\\\": \\\"normal\\\"}, \\\"fontStyle\\\": {\\\"value\\\": \\\"normal\\\"}, \\\"fill\\\": {\\\"value\\\": \\\"#5A5A5A\\\"}}, \\\"update\\\": {\\\"x\\\": {\\\"signal\\\": \\\"datum[\\\\\\\"c_x_axis_back\\\\\\\"]+667\\\"}, \\\"y\\\": {\\\"field\\\": \\\"c_num_unique_val\\\"}}}, \\\"type\\\": \\\"text\\\"}, {\\\"from\\\": {\\\"data\\\": \\\"data_2\\\"}, \\\"encode\\\": {\\\"enter\\\": {\\\"x\\\": {\\\"value\\\": 700}, \\\"y\\\": {\\\"value\\\": 154}, \\\"text\\\": {\\\"signal\\\": \\\"toString(format(datum[\\\\\\\"num_missing\\\\\\\"], \\\\\\\",\\\\\\\"))\\\"}, \\\"align\\\": {\\\"value\\\": \\\"right\\\"}, \\\"baseline\\\": {\\\"value\\\": \\\"middle\\\"}, \\\"dx\\\": {\\\"value\\\": 0, \\\"offset\\\": 0}, \\\"dy\\\": {\\\"value\\\": 0, \\\"offset\\\": 0}, \\\"angle\\\": {\\\"value\\\": 0}, \\\"font\\\": {\\\"value\\\": \\\"AvenirNext-Medium\\\"}, \\\"fontSize\\\": {\\\"value\\\": 12}, \\\"fontWeight\\\": {\\\"value\\\": \\\"normal\\\"}, \\\"fontStyle\\\": {\\\"value\\\": \\\"normal\\\"}, \\\"fill\\\": {\\\"value\\\": \\\"#5A5A5A\\\"}}, \\\"update\\\": {\\\"x\\\": {\\\"signal\\\": \\\"datum[\\\\\\\"c_x_axis_back\\\\\\\"]+667\\\"}, \\\"y\\\": {\\\"field\\\": \\\"c_missing_val\\\"}}}, \\\"type\\\": \\\"text\\\"}, {\\\"from\\\": {\\\"data\\\": \\\"data_2\\\"}, \\\"encode\\\": {\\\"enter\\\": {\\\"x\\\": {\\\"value\\\": 500}, \\\"y\\\": {\\\"value\\\": 200}, \\\"text\\\": {\\\"signal\\\": \\\"(toString(datum[\\\\\\\"type\\\\\\\"]) == \\\\\\\"str\\\\\\\")? \\\\\\\"Frequent Items\\\\\\\":\\\\\\\"\\\\\\\"\\\"}, \\\"align\\\": {\\\"value\\\": \\\"left\\\"}, \\\"baseline\\\": {\\\"value\\\": \\\"middle\\\"}, \\\"dx\\\": {\\\"value\\\": 0, \\\"offset\\\": 0}, \\\"dy\\\": {\\\"value\\\": 0, \\\"offset\\\": 0}, \\\"angle\\\": {\\\"value\\\": 0}, \\\"clip\\\": {\\\"value\\\": true}, \\\"font\\\": {\\\"value\\\": \\\"AvenirNext-Medium\\\"}, \\\"fontSize\\\": {\\\"value\\\": 11}, \\\"fontWeight\\\": {\\\"value\\\": \\\"bold\\\"}, \\\"fontStyle\\\": {\\\"value\\\": \\\"normal\\\"}, \\\"fill\\\": {\\\"value\\\": \\\"#4A4A4A\\\"}}, \\\"update\\\": {\\\"x\\\": {\\\"signal\\\": \\\"datum[\\\\\\\"c_x_axis_back\\\\\\\"]+467\\\"}, \\\"y\\\": {\\\"field\\\": \\\"c_frequent_items\\\"}}}, \\\"type\\\": \\\"text\\\"}, {\\\"from\\\": {\\\"data\\\": \\\"data_2\\\"}, \\\"encode\\\": {\\\"enter\\\": {\\\"x\\\": {\\\"value\\\": 520}, \\\"y\\\": {\\\"value\\\": 200}, \\\"text\\\": {\\\"signal\\\": \\\"((datum[\\\\\\\"categorical\\\\\\\"].length >= 1) &amp;&amp; (toString(datum[\\\\\\\"type\\\\\\\"]) == \\\\\\\"str\\\\\\\"))? toString(datum[\\\\\\\"categorical\\\\\\\"][0][\\\\\\\"label\\\\\\\"]):\\\\\\\"\\\\\\\"\\\"}, \\\"align\\\": {\\\"value\\\": \\\"left\\\"}, \\\"baseline\\\": {\\\"value\\\": \\\"middle\\\"}, \\\"dx\\\": {\\\"value\\\": 0, \\\"offset\\\": 0}, \\\"dy\\\": {\\\"value\\\": 0, \\\"offset\\\": 0}, \\\"angle\\\": {\\\"value\\\": 0}, \\\"clip\\\": {\\\"value\\\": true}, \\\"font\\\": {\\\"value\\\": \\\"AvenirNext-Medium\\\"}, \\\"fontSize\\\": {\\\"value\\\": 11}, \\\"fontWeight\\\": {\\\"value\\\": \\\"normal\\\"}, \\\"fontStyle\\\": {\\\"value\\\": \\\"normal\\\"}, \\\"fill\\\": {\\\"value\\\": \\\"#4A4A4A\\\"}}, \\\"update\\\": {\\\"x\\\": {\\\"signal\\\": \\\"datum[\\\\\\\"c_x_axis_back\\\\\\\"]+487\\\"}, \\\"y\\\": {\\\"field\\\": \\\"c_first_item\\\"}}}, \\\"type\\\": \\\"text\\\"}, {\\\"from\\\": {\\\"data\\\": \\\"data_2\\\"}, \\\"encode\\\": {\\\"enter\\\": {\\\"x\\\": {\\\"value\\\": 520}, \\\"y\\\": {\\\"value\\\": 200}, \\\"text\\\": {\\\"signal\\\": \\\"((datum[\\\\\\\"categorical\\\\\\\"].length >= 2) &amp;&amp; (toString(datum[\\\\\\\"type\\\\\\\"]) == \\\\\\\"str\\\\\\\"))? toString(datum[\\\\\\\"categorical\\\\\\\"][1][\\\\\\\"label\\\\\\\"]):\\\\\\\"\\\\\\\"\\\"}, \\\"align\\\": {\\\"value\\\": \\\"left\\\"}, \\\"baseline\\\": {\\\"value\\\": \\\"middle\\\"}, \\\"dx\\\": {\\\"value\\\": 0, \\\"offset\\\": 0}, \\\"dy\\\": {\\\"value\\\": 0, \\\"offset\\\": 0}, \\\"angle\\\": {\\\"value\\\": 0}, \\\"clip\\\": {\\\"value\\\": true}, \\\"font\\\": {\\\"value\\\": \\\"AvenirNext-Medium\\\"}, \\\"fontSize\\\": {\\\"value\\\": 11}, \\\"fontWeight\\\": {\\\"value\\\": \\\"normal\\\"}, \\\"fontStyle\\\": {\\\"value\\\": \\\"normal\\\"}, \\\"fill\\\": {\\\"value\\\": \\\"#4A4A4A\\\"}}, \\\"update\\\": {\\\"x\\\": {\\\"signal\\\": \\\"datum[\\\\\\\"c_x_axis_back\\\\\\\"]+487\\\"}, \\\"y\\\": {\\\"field\\\": \\\"c_second_item\\\"}}}, \\\"type\\\": \\\"text\\\"}, {\\\"from\\\": {\\\"data\\\": \\\"data_2\\\"}, \\\"encode\\\": {\\\"enter\\\": {\\\"x\\\": {\\\"value\\\": 520}, \\\"y\\\": {\\\"value\\\": 200}, \\\"text\\\": {\\\"signal\\\": \\\"((datum[\\\\\\\"categorical\\\\\\\"].length >= 3) &amp;&amp; (toString(datum[\\\\\\\"type\\\\\\\"]) == \\\\\\\"str\\\\\\\"))? toString(datum[\\\\\\\"categorical\\\\\\\"][2][\\\\\\\"label\\\\\\\"]):\\\\\\\"\\\\\\\"\\\"}, \\\"align\\\": {\\\"value\\\": \\\"left\\\"}, \\\"baseline\\\": {\\\"value\\\": \\\"middle\\\"}, \\\"dx\\\": {\\\"value\\\": 0, \\\"offset\\\": 0}, \\\"dy\\\": {\\\"value\\\": 0, \\\"offset\\\": 0}, \\\"angle\\\": {\\\"value\\\": 0}, \\\"clip\\\": {\\\"value\\\": true}, \\\"font\\\": {\\\"value\\\": \\\"AvenirNext-Medium\\\"}, \\\"fontSize\\\": {\\\"value\\\": 11}, \\\"fontWeight\\\": {\\\"value\\\": \\\"normal\\\"}, \\\"fontStyle\\\": {\\\"value\\\": \\\"normal\\\"}, \\\"fill\\\": {\\\"value\\\": \\\"#4A4A4A\\\"}}, \\\"update\\\": {\\\"x\\\": {\\\"signal\\\": \\\"datum[\\\\\\\"c_x_axis_back\\\\\\\"]+487\\\"}, \\\"y\\\": {\\\"field\\\": \\\"c_third_item\\\"}}}, \\\"type\\\": \\\"text\\\"}, {\\\"from\\\": {\\\"data\\\": \\\"data_2\\\"}, \\\"encode\\\": {\\\"enter\\\": {\\\"x\\\": {\\\"value\\\": 520}, \\\"y\\\": {\\\"value\\\": 200}, \\\"text\\\": {\\\"signal\\\": \\\"((datum[\\\\\\\"categorical\\\\\\\"].length >= 4) &amp;&amp; (toString(datum[\\\\\\\"type\\\\\\\"]) == \\\\\\\"str\\\\\\\"))? toString(datum[\\\\\\\"categorical\\\\\\\"][3][\\\\\\\"label\\\\\\\"]):\\\\\\\"\\\\\\\"\\\"}, \\\"align\\\": {\\\"value\\\": \\\"left\\\"}, \\\"baseline\\\": {\\\"value\\\": \\\"middle\\\"}, \\\"dx\\\": {\\\"value\\\": 0, \\\"offset\\\": 0}, \\\"dy\\\": {\\\"value\\\": 0, \\\"offset\\\": 0}, \\\"angle\\\": {\\\"value\\\": 0}, \\\"clip\\\": {\\\"value\\\": true}, \\\"font\\\": {\\\"value\\\": \\\"AvenirNext-Medium\\\"}, \\\"fontSize\\\": {\\\"value\\\": 11}, \\\"fontWeight\\\": {\\\"value\\\": \\\"normal\\\"}, \\\"fontStyle\\\": {\\\"value\\\": \\\"normal\\\"}, \\\"fill\\\": {\\\"value\\\": \\\"#4A4A4A\\\"}}, \\\"update\\\": {\\\"x\\\": {\\\"signal\\\": \\\"datum[\\\\\\\"c_x_axis_back\\\\\\\"]+487\\\"}, \\\"y\\\": {\\\"field\\\": \\\"c_fourth_item\\\"}}}, \\\"type\\\": \\\"text\\\"}, {\\\"from\\\": {\\\"data\\\": \\\"data_2\\\"}, \\\"encode\\\": {\\\"enter\\\": {\\\"x\\\": {\\\"value\\\": 520}, \\\"y\\\": {\\\"value\\\": 200}, \\\"text\\\": {\\\"signal\\\": \\\"((datum[\\\\\\\"categorical\\\\\\\"].length >= 5) &amp;&amp; (toString(datum[\\\\\\\"type\\\\\\\"]) == \\\\\\\"str\\\\\\\"))? toString(datum[\\\\\\\"categorical\\\\\\\"][4][\\\\\\\"label\\\\\\\"]):\\\\\\\"\\\\\\\"\\\"}, \\\"align\\\": {\\\"value\\\": \\\"left\\\"}, \\\"baseline\\\": {\\\"value\\\": \\\"middle\\\"}, \\\"dx\\\": {\\\"value\\\": 0, \\\"offset\\\": 0}, \\\"dy\\\": {\\\"value\\\": 0, \\\"offset\\\": 0}, \\\"angle\\\": {\\\"value\\\": 0}, \\\"clip\\\": {\\\"value\\\": true}, \\\"font\\\": {\\\"value\\\": \\\"AvenirNext-Medium\\\"}, \\\"fontSize\\\": {\\\"value\\\": 11}, \\\"fontWeight\\\": {\\\"value\\\": \\\"normal\\\"}, \\\"fontStyle\\\": {\\\"value\\\": \\\"normal\\\"}, \\\"fill\\\": {\\\"value\\\": \\\"#4A4A4A\\\"}}, \\\"update\\\": {\\\"x\\\": {\\\"signal\\\": \\\"datum[\\\\\\\"c_x_axis_back\\\\\\\"]+487\\\"}, \\\"y\\\": {\\\"field\\\": \\\"c_fifth_item\\\"}}}, \\\"type\\\": \\\"text\\\"}, {\\\"from\\\": {\\\"data\\\": \\\"data_2\\\"}, \\\"encode\\\": {\\\"enter\\\": {\\\"x\\\": {\\\"value\\\": 700}, \\\"y\\\": {\\\"value\\\": 200}, \\\"text\\\": {\\\"signal\\\": \\\"((datum[\\\\\\\"categorical\\\\\\\"].length >= 1) &amp;&amp; (toString(datum[\\\\\\\"type\\\\\\\"]) == \\\\\\\"str\\\\\\\"))? toString(datum[\\\\\\\"categorical\\\\\\\"][0][\\\\\\\"count\\\\\\\"]):\\\\\\\"\\\\\\\"\\\"}, \\\"align\\\": {\\\"value\\\": \\\"right\\\"}, \\\"baseline\\\": {\\\"value\\\": \\\"middle\\\"}, \\\"dx\\\": {\\\"value\\\": 0, \\\"offset\\\": 0}, \\\"dy\\\": {\\\"value\\\": 0, \\\"offset\\\": 0}, \\\"angle\\\": {\\\"value\\\": 0}, \\\"clip\\\": {\\\"value\\\": true}, \\\"font\\\": {\\\"value\\\": \\\"AvenirNext-Medium\\\"}, \\\"fontSize\\\": {\\\"value\\\": 11}, \\\"fontWeight\\\": {\\\"value\\\": \\\"normal\\\"}, \\\"fontStyle\\\": {\\\"value\\\": \\\"normal\\\"}, \\\"fill\\\": {\\\"value\\\": \\\"#7A7A7A\\\"}}, \\\"update\\\": {\\\"x\\\": {\\\"signal\\\": \\\"datum[\\\\\\\"c_x_axis_back\\\\\\\"]+667\\\"}, \\\"y\\\": {\\\"field\\\": \\\"c_first_item\\\"}}}, \\\"type\\\": \\\"text\\\"}, {\\\"from\\\": {\\\"data\\\": \\\"data_2\\\"}, \\\"encode\\\": {\\\"enter\\\": {\\\"x\\\": {\\\"value\\\": 700}, \\\"y\\\": {\\\"value\\\": 200}, \\\"text\\\": {\\\"signal\\\": \\\"((datum[\\\\\\\"categorical\\\\\\\"].length >= 2) &amp;&amp; (toString(datum[\\\\\\\"type\\\\\\\"]) == \\\\\\\"str\\\\\\\"))? toString(datum[\\\\\\\"categorical\\\\\\\"][1][\\\\\\\"count\\\\\\\"]):\\\\\\\"\\\\\\\"\\\"}, \\\"align\\\": {\\\"value\\\": \\\"right\\\"}, \\\"baseline\\\": {\\\"value\\\": \\\"middle\\\"}, \\\"dx\\\": {\\\"value\\\": 0, \\\"offset\\\": 0}, \\\"dy\\\": {\\\"value\\\": 0, \\\"offset\\\": 0}, \\\"angle\\\": {\\\"value\\\": 0}, \\\"clip\\\": {\\\"value\\\": true}, \\\"font\\\": {\\\"value\\\": \\\"AvenirNext-Medium\\\"}, \\\"fontSize\\\": {\\\"value\\\": 10}, \\\"fontWeight\\\": {\\\"value\\\": \\\"normal\\\"}, \\\"fontStyle\\\": {\\\"value\\\": \\\"normal\\\"}, \\\"fill\\\": {\\\"value\\\": \\\"#7A7A7A\\\"}}, \\\"update\\\": {\\\"x\\\": {\\\"signal\\\": \\\"datum[\\\\\\\"c_x_axis_back\\\\\\\"]+667\\\"}, \\\"y\\\": {\\\"field\\\": \\\"c_second_item\\\"}}}, \\\"type\\\": \\\"text\\\"}, {\\\"from\\\": {\\\"data\\\": \\\"data_2\\\"}, \\\"encode\\\": {\\\"enter\\\": {\\\"x\\\": {\\\"value\\\": 700}, \\\"y\\\": {\\\"value\\\": 200}, \\\"text\\\": {\\\"signal\\\": \\\"((datum[\\\\\\\"categorical\\\\\\\"].length >= 3) &amp;&amp; (toString(datum[\\\\\\\"type\\\\\\\"]) == \\\\\\\"str\\\\\\\"))? toString(datum[\\\\\\\"categorical\\\\\\\"][2][\\\\\\\"count\\\\\\\"]):\\\\\\\"\\\\\\\"\\\"}, \\\"align\\\": {\\\"value\\\": \\\"right\\\"}, \\\"baseline\\\": {\\\"value\\\": \\\"middle\\\"}, \\\"dx\\\": {\\\"value\\\": 0, \\\"offset\\\": 0}, \\\"dy\\\": {\\\"value\\\": 0, \\\"offset\\\": 0}, \\\"angle\\\": {\\\"value\\\": 0}, \\\"clip\\\": {\\\"value\\\": true}, \\\"font\\\": {\\\"value\\\": \\\"AvenirNext-Medium\\\"}, \\\"fontSize\\\": {\\\"value\\\": 10}, \\\"fontWeight\\\": {\\\"value\\\": \\\"normal\\\"}, \\\"fontStyle\\\": {\\\"value\\\": \\\"normal\\\"}, \\\"fill\\\": {\\\"value\\\": \\\"#7A7A7A\\\"}}, \\\"update\\\": {\\\"x\\\": {\\\"signal\\\": \\\"datum[\\\\\\\"c_x_axis_back\\\\\\\"]+667\\\"}, \\\"y\\\": {\\\"field\\\": \\\"c_third_item\\\"}}}, \\\"type\\\": \\\"text\\\"}, {\\\"from\\\": {\\\"data\\\": \\\"data_2\\\"}, \\\"encode\\\": {\\\"enter\\\": {\\\"x\\\": {\\\"value\\\": 700}, \\\"y\\\": {\\\"value\\\": 200}, \\\"text\\\": {\\\"signal\\\": \\\"((datum[\\\\\\\"categorical\\\\\\\"].length >= 4) &amp;&amp; (toString(datum[\\\\\\\"type\\\\\\\"]) == \\\\\\\"str\\\\\\\"))? toString(datum[\\\\\\\"categorical\\\\\\\"][3][\\\\\\\"count\\\\\\\"]):\\\\\\\"\\\\\\\"\\\"}, \\\"align\\\": {\\\"value\\\": \\\"right\\\"}, \\\"baseline\\\": {\\\"value\\\": \\\"middle\\\"}, \\\"dx\\\": {\\\"value\\\": 0, \\\"offset\\\": 0}, \\\"dy\\\": {\\\"value\\\": 0, \\\"offset\\\": 0}, \\\"angle\\\": {\\\"value\\\": 0}, \\\"clip\\\": {\\\"value\\\": true}, \\\"font\\\": {\\\"value\\\": \\\"AvenirNext-Medium\\\"}, \\\"fontSize\\\": {\\\"value\\\": 10}, \\\"fontWeight\\\": {\\\"value\\\": \\\"normal\\\"}, \\\"fontStyle\\\": {\\\"value\\\": \\\"normal\\\"}, \\\"fill\\\": {\\\"value\\\": \\\"#7A7A7A\\\"}}, \\\"update\\\": {\\\"x\\\": {\\\"signal\\\": \\\"datum[\\\\\\\"c_x_axis_back\\\\\\\"]+667\\\"}, \\\"y\\\": {\\\"field\\\": \\\"c_fourth_item\\\"}}}, \\\"type\\\": \\\"text\\\"}, {\\\"from\\\": {\\\"data\\\": \\\"data_2\\\"}, \\\"encode\\\": {\\\"enter\\\": {\\\"x\\\": {\\\"value\\\": 700}, \\\"y\\\": {\\\"value\\\": 200}, \\\"text\\\": {\\\"signal\\\": \\\"((datum[\\\\\\\"categorical\\\\\\\"].length >= 5) &amp;&amp; (toString(datum[\\\\\\\"type\\\\\\\"]) == \\\\\\\"str\\\\\\\"))? toString(datum[\\\\\\\"categorical\\\\\\\"][4][\\\\\\\"count\\\\\\\"]):\\\\\\\"\\\\\\\"\\\"}, \\\"align\\\": {\\\"value\\\": \\\"right\\\"}, \\\"baseline\\\": {\\\"value\\\": \\\"middle\\\"}, \\\"dx\\\": {\\\"value\\\": 0, \\\"offset\\\": 0}, \\\"dy\\\": {\\\"value\\\": 0, \\\"offset\\\": 0}, \\\"angle\\\": {\\\"value\\\": 0}, \\\"clip\\\": {\\\"value\\\": true}, \\\"font\\\": {\\\"value\\\": \\\"AvenirNext-Medium\\\"}, \\\"fontSize\\\": {\\\"value\\\": 10}, \\\"fontWeight\\\": {\\\"value\\\": \\\"normal\\\"}, \\\"fontStyle\\\": {\\\"value\\\": \\\"normal\\\"}, \\\"fill\\\": {\\\"value\\\": \\\"#7A7A7A\\\"}}, \\\"update\\\": {\\\"x\\\": {\\\"signal\\\": \\\"datum[\\\\\\\"c_x_axis_back\\\\\\\"]+667\\\"}, \\\"y\\\": {\\\"field\\\": \\\"c_fifth_item\\\"}}}, \\\"type\\\": \\\"text\\\"}, {\\\"from\\\": {\\\"data\\\": \\\"data_2\\\"}, \\\"encode\\\": {\\\"enter\\\": {\\\"x\\\": {\\\"value\\\": 500}, \\\"y\\\": {\\\"value\\\": 200}, \\\"text\\\": {\\\"signal\\\": \\\"(toString(datum[\\\\\\\"type\\\\\\\"]) == \\\\\\\"integer\\\\\\\" || toString(datum[\\\\\\\"type\\\\\\\"]) == \\\\\\\"float\\\\\\\")? \\\\\\\"Mean:\\\\\\\":\\\\\\\"\\\\\\\"\\\"}, \\\"align\\\": {\\\"value\\\": \\\"left\\\"}, \\\"baseline\\\": {\\\"value\\\": \\\"middle\\\"}, \\\"dx\\\": {\\\"value\\\": 0, \\\"offset\\\": 0}, \\\"dy\\\": {\\\"value\\\": 0, \\\"offset\\\": 0}, \\\"angle\\\": {\\\"value\\\": 0}, \\\"clip\\\": {\\\"value\\\": true}, \\\"font\\\": {\\\"value\\\": \\\"AvenirNext-Medium\\\"}, \\\"fontSize\\\": {\\\"value\\\": 11}, \\\"fontWeight\\\": {\\\"value\\\": \\\"bold\\\"}, \\\"fontStyle\\\": {\\\"value\\\": \\\"normal\\\"}, \\\"fill\\\": {\\\"value\\\": \\\"#4A4A4A\\\"}}, \\\"update\\\": {\\\"x\\\": {\\\"signal\\\": \\\"datum[\\\\\\\"c_x_axis_back\\\\\\\"]+467\\\"}, \\\"y\\\": {\\\"field\\\": \\\"c_mean\\\"}}}, \\\"type\\\": \\\"text\\\"}, {\\\"from\\\": {\\\"data\\\": \\\"data_2\\\"}, \\\"encode\\\": {\\\"enter\\\": {\\\"x\\\": {\\\"value\\\": 500}, \\\"y\\\": {\\\"value\\\": 220}, \\\"text\\\": {\\\"signal\\\": \\\"(toString(datum[\\\\\\\"type\\\\\\\"]) == \\\\\\\"integer\\\\\\\" || toString(datum[\\\\\\\"type\\\\\\\"]) == \\\\\\\"float\\\\\\\")? \\\\\\\"Min:\\\\\\\":\\\\\\\"\\\\\\\"\\\"}, \\\"align\\\": {\\\"value\\\": \\\"left\\\"}, \\\"baseline\\\": {\\\"value\\\": \\\"middle\\\"}, \\\"dx\\\": {\\\"value\\\": 0, \\\"offset\\\": 0}, \\\"dy\\\": {\\\"value\\\": 0, \\\"offset\\\": 0}, \\\"angle\\\": {\\\"value\\\": 0}, \\\"font\\\": {\\\"value\\\": \\\"AvenirNext-Medium\\\"}, \\\"fontSize\\\": {\\\"value\\\": 11}, \\\"fontWeight\\\": {\\\"value\\\": \\\"bold\\\"}, \\\"fontStyle\\\": {\\\"value\\\": \\\"normal\\\"}, \\\"fill\\\": {\\\"value\\\": \\\"#4A4A4A\\\"}}, \\\"update\\\": {\\\"x\\\": {\\\"signal\\\": \\\"datum[\\\\\\\"c_x_axis_back\\\\\\\"]+467\\\"}, \\\"y\\\": {\\\"field\\\": \\\"c_min\\\"}}}, \\\"type\\\": \\\"text\\\"}, {\\\"from\\\": {\\\"data\\\": \\\"data_2\\\"}, \\\"encode\\\": {\\\"enter\\\": {\\\"x\\\": {\\\"value\\\": 500}, \\\"y\\\": {\\\"value\\\": 240}, \\\"text\\\": {\\\"signal\\\": \\\"(toString(datum[\\\\\\\"type\\\\\\\"]) == \\\\\\\"integer\\\\\\\" || toString(datum[\\\\\\\"type\\\\\\\"]) == \\\\\\\"float\\\\\\\")? \\\\\\\"Max:\\\\\\\":\\\\\\\"\\\\\\\"\\\"}, \\\"align\\\": {\\\"value\\\": \\\"left\\\"}, \\\"baseline\\\": {\\\"value\\\": \\\"middle\\\"}, \\\"dx\\\": {\\\"value\\\": 0, \\\"offset\\\": 0}, \\\"dy\\\": {\\\"value\\\": 0, \\\"offset\\\": 0}, \\\"angle\\\": {\\\"value\\\": 0}, \\\"font\\\": {\\\"value\\\": \\\"AvenirNext-Medium\\\"}, \\\"fontSize\\\": {\\\"value\\\": 11}, \\\"fontWeight\\\": {\\\"value\\\": \\\"bold\\\"}, \\\"fontStyle\\\": {\\\"value\\\": \\\"normal\\\"}, \\\"fill\\\": {\\\"value\\\": \\\"#4A4A4A\\\"}}, \\\"update\\\": {\\\"x\\\": {\\\"signal\\\": \\\"datum[\\\\\\\"c_x_axis_back\\\\\\\"]+467\\\"}, \\\"y\\\": {\\\"field\\\": \\\"c_max\\\"}}}, \\\"type\\\": \\\"text\\\"}, {\\\"from\\\": {\\\"data\\\": \\\"data_2\\\"}, \\\"encode\\\": {\\\"enter\\\": {\\\"x\\\": {\\\"value\\\": 500}, \\\"y\\\": {\\\"value\\\": 260}, \\\"text\\\": {\\\"signal\\\": \\\"(toString(datum[\\\\\\\"type\\\\\\\"]) == \\\\\\\"integer\\\\\\\" || toString(datum[\\\\\\\"type\\\\\\\"]) == \\\\\\\"float\\\\\\\")? \\\\\\\"Median:\\\\\\\":\\\\\\\"\\\\\\\"\\\"}, \\\"align\\\": {\\\"value\\\": \\\"left\\\"}, \\\"baseline\\\": {\\\"value\\\": \\\"middle\\\"}, \\\"dx\\\": {\\\"value\\\": 0, \\\"offset\\\": 0}, \\\"dy\\\": {\\\"value\\\": 0, \\\"offset\\\": 0}, \\\"angle\\\": {\\\"value\\\": 0}, \\\"font\\\": {\\\"value\\\": \\\"AvenirNext-Medium\\\"}, \\\"fontSize\\\": {\\\"value\\\": 11}, \\\"fontWeight\\\": {\\\"value\\\": \\\"bold\\\"}, \\\"fontStyle\\\": {\\\"value\\\": \\\"normal\\\"}, \\\"fill\\\": {\\\"value\\\": \\\"#4A4A4A\\\"}}, \\\"update\\\": {\\\"x\\\": {\\\"signal\\\": \\\"datum[\\\\\\\"c_x_axis_back\\\\\\\"]+467\\\"}, \\\"y\\\": {\\\"field\\\": \\\"c_median\\\"}}}, \\\"type\\\": \\\"text\\\"}, {\\\"from\\\": {\\\"data\\\": \\\"data_2\\\"}, \\\"encode\\\": {\\\"enter\\\": {\\\"x\\\": {\\\"value\\\": 500}, \\\"y\\\": {\\\"value\\\": 280}, \\\"text\\\": {\\\"signal\\\": \\\"(toString(datum[\\\\\\\"type\\\\\\\"]) == \\\\\\\"integer\\\\\\\" || toString(datum[\\\\\\\"type\\\\\\\"]) == \\\\\\\"float\\\\\\\")? \\\\\\\"St. Dev:\\\\\\\":\\\\\\\"\\\\\\\"\\\"}, \\\"align\\\": {\\\"value\\\": \\\"left\\\"}, \\\"baseline\\\": {\\\"value\\\": \\\"middle\\\"}, \\\"dx\\\": {\\\"value\\\": 0, \\\"offset\\\": 0}, \\\"dy\\\": {\\\"value\\\": 0, \\\"offset\\\": 0}, \\\"angle\\\": {\\\"value\\\": 0}, \\\"font\\\": {\\\"value\\\": \\\"AvenirNext-Medium\\\"}, \\\"fontSize\\\": {\\\"value\\\": 11}, \\\"fontWeight\\\": {\\\"value\\\": \\\"bold\\\"}, \\\"fontStyle\\\": {\\\"value\\\": \\\"normal\\\"}, \\\"fill\\\": {\\\"value\\\": \\\"#4A4A4A\\\"}}, \\\"update\\\": {\\\"x\\\": {\\\"signal\\\": \\\"datum[\\\\\\\"c_x_axis_back\\\\\\\"]+467\\\"}, \\\"y\\\": {\\\"field\\\": \\\"c_stdev\\\"}}}, \\\"type\\\": \\\"text\\\"}, {\\\"from\\\": {\\\"data\\\": \\\"data_2\\\"}, \\\"encode\\\": {\\\"enter\\\": {\\\"x\\\": {\\\"value\\\": 700}, \\\"y\\\": {\\\"value\\\": 198}, \\\"text\\\": {\\\"signal\\\": \\\"(toString(datum[\\\\\\\"type\\\\\\\"]) == \\\\\\\"integer\\\\\\\" || toString(datum[\\\\\\\"type\\\\\\\"]) == \\\\\\\"float\\\\\\\")?toString(format(datum[\\\\\\\"mean\\\\\\\"], \\\\\\\",\\\\\\\")):\\\\\\\"\\\\\\\"\\\"}, \\\"align\\\": {\\\"value\\\": \\\"right\\\"}, \\\"baseline\\\": {\\\"value\\\": \\\"middle\\\"}, \\\"dx\\\": {\\\"value\\\": 0, \\\"offset\\\": 0}, \\\"dy\\\": {\\\"value\\\": 0, \\\"offset\\\": 0}, \\\"angle\\\": {\\\"value\\\": 0}, \\\"font\\\": {\\\"value\\\": \\\"AvenirNext-Medium\\\"}, \\\"fontSize\\\": {\\\"value\\\": 10}, \\\"fontWeight\\\": {\\\"value\\\": \\\"normal\\\"}, \\\"fontStyle\\\": {\\\"value\\\": \\\"normal\\\"}, \\\"fill\\\": {\\\"value\\\": \\\"#6A6A6A\\\"}}, \\\"update\\\": {\\\"x\\\": {\\\"signal\\\": \\\"datum[\\\\\\\"c_x_axis_back\\\\\\\"]+667\\\"}, \\\"y\\\": {\\\"field\\\": \\\"c_mean_val\\\"}}}, \\\"type\\\": \\\"text\\\"}, {\\\"from\\\": {\\\"data\\\": \\\"data_2\\\"}, \\\"encode\\\": {\\\"enter\\\": {\\\"x\\\": {\\\"value\\\": 700}, \\\"y\\\": {\\\"value\\\": 218}, \\\"text\\\": {\\\"signal\\\": \\\"(toString(datum[\\\\\\\"type\\\\\\\"]) == \\\\\\\"integer\\\\\\\" || toString(datum[\\\\\\\"type\\\\\\\"]) == \\\\\\\"float\\\\\\\")?toString(format(datum[\\\\\\\"min\\\\\\\"], \\\\\\\",\\\\\\\")):\\\\\\\"\\\\\\\"\\\"}, \\\"align\\\": {\\\"value\\\": \\\"right\\\"}, \\\"baseline\\\": {\\\"value\\\": \\\"middle\\\"}, \\\"dx\\\": {\\\"value\\\": 0, \\\"offset\\\": 0}, \\\"dy\\\": {\\\"value\\\": 0, \\\"offset\\\": 0}, \\\"angle\\\": {\\\"value\\\": 0}, \\\"font\\\": {\\\"value\\\": \\\"AvenirNext-Medium\\\"}, \\\"fontSize\\\": {\\\"value\\\": 10}, \\\"fontWeight\\\": {\\\"value\\\": \\\"normal\\\"}, \\\"fontStyle\\\": {\\\"value\\\": \\\"normal\\\"}, \\\"fill\\\": {\\\"value\\\": \\\"#6A6A6A\\\"}}, \\\"update\\\": {\\\"x\\\": {\\\"signal\\\": \\\"datum[\\\\\\\"c_x_axis_back\\\\\\\"]+667\\\"}, \\\"y\\\": {\\\"field\\\": \\\"c_min_val\\\"}}}, \\\"type\\\": \\\"text\\\"}, {\\\"from\\\": {\\\"data\\\": \\\"data_2\\\"}, \\\"encode\\\": {\\\"enter\\\": {\\\"x\\\": {\\\"value\\\": 700}, \\\"y\\\": {\\\"value\\\": 238}, \\\"text\\\": {\\\"signal\\\": \\\"(toString(datum[\\\\\\\"type\\\\\\\"]) == \\\\\\\"integer\\\\\\\" || toString(datum[\\\\\\\"type\\\\\\\"]) == \\\\\\\"float\\\\\\\")?toString(format(datum[\\\\\\\"max\\\\\\\"], \\\\\\\",\\\\\\\")):\\\\\\\"\\\\\\\"\\\"}, \\\"align\\\": {\\\"value\\\": \\\"right\\\"}, \\\"baseline\\\": {\\\"value\\\": \\\"middle\\\"}, \\\"dx\\\": {\\\"value\\\": 0, \\\"offset\\\": 0}, \\\"dy\\\": {\\\"value\\\": 0, \\\"offset\\\": 0}, \\\"angle\\\": {\\\"value\\\": 0}, \\\"font\\\": {\\\"value\\\": \\\"AvenirNext-Medium\\\"}, \\\"fontSize\\\": {\\\"value\\\": 10}, \\\"fontWeight\\\": {\\\"value\\\": \\\"normal\\\"}, \\\"fontStyle\\\": {\\\"value\\\": \\\"normal\\\"}, \\\"fill\\\": {\\\"value\\\": \\\"#6A6A6A\\\"}}, \\\"update\\\": {\\\"x\\\": {\\\"signal\\\": \\\"datum[\\\\\\\"c_x_axis_back\\\\\\\"]+667\\\"}, \\\"y\\\": {\\\"field\\\": \\\"c_max_val\\\"}}}, \\\"type\\\": \\\"text\\\"}, {\\\"from\\\": {\\\"data\\\": \\\"data_2\\\"}, \\\"encode\\\": {\\\"enter\\\": {\\\"x\\\": {\\\"value\\\": 700}, \\\"y\\\": {\\\"value\\\": 258}, \\\"text\\\": {\\\"signal\\\": \\\"(toString(datum[\\\\\\\"type\\\\\\\"]) == \\\\\\\"integer\\\\\\\" || toString(datum[\\\\\\\"type\\\\\\\"]) == \\\\\\\"float\\\\\\\")?toString(format(datum[\\\\\\\"median\\\\\\\"], \\\\\\\",\\\\\\\")):\\\\\\\"\\\\\\\"\\\"}, \\\"align\\\": {\\\"value\\\": \\\"right\\\"}, \\\"baseline\\\": {\\\"value\\\": \\\"middle\\\"}, \\\"dx\\\": {\\\"value\\\": 0, \\\"offset\\\": 0}, \\\"dy\\\": {\\\"value\\\": 0, \\\"offset\\\": 0}, \\\"angle\\\": {\\\"value\\\": 0}, \\\"font\\\": {\\\"value\\\": \\\"AvenirNext-Medium\\\"}, \\\"fontSize\\\": {\\\"value\\\": 10}, \\\"fontWeight\\\": {\\\"value\\\": \\\"normal\\\"}, \\\"fontStyle\\\": {\\\"value\\\": \\\"normal\\\"}, \\\"fill\\\": {\\\"value\\\": \\\"#6A6A6A\\\"}}, \\\"update\\\": {\\\"x\\\": {\\\"signal\\\": \\\"datum[\\\\\\\"c_x_axis_back\\\\\\\"]+667\\\"}, \\\"y\\\": {\\\"field\\\": \\\"c_median_val\\\"}}}, \\\"type\\\": \\\"text\\\"}, {\\\"from\\\": {\\\"data\\\": \\\"data_2\\\"}, \\\"encode\\\": {\\\"enter\\\": {\\\"x\\\": {\\\"value\\\": 700}, \\\"y\\\": {\\\"value\\\": 278}, \\\"text\\\": {\\\"signal\\\": \\\"(toString(datum[\\\\\\\"type\\\\\\\"]) == \\\\\\\"integer\\\\\\\" || toString(datum[\\\\\\\"type\\\\\\\"]) == \\\\\\\"float\\\\\\\")?toString(format(datum[\\\\\\\"stdev\\\\\\\"], \\\\\\\",\\\\\\\")):\\\\\\\"\\\\\\\"\\\"}, \\\"align\\\": {\\\"value\\\": \\\"right\\\"}, \\\"baseline\\\": {\\\"value\\\": \\\"middle\\\"}, \\\"dx\\\": {\\\"value\\\": 0, \\\"offset\\\": 0}, \\\"dy\\\": {\\\"value\\\": 0, \\\"offset\\\": 0}, \\\"angle\\\": {\\\"value\\\": 0}, \\\"font\\\": {\\\"value\\\": \\\"AvenirNext-Medium\\\"}, \\\"fontSize\\\": {\\\"value\\\": 10}, \\\"fontWeight\\\": {\\\"value\\\": \\\"normal\\\"}, \\\"fontStyle\\\": {\\\"value\\\": \\\"normal\\\"}, \\\"fill\\\": {\\\"value\\\": \\\"#6A6A6A\\\"}}, \\\"update\\\": {\\\"x\\\": {\\\"signal\\\": \\\"datum[\\\\\\\"c_x_axis_back\\\\\\\"]+667\\\"}, \\\"y\\\": {\\\"field\\\": \\\"c_stdev_val\\\"}}}, \\\"type\\\": \\\"text\\\"}, {\\\"from\\\": {\\\"facet\\\": {\\\"name\\\": \\\"new_data\\\", \\\"data\\\": \\\"data_2\\\", \\\"field\\\": \\\"numeric\\\"}}, \\\"encode\\\": {\\\"enter\\\": {\\\"x\\\": {\\\"value\\\": 120}, \\\"width\\\": {\\\"value\\\": 250}, \\\"y\\\": {\\\"field\\\": \\\"graph_offset\\\"}, \\\"height\\\": {\\\"value\\\": 150}, \\\"fill\\\": {\\\"value\\\": \\\"#ffffff\\\"}, \\\"fillOpacity\\\": {\\\"value\\\": 0}, \\\"stroke\\\": {\\\"value\\\": \\\"#000000\\\"}, \\\"strokeWidth\\\": {\\\"value\\\": 0}}, \\\"update\\\": {\\\"x\\\": {\\\"signal\\\": \\\"datum[\\\\\\\"c_x_axis_back\\\\\\\"]+87\\\"}, \\\"clip\\\": {\\\"field\\\": \\\"c_clip_val\\\"}, \\\"width\\\": {\\\"field\\\": \\\"c_width_numeric_val\\\"}}}, \\\"type\\\": \\\"group\\\", \\\"scales\\\": [{\\\"name\\\": \\\"x\\\", \\\"type\\\": \\\"linear\\\", \\\"domain\\\": {\\\"data\\\": \\\"new_data\\\", \\\"fields\\\": [\\\"left\\\", \\\"right\\\"], \\\"sort\\\": true}, \\\"range\\\": [0, {\\\"signal\\\": \\\"width\\\"}], \\\"nice\\\": true, \\\"zero\\\": true}, {\\\"name\\\": \\\"y\\\", \\\"type\\\": \\\"linear\\\", \\\"domain\\\": {\\\"data\\\": \\\"new_data\\\", \\\"field\\\": \\\"count\\\"}, \\\"range\\\": [{\\\"signal\\\": \\\"height\\\"}, 0], \\\"nice\\\": true, \\\"zero\\\": true}], \\\"axes\\\": [{\\\"title\\\": \\\"Values\\\", \\\"scale\\\": \\\"x\\\", \\\"labelOverlap\\\": true, \\\"orient\\\": \\\"bottom\\\", \\\"tickCount\\\": {\\\"signal\\\": \\\"ceil(width/40)\\\"}, \\\"zindex\\\": 1}, {\\\"scale\\\": \\\"x\\\", \\\"domain\\\": false, \\\"grid\\\": true, \\\"labels\\\": false, \\\"maxExtent\\\": 0, \\\"minExtent\\\": 0, \\\"orient\\\": \\\"bottom\\\", \\\"tickCount\\\": {\\\"signal\\\": \\\"ceil(width/40)\\\"}, \\\"ticks\\\": false, \\\"zindex\\\": 0, \\\"gridScale\\\": \\\"y\\\"}, {\\\"title\\\": \\\"Count\\\", \\\"scale\\\": \\\"y\\\", \\\"labelOverlap\\\": true, \\\"orient\\\": \\\"left\\\", \\\"tickCount\\\": {\\\"signal\\\": \\\"ceil(height/40)\\\"}, \\\"zindex\\\": 1}, {\\\"scale\\\": \\\"y\\\", \\\"domain\\\": false, \\\"grid\\\": true, \\\"labels\\\": false, \\\"maxExtent\\\": 0, \\\"minExtent\\\": 0, \\\"orient\\\": \\\"left\\\", \\\"tickCount\\\": {\\\"signal\\\": \\\"ceil(height/40)\\\"}, \\\"ticks\\\": false, \\\"zindex\\\": 0, \\\"gridScale\\\": \\\"x\\\"}], \\\"style\\\": \\\"cell\\\", \\\"signals\\\": [{\\\"name\\\": \\\"width\\\", \\\"update\\\": \\\"250\\\"}, {\\\"name\\\": \\\"height\\\", \\\"update\\\": \\\"150\\\"}], \\\"marks\\\": [{\\\"name\\\": \\\"marks\\\", \\\"type\\\": \\\"rect\\\", \\\"style\\\": [\\\"rect\\\"], \\\"from\\\": {\\\"data\\\": \\\"new_data\\\"}, \\\"encode\\\": {\\\"hover\\\": {\\\"fill\\\": {\\\"value\\\": \\\"#7EC2F3\\\"}}, \\\"update\\\": {\\\"x\\\": {\\\"scale\\\": \\\"x\\\", \\\"field\\\": \\\"left\\\"}, \\\"x2\\\": {\\\"scale\\\": \\\"x\\\", \\\"field\\\": \\\"right\\\"}, \\\"y\\\": {\\\"scale\\\": \\\"y\\\", \\\"field\\\": \\\"count\\\"}, \\\"y2\\\": {\\\"scale\\\": \\\"y\\\", \\\"value\\\": 0}, \\\"fill\\\": {\\\"value\\\": \\\"#108EE9\\\"}}}}]}, {\\\"from\\\": {\\\"facet\\\": {\\\"name\\\": \\\"data_5\\\", \\\"data\\\": \\\"data_2\\\", \\\"field\\\": \\\"categorical\\\"}}, \\\"encode\\\": {\\\"enter\\\": {\\\"x\\\": {\\\"value\\\": 170}, \\\"width\\\": {\\\"value\\\": 250}, \\\"y\\\": {\\\"field\\\": \\\"graph_offset_categorical\\\"}, \\\"height\\\": {\\\"value\\\": 150}, \\\"fill\\\": {\\\"value\\\": \\\"#ffffff\\\"}, \\\"fillOpacity\\\": {\\\"value\\\": 0}, \\\"stroke\\\": {\\\"value\\\": \\\"#000000\\\"}, \\\"strokeWidth\\\": {\\\"value\\\": 0}}, \\\"update\\\": {\\\"x\\\": {\\\"signal\\\": \\\"datum[\\\\\\\"c_x_axis_back\\\\\\\"]+137\\\"}, \\\"clip\\\": {\\\"field\\\": \\\"c_clip_val_cat\\\"}, \\\"width\\\": {\\\"field\\\": \\\"c_width_numeric_val_cat\\\"}}}, \\\"type\\\": \\\"group\\\", \\\"style\\\": \\\"cell\\\", \\\"signals\\\": [{\\\"name\\\": \\\"unit\\\", \\\"value\\\": {}, \\\"on\\\": [{\\\"events\\\": \\\"mousemove\\\", \\\"update\\\": \\\"isTuple(group()) ? group() : unit\\\"}]}, {\\\"name\\\": \\\"pts\\\", \\\"update\\\": \\\"data(\\\\\\\"pts_store\\\\\\\").length &amp;&amp; {count: data(\\\\\\\"pts_store\\\\\\\")[0].values[0]}\\\"}, {\\\"name\\\": \\\"pts_tuple\\\", \\\"value\\\": {}, \\\"on\\\": [{\\\"events\\\": [{\\\"source\\\": \\\"scope\\\", \\\"type\\\": \\\"click\\\"}], \\\"update\\\": \\\"datum &amp;&amp; item().mark.marktype !== &apos;group&apos; ? {unit: \\\\\\\"\\\\\\\", encodings: [\\\\\\\"x\\\\\\\"], fields: [\\\\\\\"count\\\\\\\"], values: [datum[\\\\\\\"count\\\\\\\"]]} : null\\\", \\\"force\\\": true}]}, {\\\"name\\\": \\\"pts_modify\\\", \\\"on\\\": [{\\\"events\\\": {\\\"signal\\\": \\\"pts_tuple\\\"}, \\\"update\\\": \\\"modify(\\\\\\\"pts_store\\\\\\\", pts_tuple, true)\\\"}]}], \\\"marks\\\": [{\\\"name\\\": \\\"marks\\\", \\\"type\\\": \\\"rect\\\", \\\"style\\\": [\\\"bar\\\"], \\\"from\\\": {\\\"data\\\": \\\"data_5\\\"}, \\\"encode\\\": {\\\"hover\\\": {\\\"fill\\\": {\\\"value\\\": \\\"#7EC2F3\\\"}}, \\\"update\\\": {\\\"x\\\": {\\\"scale\\\": \\\"x\\\", \\\"field\\\": \\\"count\\\"}, \\\"x2\\\": {\\\"scale\\\": \\\"x\\\", \\\"value\\\": 0}, \\\"y\\\": {\\\"scale\\\": \\\"y\\\", \\\"field\\\": \\\"label\\\"}, \\\"height\\\": {\\\"scale\\\": \\\"y\\\", \\\"band\\\": true}, \\\"fill\\\": {\\\"value\\\": \\\"#108EE9\\\"}}}}], \\\"scales\\\": [{\\\"name\\\": \\\"x\\\", \\\"type\\\": \\\"linear\\\", \\\"domain\\\": {\\\"data\\\": \\\"data_5\\\", \\\"field\\\": \\\"count\\\"}, \\\"range\\\": [0, 250], \\\"nice\\\": true, \\\"zero\\\": true}, {\\\"name\\\": \\\"y\\\", \\\"type\\\": \\\"band\\\", \\\"domain\\\": {\\\"data\\\": \\\"data_5\\\", \\\"field\\\": \\\"label\\\", \\\"sort\\\": {\\\"op\\\": \\\"mean\\\", \\\"field\\\": \\\"label_idx\\\", \\\"order\\\": \\\"descending\\\"}}, \\\"range\\\": [150, 0], \\\"paddingInner\\\": 0.1, \\\"paddingOuter\\\": 0.05}], \\\"axes\\\": [{\\\"orient\\\": \\\"top\\\", \\\"scale\\\": \\\"x\\\", \\\"labelOverlap\\\": true, \\\"tickCount\\\": {\\\"signal\\\": \\\"ceil(width/40)\\\"}, \\\"title\\\": \\\"Count\\\", \\\"zindex\\\": 1}, {\\\"orient\\\": \\\"top\\\", \\\"scale\\\": \\\"x\\\", \\\"domain\\\": false, \\\"grid\\\": true, \\\"labels\\\": false, \\\"maxExtent\\\": 0, \\\"minExtent\\\": 0, \\\"tickCount\\\": {\\\"signal\\\": \\\"ceil(width/40)\\\"}, \\\"ticks\\\": false, \\\"zindex\\\": 0, \\\"gridScale\\\": \\\"y\\\"}, {\\\"scale\\\": \\\"y\\\", \\\"labelOverlap\\\": true, \\\"orient\\\": \\\"left\\\", \\\"title\\\": \\\"Label\\\", \\\"zindex\\\": 1}]}], \\\"type\\\": \\\"group\\\"}], \\\"type\\\": \\\"group\\\"}], \\\"config\\\": {\\\"axis\\\": {\\\"labelFont\\\": \\\"HelveticaNeue-Light, Arial\\\", \\\"labelFontSize\\\": 7, \\\"labelPadding\\\": 10, \\\"labelColor\\\": \\\"#595959\\\", \\\"titleFont\\\": \\\"HelveticaNeue-Light, Arial\\\", \\\"titleFontWeight\\\": \\\"normal\\\", \\\"titlePadding\\\": 9, \\\"titleFontSize\\\": 12, \\\"titleColor\\\": \\\"#595959\\\"}, \\\"axisY\\\": {\\\"minExtent\\\": 30}, \\\"style\\\": {\\\"rect\\\": {\\\"stroke\\\": \\\"rgba(200, 200, 200, 0.5)\\\"}, \\\"group-title\\\": {\\\"fontSize\\\": 20, \\\"font\\\": \\\"HelveticaNeue-Light, Arial\\\", \\\"fontWeight\\\": \\\"normal\\\", \\\"fill\\\": \\\"#595959\\\"}}}}\";                                 var vega_json_parsed = JSON.parse(vega_json);                                 var toolTipOpts = {                                     showAllFields: true                                 };                                 if(vega_json_parsed[\"metadata\"] != null){                                     if(vega_json_parsed[\"metadata\"][\"bubbleOpts\"] != null){                                         toolTipOpts = vega_json_parsed[\"metadata\"][\"bubbleOpts\"];                                     };                                 };                                 vegaEmbed(\"#vis\", vega_json_parsed).then(function (result) {                                     vegaTooltip.vega(result.view, toolTipOpts);                                  });                             </script>                         </body>                     </html>' src=\"demo_iframe_srcdoc.htm\">                         <p>Your browser does not support iframes.</p>                     </iframe>                 </body>             </html>"
            ],
            "text/plain": [
              "<IPython.core.display.HTML object>"
            ]
          },
          "metadata": {}
        }
      ]
    },
    {
      "cell_type": "code",
      "metadata": {
        "colab": {
          "base_uri": "https://localhost:8080/",
          "height": 825
        },
        "id": "puca6kbyxAz5",
        "outputId": "bfcfe6a7-fbff-4b58-af96-09d91402c2db"
      },
      "source": [
        "tc.show(cancer['mean_radius'], cancer['diagnosis'], 'radio', 'diagnostico', 'Relacion Max con Min ')"
      ],
      "execution_count": 88,
      "outputs": [
        {
          "output_type": "display_data",
          "data": {
            "text/html": [
              "<pre>Materializing X axis SArray</pre>"
            ],
            "text/plain": [
              "Materializing X axis SArray"
            ]
          },
          "metadata": {}
        },
        {
          "output_type": "display_data",
          "data": {
            "text/html": [
              "<pre>Materializing Y axis SArray</pre>"
            ],
            "text/plain": [
              "Materializing Y axis SArray"
            ]
          },
          "metadata": {}
        },
        {
          "output_type": "display_data",
          "data": {
            "text/html": [
              "<html>                 <body>                     <iframe style=\"border:0;margin:0\" width=\"920\" height=\"770\" srcdoc='<html lang=\"en\">                         <head>                             <script src=\"https://cdnjs.cloudflare.com/ajax/libs/vega/5.4.0/vega.js\"></script>                             <script src=\"https://cdnjs.cloudflare.com/ajax/libs/vega-embed/4.0.0/vega-embed.js\"></script>                             <script src=\"https://cdnjs.cloudflare.com/ajax/libs/vega-tooltip/0.5.1/vega-tooltip.min.js\"></script>                             <link rel=\"stylesheet\" type=\"text/css\" href=\"https://cdnjs.cloudflare.com/ajax/libs/vega-tooltip/0.5.1/vega-tooltip.min.css\">                             <style>                             .vega-actions > a{                                 color:white;                                 text-decoration: none;                                 font-family: \"Arial\";                                 cursor:pointer;                                 padding:5px;                                 background:#AAAAAA;                                 border-radius:4px;                                 padding-left:10px;                                 padding-right:10px;                                 margin-right:5px;                             }                             .vega-actions{                                 margin-top:20px;                                 text-align:center                             }                            .vega-actions > a{                                 background:#999999;                            }                             </style>                         </head>                         <body>                             <div id=\"vis\">                             </div>                             <script>                                 var vega_json = \"{\\\"$schema\\\": \\\"https://vega.github.io/schema/vega/v4.json\\\", \\\"autosize\\\": {\\\"type\\\": \\\"fit\\\", \\\"resize\\\": false, \\\"contains\\\": \\\"padding\\\"}, \\\"padding\\\": 8, \\\"width\\\": 720, \\\"height\\\": 550, \\\"style\\\": \\\"cell\\\", \\\"title\\\": \\\"Relacion Max con Min \\\", \\\"data\\\": [{\\\"name\\\": \\\"source_2\\\", \\\"values\\\": [{\\\"x\\\": 17.99, \\\"y\\\": 0}, {\\\"x\\\": 20.57, \\\"y\\\": 0}, {\\\"x\\\": 19.69, \\\"y\\\": 0}, {\\\"x\\\": 11.42, \\\"y\\\": 0}, {\\\"x\\\": 20.29, \\\"y\\\": 0}, {\\\"x\\\": 12.45, \\\"y\\\": 0}, {\\\"x\\\": 18.25, \\\"y\\\": 0}, {\\\"x\\\": 13.71, \\\"y\\\": 0}, {\\\"x\\\": 13.0, \\\"y\\\": 0}, {\\\"x\\\": 12.46, \\\"y\\\": 0}, {\\\"x\\\": 16.02, \\\"y\\\": 0}, {\\\"x\\\": 15.78, \\\"y\\\": 0}, {\\\"x\\\": 19.17, \\\"y\\\": 0}, {\\\"x\\\": 15.85, \\\"y\\\": 0}, {\\\"x\\\": 13.73, \\\"y\\\": 0}, {\\\"x\\\": 14.54, \\\"y\\\": 0}, {\\\"x\\\": 14.68, \\\"y\\\": 0}, {\\\"x\\\": 16.13, \\\"y\\\": 0}, {\\\"x\\\": 19.81, \\\"y\\\": 0}, {\\\"x\\\": 13.54, \\\"y\\\": 1}, {\\\"x\\\": 13.08, \\\"y\\\": 1}, {\\\"x\\\": 9.504, \\\"y\\\": 1}, {\\\"x\\\": 15.34, \\\"y\\\": 0}, {\\\"x\\\": 21.16, \\\"y\\\": 0}, {\\\"x\\\": 16.65, \\\"y\\\": 0}, {\\\"x\\\": 17.14, \\\"y\\\": 0}, {\\\"x\\\": 14.58, \\\"y\\\": 0}, {\\\"x\\\": 18.61, \\\"y\\\": 0}, {\\\"x\\\": 15.3, \\\"y\\\": 0}, {\\\"x\\\": 17.57, \\\"y\\\": 0}, {\\\"x\\\": 18.63, \\\"y\\\": 0}, {\\\"x\\\": 11.84, \\\"y\\\": 0}, {\\\"x\\\": 17.02, \\\"y\\\": 0}, {\\\"x\\\": 19.27, \\\"y\\\": 0}, {\\\"x\\\": 16.13, \\\"y\\\": 0}, {\\\"x\\\": 16.74, \\\"y\\\": 0}, {\\\"x\\\": 14.25, \\\"y\\\": 0}, {\\\"x\\\": 13.03, \\\"y\\\": 1}, {\\\"x\\\": 14.99, \\\"y\\\": 0}, {\\\"x\\\": 13.48, \\\"y\\\": 0}, {\\\"x\\\": 13.44, \\\"y\\\": 0}, {\\\"x\\\": 10.95, \\\"y\\\": 0}, {\\\"x\\\": 19.07, \\\"y\\\": 0}, {\\\"x\\\": 13.28, \\\"y\\\": 0}, {\\\"x\\\": 13.17, \\\"y\\\": 0}, {\\\"x\\\": 18.65, \\\"y\\\": 0}, {\\\"x\\\": 8.196, \\\"y\\\": 1}, {\\\"x\\\": 13.17, \\\"y\\\": 0}, {\\\"x\\\": 12.05, \\\"y\\\": 1}, {\\\"x\\\": 13.49, \\\"y\\\": 1}, {\\\"x\\\": 11.76, \\\"y\\\": 1}, {\\\"x\\\": 13.64, \\\"y\\\": 1}, {\\\"x\\\": 11.94, \\\"y\\\": 1}, {\\\"x\\\": 18.22, \\\"y\\\": 0}, {\\\"x\\\": 15.1, \\\"y\\\": 0}, {\\\"x\\\": 11.52, \\\"y\\\": 1}, {\\\"x\\\": 19.21, \\\"y\\\": 0}, {\\\"x\\\": 14.71, \\\"y\\\": 0}, {\\\"x\\\": 13.05, \\\"y\\\": 1}, {\\\"x\\\": 8.618, \\\"y\\\": 1}, {\\\"x\\\": 10.17, \\\"y\\\": 1}, {\\\"x\\\": 8.598, \\\"y\\\": 1}, {\\\"x\\\": 14.25, \\\"y\\\": 0}, {\\\"x\\\": 9.173, \\\"y\\\": 1}, {\\\"x\\\": 12.68, \\\"y\\\": 0}, {\\\"x\\\": 14.78, \\\"y\\\": 0}, {\\\"x\\\": 9.465, \\\"y\\\": 1}, {\\\"x\\\": 11.31, \\\"y\\\": 1}, {\\\"x\\\": 9.029, \\\"y\\\": 1}, {\\\"x\\\": 12.78, \\\"y\\\": 1}, {\\\"x\\\": 18.94, \\\"y\\\": 0}, {\\\"x\\\": 8.888, \\\"y\\\": 1}, {\\\"x\\\": 17.2, \\\"y\\\": 0}, {\\\"x\\\": 13.8, \\\"y\\\": 0}, {\\\"x\\\": 12.31, \\\"y\\\": 1}, {\\\"x\\\": 16.07, \\\"y\\\": 0}, {\\\"x\\\": 13.53, \\\"y\\\": 1}, {\\\"x\\\": 18.05, \\\"y\\\": 0}, {\\\"x\\\": 20.18, \\\"y\\\": 0}, {\\\"x\\\": 12.86, \\\"y\\\": 1}, {\\\"x\\\": 11.45, \\\"y\\\": 1}, {\\\"x\\\": 13.34, \\\"y\\\": 1}, {\\\"x\\\": 25.22, \\\"y\\\": 0}, {\\\"x\\\": 19.1, \\\"y\\\": 0}, {\\\"x\\\": 12.0, \\\"y\\\": 1}, {\\\"x\\\": 18.46, \\\"y\\\": 0}, {\\\"x\\\": 14.48, \\\"y\\\": 0}, {\\\"x\\\": 19.02, \\\"y\\\": 0}, {\\\"x\\\": 12.36, \\\"y\\\": 1}, {\\\"x\\\": 14.64, \\\"y\\\": 1}, {\\\"x\\\": 14.62, \\\"y\\\": 1}, {\\\"x\\\": 15.37, \\\"y\\\": 0}, {\\\"x\\\": 13.27, \\\"y\\\": 1}, {\\\"x\\\": 13.45, \\\"y\\\": 1}, {\\\"x\\\": 15.06, \\\"y\\\": 0}, {\\\"x\\\": 20.26, \\\"y\\\": 0}, {\\\"x\\\": 12.18, \\\"y\\\": 1}, {\\\"x\\\": 9.787, \\\"y\\\": 1}, {\\\"x\\\": 11.6, \\\"y\\\": 1}, {\\\"x\\\": 14.42, \\\"y\\\": 0}, {\\\"x\\\": 13.61, \\\"y\\\": 0}, {\\\"x\\\": 6.981, \\\"y\\\": 1}, {\\\"x\\\": 12.18, \\\"y\\\": 1}, {\\\"x\\\": 9.876, \\\"y\\\": 1}, {\\\"x\\\": 10.49, \\\"y\\\": 1}, {\\\"x\\\": 13.11, \\\"y\\\": 0}, {\\\"x\\\": 11.64, \\\"y\\\": 1}, {\\\"x\\\": 12.36, \\\"y\\\": 1}, {\\\"x\\\": 22.27, \\\"y\\\": 0}, {\\\"x\\\": 11.34, \\\"y\\\": 1}, {\\\"x\\\": 9.777, \\\"y\\\": 1}, {\\\"x\\\": 12.63, \\\"y\\\": 1}, {\\\"x\\\": 14.26, \\\"y\\\": 1}, {\\\"x\\\": 10.51, \\\"y\\\": 1}, {\\\"x\\\": 8.726, \\\"y\\\": 1}, {\\\"x\\\": 11.93, \\\"y\\\": 1}, {\\\"x\\\": 8.95, \\\"y\\\": 1}, {\\\"x\\\": 14.87, \\\"y\\\": 0}, {\\\"x\\\": 15.78, \\\"y\\\": 0}, {\\\"x\\\": 17.95, \\\"y\\\": 0}, {\\\"x\\\": 11.41, \\\"y\\\": 1}, {\\\"x\\\": 18.66, \\\"y\\\": 0}, {\\\"x\\\": 24.25, \\\"y\\\": 0}, {\\\"x\\\": 14.5, \\\"y\\\": 1}, {\\\"x\\\": 13.37, \\\"y\\\": 1}, {\\\"x\\\": 13.85, \\\"y\\\": 1}, {\\\"x\\\": 13.61, \\\"y\\\": 0}, {\\\"x\\\": 19.0, \\\"y\\\": 0}, {\\\"x\\\": 15.1, \\\"y\\\": 1}, {\\\"x\\\": 19.79, \\\"y\\\": 0}, {\\\"x\\\": 12.19, \\\"y\\\": 1}, {\\\"x\\\": 15.46, \\\"y\\\": 0}, {\\\"x\\\": 16.16, \\\"y\\\": 0}, {\\\"x\\\": 15.71, \\\"y\\\": 1}, {\\\"x\\\": 18.45, \\\"y\\\": 0}, {\\\"x\\\": 12.77, \\\"y\\\": 0}, {\\\"x\\\": 11.71, \\\"y\\\": 1}, {\\\"x\\\": 11.43, \\\"y\\\": 1}, {\\\"x\\\": 14.95, \\\"y\\\": 0}, {\\\"x\\\": 11.28, \\\"y\\\": 1}, {\\\"x\\\": 9.738, \\\"y\\\": 1}, {\\\"x\\\": 16.11, \\\"y\\\": 0}, {\\\"x\\\": 11.43, \\\"y\\\": 1}, {\\\"x\\\": 12.9, \\\"y\\\": 1}, {\\\"x\\\": 10.75, \\\"y\\\": 1}, {\\\"x\\\": 11.9, \\\"y\\\": 1}, {\\\"x\\\": 11.8, \\\"y\\\": 0}, {\\\"x\\\": 14.95, \\\"y\\\": 1}, {\\\"x\\\": 14.44, \\\"y\\\": 1}, {\\\"x\\\": 13.74, \\\"y\\\": 1}, {\\\"x\\\": 13.0, \\\"y\\\": 1}, {\\\"x\\\": 8.219, \\\"y\\\": 1}, {\\\"x\\\": 9.731, \\\"y\\\": 1}, {\\\"x\\\": 11.15, \\\"y\\\": 1}, {\\\"x\\\": 13.15, \\\"y\\\": 1}, {\\\"x\\\": 12.25, \\\"y\\\": 1}, {\\\"x\\\": 17.68, \\\"y\\\": 0}, {\\\"x\\\": 16.84, \\\"y\\\": 1}, {\\\"x\\\": 12.06, \\\"y\\\": 1}, {\\\"x\\\": 10.9, \\\"y\\\": 1}, {\\\"x\\\": 11.75, \\\"y\\\": 1}, {\\\"x\\\": 19.19, \\\"y\\\": 0}, {\\\"x\\\": 19.59, \\\"y\\\": 0}, {\\\"x\\\": 12.34, \\\"y\\\": 1}, {\\\"x\\\": 23.27, \\\"y\\\": 0}, {\\\"x\\\": 14.97, \\\"y\\\": 1}, {\\\"x\\\": 10.8, \\\"y\\\": 1}, {\\\"x\\\": 16.78, \\\"y\\\": 0}, {\\\"x\\\": 17.47, \\\"y\\\": 0}, {\\\"x\\\": 14.97, \\\"y\\\": 1}, {\\\"x\\\": 12.32, \\\"y\\\": 1}, {\\\"x\\\": 13.43, \\\"y\\\": 0}, {\\\"x\\\": 15.46, \\\"y\\\": 0}, {\\\"x\\\": 11.08, \\\"y\\\": 1}, {\\\"x\\\": 10.66, \\\"y\\\": 1}, {\\\"x\\\": 8.671, \\\"y\\\": 1}, {\\\"x\\\": 9.904, \\\"y\\\": 1}, {\\\"x\\\": 16.46, \\\"y\\\": 0}, {\\\"x\\\": 13.01, \\\"y\\\": 1}, {\\\"x\\\": 12.81, \\\"y\\\": 1}, {\\\"x\\\": 27.22, \\\"y\\\": 0}, {\\\"x\\\": 21.09, \\\"y\\\": 0}, {\\\"x\\\": 15.7, \\\"y\\\": 0}, {\\\"x\\\": 11.41, \\\"y\\\": 1}, {\\\"x\\\": 15.28, \\\"y\\\": 0}, {\\\"x\\\": 10.08, \\\"y\\\": 1}, {\\\"x\\\": 18.31, \\\"y\\\": 0}, {\\\"x\\\": 11.71, \\\"y\\\": 1}, {\\\"x\\\": 11.81, \\\"y\\\": 1}, {\\\"x\\\": 12.3, \\\"y\\\": 1}, {\\\"x\\\": 14.22, \\\"y\\\": 0}, {\\\"x\\\": 12.77, \\\"y\\\": 1}, {\\\"x\\\": 9.72, \\\"y\\\": 1}, {\\\"x\\\": 12.34, \\\"y\\\": 0}, {\\\"x\\\": 14.86, \\\"y\\\": 0}, {\\\"x\\\": 12.91, \\\"y\\\": 1}, {\\\"x\\\": 13.77, \\\"y\\\": 0}, {\\\"x\\\": 18.08, \\\"y\\\": 0}, {\\\"x\\\": 19.18, \\\"y\\\": 0}, {\\\"x\\\": 14.45, \\\"y\\\": 0}, {\\\"x\\\": 12.23, \\\"y\\\": 1}, {\\\"x\\\": 17.54, \\\"y\\\": 0}, {\\\"x\\\": 23.29, \\\"y\\\": 0}, {\\\"x\\\": 13.81, \\\"y\\\": 0}, {\\\"x\\\": 12.47, \\\"y\\\": 1}, {\\\"x\\\": 15.12, \\\"y\\\": 0}, {\\\"x\\\": 9.876, \\\"y\\\": 1}, {\\\"x\\\": 17.01, \\\"y\\\": 0}, {\\\"x\\\": 13.11, \\\"y\\\": 1}, {\\\"x\\\": 15.27, \\\"y\\\": 1}, {\\\"x\\\": 20.58, \\\"y\\\": 0}, {\\\"x\\\": 11.84, \\\"y\\\": 1}, {\\\"x\\\": 28.11, \\\"y\\\": 0}, {\\\"x\\\": 17.42, \\\"y\\\": 0}, {\\\"x\\\": 14.19, \\\"y\\\": 0}, {\\\"x\\\": 13.86, \\\"y\\\": 0}, {\\\"x\\\": 11.89, \\\"y\\\": 1}, {\\\"x\\\": 10.2, \\\"y\\\": 1}, {\\\"x\\\": 19.8, \\\"y\\\": 0}, {\\\"x\\\": 19.53, \\\"y\\\": 0}, {\\\"x\\\": 13.65, \\\"y\\\": 1}, {\\\"x\\\": 13.56, \\\"y\\\": 1}, {\\\"x\\\": 10.18, \\\"y\\\": 1}, {\\\"x\\\": 15.75, \\\"y\\\": 0}, {\\\"x\\\": 13.27, \\\"y\\\": 1}, {\\\"x\\\": 14.34, \\\"y\\\": 1}, {\\\"x\\\": 10.44, \\\"y\\\": 1}, {\\\"x\\\": 15.0, \\\"y\\\": 1}, {\\\"x\\\": 12.62, \\\"y\\\": 1}, {\\\"x\\\": 12.83, \\\"y\\\": 0}, {\\\"x\\\": 17.05, \\\"y\\\": 0}, {\\\"x\\\": 11.32, \\\"y\\\": 1}, {\\\"x\\\": 11.22, \\\"y\\\": 1}, {\\\"x\\\": 20.51, \\\"y\\\": 0}, {\\\"x\\\": 9.567, \\\"y\\\": 1}, {\\\"x\\\": 14.03, \\\"y\\\": 1}, {\\\"x\\\": 23.21, \\\"y\\\": 0}, {\\\"x\\\": 20.48, \\\"y\\\": 0}, {\\\"x\\\": 14.22, \\\"y\\\": 1}, {\\\"x\\\": 17.46, \\\"y\\\": 0}, {\\\"x\\\": 13.64, \\\"y\\\": 1}, {\\\"x\\\": 12.42, \\\"y\\\": 1}, {\\\"x\\\": 11.3, \\\"y\\\": 1}, {\\\"x\\\": 13.75, \\\"y\\\": 1}, {\\\"x\\\": 19.4, \\\"y\\\": 0}, {\\\"x\\\": 10.48, \\\"y\\\": 1}, {\\\"x\\\": 13.2, \\\"y\\\": 1}, {\\\"x\\\": 12.89, \\\"y\\\": 1}, {\\\"x\\\": 10.65, \\\"y\\\": 1}, {\\\"x\\\": 11.52, \\\"y\\\": 1}, {\\\"x\\\": 20.94, \\\"y\\\": 0}, {\\\"x\\\": 11.5, \\\"y\\\": 1}, {\\\"x\\\": 19.73, \\\"y\\\": 0}, {\\\"x\\\": 17.3, \\\"y\\\": 0}, {\\\"x\\\": 19.45, \\\"y\\\": 0}, {\\\"x\\\": 13.96, \\\"y\\\": 0}, {\\\"x\\\": 19.55, \\\"y\\\": 0}, {\\\"x\\\": 15.32, \\\"y\\\": 0}, {\\\"x\\\": 15.66, \\\"y\\\": 0}, {\\\"x\\\": 15.53, \\\"y\\\": 0}, {\\\"x\\\": 20.31, \\\"y\\\": 0}, {\\\"x\\\": 17.35, \\\"y\\\": 0}, {\\\"x\\\": 17.29, \\\"y\\\": 0}, {\\\"x\\\": 15.61, \\\"y\\\": 0}, {\\\"x\\\": 17.19, \\\"y\\\": 0}, {\\\"x\\\": 20.73, \\\"y\\\": 0}, {\\\"x\\\": 10.6, \\\"y\\\": 1}, {\\\"x\\\": 13.59, \\\"y\\\": 1}, {\\\"x\\\": 12.87, \\\"y\\\": 1}, {\\\"x\\\": 10.71, \\\"y\\\": 1}, {\\\"x\\\": 14.29, \\\"y\\\": 1}, {\\\"x\\\": 11.29, \\\"y\\\": 1}, {\\\"x\\\": 21.75, \\\"y\\\": 0}, {\\\"x\\\": 9.742, \\\"y\\\": 1}, {\\\"x\\\": 17.93, \\\"y\\\": 0}, {\\\"x\\\": 11.89, \\\"y\\\": 1}, {\\\"x\\\": 11.33, \\\"y\\\": 1}, {\\\"x\\\": 18.81, \\\"y\\\": 0}, {\\\"x\\\": 13.59, \\\"y\\\": 1}, {\\\"x\\\": 13.85, \\\"y\\\": 1}, {\\\"x\\\": 19.16, \\\"y\\\": 0}, {\\\"x\\\": 11.74, \\\"y\\\": 1}, {\\\"x\\\": 19.4, \\\"y\\\": 0}, {\\\"x\\\": 16.24, \\\"y\\\": 0}, {\\\"x\\\": 12.89, \\\"y\\\": 1}, {\\\"x\\\": 12.58, \\\"y\\\": 1}, {\\\"x\\\": 11.94, \\\"y\\\": 1}, {\\\"x\\\": 12.89, \\\"y\\\": 1}, {\\\"x\\\": 11.26, \\\"y\\\": 1}, {\\\"x\\\": 11.37, \\\"y\\\": 1}, {\\\"x\\\": 14.41, \\\"y\\\": 1}, {\\\"x\\\": 14.96, \\\"y\\\": 1}, {\\\"x\\\": 12.95, \\\"y\\\": 1}, {\\\"x\\\": 11.85, \\\"y\\\": 1}, {\\\"x\\\": 12.72, \\\"y\\\": 1}, {\\\"x\\\": 13.77, \\\"y\\\": 1}, {\\\"x\\\": 10.91, \\\"y\\\": 1}, {\\\"x\\\": 11.76, \\\"y\\\": 0}, {\\\"x\\\": 14.26, \\\"y\\\": 1}, {\\\"x\\\": 10.51, \\\"y\\\": 1}, {\\\"x\\\": 19.53, \\\"y\\\": 0}, {\\\"x\\\": 12.46, \\\"y\\\": 1}, {\\\"x\\\": 20.09, \\\"y\\\": 0}, {\\\"x\\\": 10.49, \\\"y\\\": 1}, {\\\"x\\\": 11.46, \\\"y\\\": 1}, {\\\"x\\\": 11.6, \\\"y\\\": 1}, {\\\"x\\\": 13.2, \\\"y\\\": 1}, {\\\"x\\\": 9.0, \\\"y\\\": 1}, {\\\"x\\\": 13.5, \\\"y\\\": 1}, {\\\"x\\\": 13.05, \\\"y\\\": 1}, {\\\"x\\\": 11.7, \\\"y\\\": 1}, {\\\"x\\\": 14.61, \\\"y\\\": 1}, {\\\"x\\\": 12.76, \\\"y\\\": 1}, {\\\"x\\\": 11.54, \\\"y\\\": 1}, {\\\"x\\\": 8.597, \\\"y\\\": 1}, {\\\"x\\\": 12.49, \\\"y\\\": 1}, {\\\"x\\\": 12.18, \\\"y\\\": 1}, {\\\"x\\\": 18.22, \\\"y\\\": 0}, {\\\"x\\\": 9.042, \\\"y\\\": 1}, {\\\"x\\\": 12.43, \\\"y\\\": 1}, {\\\"x\\\": 10.25, \\\"y\\\": 1}, {\\\"x\\\": 20.16, \\\"y\\\": 0}, {\\\"x\\\": 12.86, \\\"y\\\": 1}, {\\\"x\\\": 20.34, \\\"y\\\": 0}, {\\\"x\\\": 12.2, \\\"y\\\": 1}, {\\\"x\\\": 12.67, \\\"y\\\": 1}, {\\\"x\\\": 14.11, \\\"y\\\": 1}, {\\\"x\\\": 12.03, \\\"y\\\": 1}, {\\\"x\\\": 16.27, \\\"y\\\": 0}, {\\\"x\\\": 16.26, \\\"y\\\": 0}, {\\\"x\\\": 16.03, \\\"y\\\": 0}, {\\\"x\\\": 12.98, \\\"y\\\": 1}, {\\\"x\\\": 11.22, \\\"y\\\": 1}, {\\\"x\\\": 11.25, \\\"y\\\": 1}, {\\\"x\\\": 12.3, \\\"y\\\": 1}, {\\\"x\\\": 17.06, \\\"y\\\": 0}, {\\\"x\\\": 12.99, \\\"y\\\": 1}, {\\\"x\\\": 18.77, \\\"y\\\": 0}, {\\\"x\\\": 10.05, \\\"y\\\": 1}, {\\\"x\\\": 23.51, \\\"y\\\": 0}, {\\\"x\\\": 14.42, \\\"y\\\": 1}, {\\\"x\\\": 9.606, \\\"y\\\": 1}, {\\\"x\\\": 11.06, \\\"y\\\": 1}, {\\\"x\\\": 19.68, \\\"y\\\": 0}, {\\\"x\\\": 11.71, \\\"y\\\": 1}, {\\\"x\\\": 10.26, \\\"y\\\": 1}, {\\\"x\\\": 12.06, \\\"y\\\": 1}, {\\\"x\\\": 14.76, \\\"y\\\": 1}, {\\\"x\\\": 11.47, \\\"y\\\": 1}, {\\\"x\\\": 11.95, \\\"y\\\": 1}, {\\\"x\\\": 11.66, \\\"y\\\": 1}, {\\\"x\\\": 15.75, \\\"y\\\": 0}, {\\\"x\\\": 25.73, \\\"y\\\": 0}, {\\\"x\\\": 15.08, \\\"y\\\": 0}, {\\\"x\\\": 11.14, \\\"y\\\": 1}, {\\\"x\\\": 12.56, \\\"y\\\": 1}, {\\\"x\\\": 13.05, \\\"y\\\": 1}, {\\\"x\\\": 13.87, \\\"y\\\": 1}, {\\\"x\\\": 8.878, \\\"y\\\": 1}, {\\\"x\\\": 9.436, \\\"y\\\": 1}, {\\\"x\\\": 12.54, \\\"y\\\": 1}, {\\\"x\\\": 13.3, \\\"y\\\": 1}, {\\\"x\\\": 12.76, \\\"y\\\": 1}, {\\\"x\\\": 16.5, \\\"y\\\": 1}, {\\\"x\\\": 13.4, \\\"y\\\": 1}, {\\\"x\\\": 20.44, \\\"y\\\": 0}, {\\\"x\\\": 20.2, \\\"y\\\": 0}, {\\\"x\\\": 12.21, \\\"y\\\": 1}, {\\\"x\\\": 21.71, \\\"y\\\": 0}, {\\\"x\\\": 22.01, \\\"y\\\": 0}, {\\\"x\\\": 16.35, \\\"y\\\": 0}, {\\\"x\\\": 15.19, \\\"y\\\": 1}, {\\\"x\\\": 21.37, \\\"y\\\": 0}, {\\\"x\\\": 20.64, \\\"y\\\": 0}, {\\\"x\\\": 13.69, \\\"y\\\": 1}, {\\\"x\\\": 16.17, \\\"y\\\": 1}, {\\\"x\\\": 10.57, \\\"y\\\": 1}, {\\\"x\\\": 13.46, \\\"y\\\": 1}, {\\\"x\\\": 13.66, \\\"y\\\": 1}, {\\\"x\\\": 11.08, \\\"y\\\": 0}, {\\\"x\\\": 11.27, \\\"y\\\": 1}, {\\\"x\\\": 11.04, \\\"y\\\": 1}, {\\\"x\\\": 12.05, \\\"y\\\": 1}, {\\\"x\\\": 12.39, \\\"y\\\": 1}, {\\\"x\\\": 13.28, \\\"y\\\": 1}, {\\\"x\\\": 14.6, \\\"y\\\": 0}, {\\\"x\\\": 12.21, \\\"y\\\": 1}, {\\\"x\\\": 13.88, \\\"y\\\": 1}, {\\\"x\\\": 11.27, \\\"y\\\": 1}, {\\\"x\\\": 19.55, \\\"y\\\": 0}, {\\\"x\\\": 10.26, \\\"y\\\": 1}, {\\\"x\\\": 8.734, \\\"y\\\": 1}, {\\\"x\\\": 15.49, \\\"y\\\": 0}, {\\\"x\\\": 21.61, \\\"y\\\": 0}, {\\\"x\\\": 12.1, \\\"y\\\": 1}, {\\\"x\\\": 14.06, \\\"y\\\": 1}, {\\\"x\\\": 13.51, \\\"y\\\": 1}, {\\\"x\\\": 12.8, \\\"y\\\": 1}, {\\\"x\\\": 11.06, \\\"y\\\": 1}, {\\\"x\\\": 11.8, \\\"y\\\": 1}, {\\\"x\\\": 17.91, \\\"y\\\": 0}, {\\\"x\\\": 11.93, \\\"y\\\": 1}, {\\\"x\\\": 12.96, \\\"y\\\": 1}, {\\\"x\\\": 12.94, \\\"y\\\": 1}, {\\\"x\\\": 12.34, \\\"y\\\": 1}, {\\\"x\\\": 10.94, \\\"y\\\": 1}, {\\\"x\\\": 16.14, \\\"y\\\": 1}, {\\\"x\\\": 12.85, \\\"y\\\": 1}, {\\\"x\\\": 17.99, \\\"y\\\": 0}, {\\\"x\\\": 12.27, \\\"y\\\": 1}, {\\\"x\\\": 11.36, \\\"y\\\": 1}, {\\\"x\\\": 11.04, \\\"y\\\": 1}, {\\\"x\\\": 9.397, \\\"y\\\": 1}, {\\\"x\\\": 14.99, \\\"y\\\": 1}, {\\\"x\\\": 15.13, \\\"y\\\": 0}, {\\\"x\\\": 11.89, \\\"y\\\": 1}, {\\\"x\\\": 9.405, \\\"y\\\": 1}, {\\\"x\\\": 15.5, \\\"y\\\": 0}, {\\\"x\\\": 12.7, \\\"y\\\": 1}, {\\\"x\\\": 11.16, \\\"y\\\": 1}, {\\\"x\\\": 11.57, \\\"y\\\": 1}, {\\\"x\\\": 14.69, \\\"y\\\": 1}, {\\\"x\\\": 11.61, \\\"y\\\": 1}, {\\\"x\\\": 13.66, \\\"y\\\": 1}, {\\\"x\\\": 9.742, \\\"y\\\": 1}, {\\\"x\\\": 10.03, \\\"y\\\": 1}, {\\\"x\\\": 10.48, \\\"y\\\": 1}, {\\\"x\\\": 10.8, \\\"y\\\": 1}, {\\\"x\\\": 11.13, \\\"y\\\": 1}, {\\\"x\\\": 12.72, \\\"y\\\": 1}, {\\\"x\\\": 14.9, \\\"y\\\": 0}, {\\\"x\\\": 12.4, \\\"y\\\": 1}, {\\\"x\\\": 20.18, \\\"y\\\": 0}, {\\\"x\\\": 18.82, \\\"y\\\": 0}, {\\\"x\\\": 14.86, \\\"y\\\": 1}, {\\\"x\\\": 13.98, \\\"y\\\": 0}, {\\\"x\\\": 12.87, \\\"y\\\": 1}, {\\\"x\\\": 14.04, \\\"y\\\": 1}, {\\\"x\\\": 13.85, \\\"y\\\": 1}, {\\\"x\\\": 14.02, \\\"y\\\": 1}, {\\\"x\\\": 10.97, \\\"y\\\": 1}, {\\\"x\\\": 17.27, \\\"y\\\": 0}, {\\\"x\\\": 13.78, \\\"y\\\": 1}, {\\\"x\\\": 10.57, \\\"y\\\": 1}, {\\\"x\\\": 18.03, \\\"y\\\": 0}, {\\\"x\\\": 11.99, \\\"y\\\": 1}, {\\\"x\\\": 17.75, \\\"y\\\": 0}, {\\\"x\\\": 14.8, \\\"y\\\": 1}, {\\\"x\\\": 14.53, \\\"y\\\": 1}, {\\\"x\\\": 21.1, \\\"y\\\": 0}, {\\\"x\\\": 11.87, \\\"y\\\": 1}, {\\\"x\\\": 19.59, \\\"y\\\": 0}, {\\\"x\\\": 12.0, \\\"y\\\": 1}, {\\\"x\\\": 14.53, \\\"y\\\": 1}, {\\\"x\\\": 12.62, \\\"y\\\": 1}, {\\\"x\\\": 13.38, \\\"y\\\": 1}, {\\\"x\\\": 11.63, \\\"y\\\": 1}, {\\\"x\\\": 13.21, \\\"y\\\": 1}, {\\\"x\\\": 13.0, \\\"y\\\": 1}, {\\\"x\\\": 9.755, \\\"y\\\": 1}, {\\\"x\\\": 17.08, \\\"y\\\": 0}, {\\\"x\\\": 27.42, \\\"y\\\": 0}, {\\\"x\\\": 14.4, \\\"y\\\": 1}, {\\\"x\\\": 11.6, \\\"y\\\": 1}, {\\\"x\\\": 13.17, \\\"y\\\": 1}, {\\\"x\\\": 13.24, \\\"y\\\": 1}, {\\\"x\\\": 13.14, \\\"y\\\": 1}, {\\\"x\\\": 9.668, \\\"y\\\": 1}, {\\\"x\\\": 17.6, \\\"y\\\": 0}, {\\\"x\\\": 11.62, \\\"y\\\": 1}, {\\\"x\\\": 9.667, \\\"y\\\": 1}, {\\\"x\\\": 12.04, \\\"y\\\": 1}, {\\\"x\\\": 14.92, \\\"y\\\": 1}, {\\\"x\\\": 12.27, \\\"y\\\": 1}, {\\\"x\\\": 10.88, \\\"y\\\": 1}, {\\\"x\\\": 12.83, \\\"y\\\": 1}, {\\\"x\\\": 14.2, \\\"y\\\": 1}, {\\\"x\\\": 13.9, \\\"y\\\": 1}, {\\\"x\\\": 11.49, \\\"y\\\": 1}, {\\\"x\\\": 16.25, \\\"y\\\": 0}, {\\\"x\\\": 12.16, \\\"y\\\": 1}, {\\\"x\\\": 13.9, \\\"y\\\": 1}, {\\\"x\\\": 13.47, \\\"y\\\": 1}, {\\\"x\\\": 13.7, \\\"y\\\": 1}, {\\\"x\\\": 15.73, \\\"y\\\": 1}, {\\\"x\\\": 12.45, \\\"y\\\": 1}, {\\\"x\\\": 14.64, \\\"y\\\": 1}, {\\\"x\\\": 19.44, \\\"y\\\": 0}, {\\\"x\\\": 11.68, \\\"y\\\": 1}, {\\\"x\\\": 16.69, \\\"y\\\": 0}, {\\\"x\\\": 12.25, \\\"y\\\": 1}, {\\\"x\\\": 17.85, \\\"y\\\": 1}, {\\\"x\\\": 18.01, \\\"y\\\": 0}, {\\\"x\\\": 12.46, \\\"y\\\": 1}, {\\\"x\\\": 13.16, \\\"y\\\": 1}, {\\\"x\\\": 14.87, \\\"y\\\": 1}, {\\\"x\\\": 12.65, \\\"y\\\": 1}, {\\\"x\\\": 12.47, \\\"y\\\": 1}, {\\\"x\\\": 18.49, \\\"y\\\": 0}, {\\\"x\\\": 20.59, \\\"y\\\": 0}, {\\\"x\\\": 15.04, \\\"y\\\": 1}, {\\\"x\\\": 13.82, \\\"y\\\": 0}, {\\\"x\\\": 12.54, \\\"y\\\": 1}, {\\\"x\\\": 23.09, \\\"y\\\": 0}, {\\\"x\\\": 9.268, \\\"y\\\": 1}, {\\\"x\\\": 9.676, \\\"y\\\": 1}, {\\\"x\\\": 12.22, \\\"y\\\": 1}, {\\\"x\\\": 11.06, \\\"y\\\": 1}, {\\\"x\\\": 16.3, \\\"y\\\": 1}, {\\\"x\\\": 15.46, \\\"y\\\": 0}, {\\\"x\\\": 11.74, \\\"y\\\": 1}, {\\\"x\\\": 14.81, \\\"y\\\": 1}, {\\\"x\\\": 13.4, \\\"y\\\": 0}, {\\\"x\\\": 14.58, \\\"y\\\": 1}, {\\\"x\\\": 15.05, \\\"y\\\": 0}, {\\\"x\\\": 11.34, \\\"y\\\": 1}, {\\\"x\\\": 18.31, \\\"y\\\": 0}, {\\\"x\\\": 19.89, \\\"y\\\": 0}, {\\\"x\\\": 12.88, \\\"y\\\": 1}, {\\\"x\\\": 12.75, \\\"y\\\": 1}, {\\\"x\\\": 9.295, \\\"y\\\": 1}, {\\\"x\\\": 24.63, \\\"y\\\": 0}, {\\\"x\\\": 11.26, \\\"y\\\": 1}, {\\\"x\\\": 13.71, \\\"y\\\": 1}, {\\\"x\\\": 9.847, \\\"y\\\": 1}, {\\\"x\\\": 8.571, \\\"y\\\": 1}, {\\\"x\\\": 13.46, \\\"y\\\": 1}, {\\\"x\\\": 12.34, \\\"y\\\": 1}, {\\\"x\\\": 13.94, \\\"y\\\": 1}, {\\\"x\\\": 12.07, \\\"y\\\": 1}, {\\\"x\\\": 11.75, \\\"y\\\": 1}, {\\\"x\\\": 11.67, \\\"y\\\": 1}, {\\\"x\\\": 13.68, \\\"y\\\": 1}, {\\\"x\\\": 20.47, \\\"y\\\": 0}, {\\\"x\\\": 10.96, \\\"y\\\": 1}, {\\\"x\\\": 20.55, \\\"y\\\": 0}, {\\\"x\\\": 14.27, \\\"y\\\": 0}, {\\\"x\\\": 11.69, \\\"y\\\": 1}, {\\\"x\\\": 7.729, \\\"y\\\": 1}, {\\\"x\\\": 7.691, \\\"y\\\": 1}, {\\\"x\\\": 11.54, \\\"y\\\": 1}, {\\\"x\\\": 14.47, \\\"y\\\": 1}, {\\\"x\\\": 14.74, \\\"y\\\": 1}, {\\\"x\\\": 13.21, \\\"y\\\": 1}, {\\\"x\\\": 13.87, \\\"y\\\": 1}, {\\\"x\\\": 13.62, \\\"y\\\": 1}, {\\\"x\\\": 10.32, \\\"y\\\": 1}, {\\\"x\\\": 10.26, \\\"y\\\": 1}, {\\\"x\\\": 9.683, \\\"y\\\": 1}, {\\\"x\\\": 10.82, \\\"y\\\": 1}, {\\\"x\\\": 10.86, \\\"y\\\": 1}, {\\\"x\\\": 11.13, \\\"y\\\": 1}, {\\\"x\\\": 12.77, \\\"y\\\": 1}, {\\\"x\\\": 9.333, \\\"y\\\": 1}, {\\\"x\\\": 12.88, \\\"y\\\": 1}, {\\\"x\\\": 10.29, \\\"y\\\": 1}, {\\\"x\\\": 10.16, \\\"y\\\": 1}, {\\\"x\\\": 9.423, \\\"y\\\": 1}, {\\\"x\\\": 14.59, \\\"y\\\": 1}, {\\\"x\\\": 11.51, \\\"y\\\": 1}, {\\\"x\\\": 14.05, \\\"y\\\": 1}, {\\\"x\\\": 11.2, \\\"y\\\": 1}, {\\\"x\\\": 15.22, \\\"y\\\": 0}, {\\\"x\\\": 20.92, \\\"y\\\": 0}, {\\\"x\\\": 21.56, \\\"y\\\": 0}, {\\\"x\\\": 20.13, \\\"y\\\": 0}, {\\\"x\\\": 16.6, \\\"y\\\": 0}, {\\\"x\\\": 20.6, \\\"y\\\": 0}, {\\\"x\\\": 7.76, \\\"y\\\": 1}]}], \\\"marks\\\": [{\\\"name\\\": \\\"marks\\\", \\\"type\\\": \\\"symbol\\\", \\\"style\\\": [\\\"circle\\\"], \\\"from\\\": {\\\"data\\\": \\\"source_2\\\"}, \\\"encode\\\": {\\\"hover\\\": {\\\"fill\\\": {\\\"value\\\": \\\"#7EC2F3\\\"}}, \\\"update\\\": {\\\"x\\\": {\\\"scale\\\": \\\"x\\\", \\\"field\\\": \\\"x\\\"}, \\\"y\\\": {\\\"scale\\\": \\\"y\\\", \\\"field\\\": \\\"y\\\", \\\"title\\\": \\\"Miles per Gallon\\\"}, \\\"fill\\\": {\\\"value\\\": \\\"#108EE9\\\"}, \\\"shape\\\": {\\\"value\\\": \\\"circle\\\"}, \\\"opacity\\\": {\\\"value\\\": 0.7}}}}], \\\"scales\\\": [{\\\"name\\\": \\\"x\\\", \\\"type\\\": \\\"linear\\\", \\\"domain\\\": {\\\"data\\\": \\\"source_2\\\", \\\"field\\\": \\\"x\\\"}, \\\"range\\\": [0, {\\\"signal\\\": \\\"width\\\"}], \\\"nice\\\": true, \\\"zero\\\": false, \\\"padding\\\": 5}, {\\\"name\\\": \\\"y\\\", \\\"type\\\": \\\"linear\\\", \\\"domain\\\": {\\\"data\\\": \\\"source_2\\\", \\\"field\\\": \\\"y\\\"}, \\\"range\\\": [{\\\"signal\\\": \\\"height\\\"}, 0], \\\"nice\\\": true, \\\"zero\\\": false, \\\"padding\\\": 5}], \\\"axes\\\": [{\\\"scale\\\": \\\"x\\\", \\\"labelOverlap\\\": true, \\\"orient\\\": \\\"bottom\\\", \\\"tickCount\\\": {\\\"signal\\\": \\\"ceil(width/40)\\\"}, \\\"title\\\": \\\"radio\\\", \\\"zindex\\\": 1}, {\\\"scale\\\": \\\"x\\\", \\\"domain\\\": false, \\\"grid\\\": true, \\\"labels\\\": false, \\\"maxExtent\\\": 0, \\\"minExtent\\\": 0, \\\"orient\\\": \\\"bottom\\\", \\\"tickCount\\\": {\\\"signal\\\": \\\"ceil(width/40)\\\"}, \\\"ticks\\\": false, \\\"zindex\\\": 0, \\\"gridScale\\\": \\\"y\\\"}, {\\\"scale\\\": \\\"y\\\", \\\"labelOverlap\\\": true, \\\"orient\\\": \\\"left\\\", \\\"tickCount\\\": {\\\"signal\\\": \\\"ceil(height/40)\\\"}, \\\"title\\\": \\\"diagnostico\\\", \\\"zindex\\\": 1}, {\\\"scale\\\": \\\"y\\\", \\\"domain\\\": false, \\\"grid\\\": true, \\\"labels\\\": false, \\\"maxExtent\\\": 0, \\\"minExtent\\\": 0, \\\"orient\\\": \\\"left\\\", \\\"tickCount\\\": {\\\"signal\\\": \\\"ceil(height/40)\\\"}, \\\"ticks\\\": false, \\\"zindex\\\": 0, \\\"gridScale\\\": \\\"x\\\"}], \\\"config\\\": {\\\"axis\\\": {\\\"gridColor\\\": \\\"rgba(204,204,204,1.0)\\\", \\\"labelFont\\\": \\\"\\\\\\\"San Francisco\\\\\\\", HelveticaNeue, Arial\\\", \\\"labelFontSize\\\": 12, \\\"labelPadding\\\": 10, \\\"labelColor\\\": \\\"rgba(0,0,0,0.847)\\\", \\\"tickColor\\\": \\\"rgb(136,136,136)\\\", \\\"titleFont\\\": \\\"\\\\\\\"San Francisco\\\\\\\", HelveticaNeue, Arial\\\", \\\"titleFontWeight\\\": \\\"normal\\\", \\\"titlePadding\\\": 20, \\\"titleFontSize\\\": 14, \\\"titleColor\\\": \\\"rgba(0,0,0,0.847)\\\"}, \\\"axisY\\\": {\\\"minExtent\\\": 30}, \\\"legend\\\": {\\\"labelFont\\\": \\\"\\\\\\\"San Francisco\\\\\\\", HelveticaNeue, Arial\\\", \\\"labelColor\\\": \\\"rgba(0,0,0,0.847)\\\", \\\"titleFont\\\": \\\"\\\\\\\"San Francisco\\\\\\\", HelveticaNeue, Arial\\\", \\\"cornerRadius\\\": 30, \\\"gradientLength\\\": 608, \\\"titleColor\\\": \\\"rgba(0,0,0,0.847)\\\"}, \\\"range\\\": {\\\"heatmap\\\": {\\\"scheme\\\": \\\"greenblue\\\"}}, \\\"style\\\": {\\\"rect\\\": {\\\"stroke\\\": \\\"rgba(200, 200, 200, 0.5)\\\"}, \\\"cell\\\": {\\\"stroke\\\": \\\"transparent\\\"}, \\\"group-title\\\": {\\\"fontSize\\\": 29, \\\"font\\\": \\\"HelveticaNeue, Arial\\\", \\\"fontWeight\\\": \\\"normal\\\", \\\"fill\\\": \\\"rgba(0,0,0,0.65)\\\"}}, \\\"title\\\": {\\\"color\\\": \\\"rgba(0,0,0,0.847)\\\", \\\"font\\\": \\\"\\\\\\\"San Francisco\\\\\\\", HelveticaNeue, Arial\\\", \\\"fontSize\\\": 18, \\\"fontWeight\\\": \\\"normal\\\", \\\"offset\\\": 30}}}\";                                 var vega_json_parsed = JSON.parse(vega_json);                                 var toolTipOpts = {                                     showAllFields: true                                 };                                 if(vega_json_parsed[\"metadata\"] != null){                                     if(vega_json_parsed[\"metadata\"][\"bubbleOpts\"] != null){                                         toolTipOpts = vega_json_parsed[\"metadata\"][\"bubbleOpts\"];                                     };                                 };                                 vegaEmbed(\"#vis\", vega_json_parsed).then(function (result) {                                     vegaTooltip.vega(result.view, toolTipOpts);                                  });                             </script>                         </body>                     </html>' src=\"demo_iframe_srcdoc.htm\">                         <p>Your browser does not support iframes.</p>                     </iframe>                 </body>             </html>"
            ],
            "text/plain": [
              "<IPython.core.display.HTML object>"
            ]
          },
          "metadata": {}
        }
      ]
    },
    {
      "cell_type": "code",
      "metadata": {
        "colab": {
          "base_uri": "https://localhost:8080/",
          "height": 826
        },
        "id": "FCxPeFdiAQ_9",
        "outputId": "21d8ccb4-0dfd-42d3-b733-b6f0f7861840"
      },
      "source": [
        "cancer['diagnosis'].plot(title = 'Diagnostico',\n",
        "                                  xlabel = 'Values',  \n",
        "                                  ylabel = 'Count')"
      ],
      "execution_count": 87,
      "outputs": [
        {
          "output_type": "display_data",
          "data": {
            "text/html": [
              "<pre>Materializing SArray</pre>"
            ],
            "text/plain": [
              "Materializing SArray"
            ]
          },
          "metadata": {}
        },
        {
          "output_type": "display_data",
          "data": {
            "text/html": [
              "<html>                 <body>                     <iframe style=\"border:0;margin:0\" width=\"920\" height=\"770\" srcdoc='<html lang=\"en\">                         <head>                             <script src=\"https://cdnjs.cloudflare.com/ajax/libs/vega/5.4.0/vega.js\"></script>                             <script src=\"https://cdnjs.cloudflare.com/ajax/libs/vega-embed/4.0.0/vega-embed.js\"></script>                             <script src=\"https://cdnjs.cloudflare.com/ajax/libs/vega-tooltip/0.5.1/vega-tooltip.min.js\"></script>                             <link rel=\"stylesheet\" type=\"text/css\" href=\"https://cdnjs.cloudflare.com/ajax/libs/vega-tooltip/0.5.1/vega-tooltip.min.css\">                             <style>                             .vega-actions > a{                                 color:white;                                 text-decoration: none;                                 font-family: \"Arial\";                                 cursor:pointer;                                 padding:5px;                                 background:#AAAAAA;                                 border-radius:4px;                                 padding-left:10px;                                 padding-right:10px;                                 margin-right:5px;                             }                             .vega-actions{                                 margin-top:20px;                                 text-align:center                             }                            .vega-actions > a{                                 background:#999999;                            }                             </style>                         </head>                         <body>                             <div id=\"vis\">                             </div>                             <script>                                 var vega_json = \"{\\\"$schema\\\": \\\"https://vega.github.io/schema/vega/v4.json\\\", \\\"description\\\": \\\"A simple bar chart with embedded data.\\\", \\\"autosize\\\": {\\\"type\\\": \\\"fit\\\", \\\"resize\\\": false, \\\"contains\\\": \\\"padding\\\"}, \\\"width\\\": 720, \\\"height\\\": 550, \\\"padding\\\": 8, \\\"title\\\": \\\"Diagnostico\\\", \\\"style\\\": \\\"cell\\\", \\\"signals\\\": [{\\\"name\\\": \\\"bins\\\", \\\"update\\\": \\\"data(\\\\\\\"bins_data\\\\\\\")[0]\\\"}, {\\\"name\\\": \\\"binCount\\\", \\\"update\\\": \\\"(bins.stop - bins.start) / bins.step\\\"}, {\\\"name\\\": \\\"nullGap\\\", \\\"update\\\": \\\"data(\\\\\\\"nulls\\\\\\\").length ? 10 : 0\\\"}, {\\\"name\\\": \\\"barStep\\\", \\\"update\\\": \\\"(width - nullGap) / (1 + binCount)\\\"}], \\\"data\\\": [{\\\"name\\\": \\\"source_2\\\", \\\"values\\\": [{\\\"left\\\": -9, \\\"right\\\": -8, \\\"count\\\": 0}, {\\\"left\\\": -8, \\\"right\\\": -7, \\\"count\\\": 0}, {\\\"left\\\": -7, \\\"right\\\": -6, \\\"count\\\": 0}, {\\\"left\\\": -6, \\\"right\\\": -5, \\\"count\\\": 0}, {\\\"left\\\": -5, \\\"right\\\": -4, \\\"count\\\": 0}, {\\\"left\\\": -4, \\\"right\\\": -3, \\\"count\\\": 0}, {\\\"left\\\": -3, \\\"right\\\": -2, \\\"count\\\": 0}, {\\\"left\\\": -2, \\\"right\\\": -1, \\\"count\\\": 0}, {\\\"left\\\": -1, \\\"right\\\": 0, \\\"count\\\": 0}, {\\\"left\\\": 0, \\\"right\\\": 1, \\\"count\\\": 212}, {\\\"left\\\": 1, \\\"right\\\": 2, \\\"count\\\": 357}, {\\\"left\\\": 2, \\\"right\\\": 3, \\\"count\\\": 0}, {\\\"left\\\": 3, \\\"right\\\": 4, \\\"count\\\": 0}, {\\\"left\\\": 4, \\\"right\\\": 5, \\\"count\\\": 0}, {\\\"left\\\": 5, \\\"right\\\": 6, \\\"count\\\": 0}, {\\\"left\\\": 6, \\\"right\\\": 7, \\\"count\\\": 0}, {\\\"left\\\": 7, \\\"right\\\": 8, \\\"count\\\": 0}, {\\\"left\\\": 8, \\\"right\\\": 9, \\\"count\\\": 0}, {\\\"left\\\": 9, \\\"right\\\": 10, \\\"count\\\": 0}, {\\\"left\\\": 10, \\\"right\\\": 11, \\\"count\\\": 0}, {\\\"start\\\": -9, \\\"stop\\\": 11, \\\"step\\\": 1}]}, {\\\"name\\\": \\\"counts\\\", \\\"source\\\": \\\"source_2\\\", \\\"transform\\\": [{\\\"type\\\": \\\"filter\\\", \\\"expr\\\": \\\"datum[\\\\\\\"missing\\\\\\\"] !== true &amp;&amp; datum[\\\\\\\"count\\\\\\\"] != null\\\"}]}, {\\\"name\\\": \\\"nulls\\\", \\\"source\\\": \\\"source_2\\\", \\\"transform\\\": [{\\\"expr\\\": \\\"datum[\\\\\\\"missing\\\\\\\"] === true &amp;&amp; datum[\\\\\\\"count\\\\\\\"] != null\\\", \\\"type\\\": \\\"filter\\\"}]}, {\\\"name\\\": \\\"bins_data\\\", \\\"source\\\": \\\"source_2\\\", \\\"transform\\\": [{\\\"expr\\\": \\\"datum[\\\\\\\"start\\\\\\\"] != null &amp;&amp; datum[\\\\\\\"stop\\\\\\\"] != null &amp;&amp; datum[\\\\\\\"step\\\\\\\"] != null\\\", \\\"type\\\": \\\"filter\\\"}]}], \\\"marks\\\": [{\\\"type\\\": \\\"rect\\\", \\\"from\\\": {\\\"data\\\": \\\"counts\\\"}, \\\"encode\\\": {\\\"update\\\": {\\\"x\\\": {\\\"scale\\\": \\\"xscale\\\", \\\"field\\\": \\\"left\\\", \\\"offset\\\": 1}, \\\"x2\\\": {\\\"scale\\\": \\\"xscale\\\", \\\"field\\\": \\\"right\\\"}, \\\"y\\\": {\\\"scale\\\": \\\"yscale\\\", \\\"field\\\": \\\"count\\\"}, \\\"y2\\\": {\\\"scale\\\": \\\"yscale\\\", \\\"value\\\": 0}, \\\"fill\\\": {\\\"value\\\": \\\"#108EE9\\\"}}, \\\"hover\\\": {\\\"fill\\\": {\\\"value\\\": \\\"#7EC2F3\\\"}}}}, {\\\"type\\\": \\\"rect\\\", \\\"from\\\": {\\\"data\\\": \\\"nulls\\\"}, \\\"encode\\\": {\\\"update\\\": {\\\"x\\\": {\\\"scale\\\": \\\"xscale-null\\\", \\\"value\\\": null, \\\"offset\\\": 1}, \\\"x2\\\": {\\\"scale\\\": \\\"xscale-null\\\", \\\"band\\\": 1}, \\\"y\\\": {\\\"scale\\\": \\\"yscale\\\", \\\"field\\\": \\\"count\\\"}, \\\"y2\\\": {\\\"scale\\\": \\\"yscale\\\", \\\"value\\\": 0}, \\\"fill\\\": {\\\"value\\\": \\\"#108EE9\\\"}}, \\\"hover\\\": {\\\"fill\\\": {\\\"value\\\": \\\"#7EC2F3\\\"}}}}], \\\"scales\\\": [{\\\"name\\\": \\\"yscale\\\", \\\"type\\\": \\\"linear\\\", \\\"range\\\": \\\"height\\\", \\\"round\\\": true, \\\"nice\\\": true, \\\"domain\\\": {\\\"fields\\\": [{\\\"data\\\": \\\"counts\\\", \\\"field\\\": \\\"count\\\"}, {\\\"data\\\": \\\"nulls\\\", \\\"field\\\": \\\"count\\\"}]}}, {\\\"name\\\": \\\"xscale\\\", \\\"type\\\": \\\"linear\\\", \\\"range\\\": [{\\\"signal\\\": \\\"nullGap ? barStep + nullGap : 0\\\"}, {\\\"signal\\\": \\\"width\\\"}], \\\"round\\\": true, \\\"domain\\\": {\\\"signal\\\": \\\"[bins.start, bins.stop]\\\"}, \\\"bins\\\": {\\\"signal\\\": \\\"bins\\\"}}, {\\\"name\\\": \\\"xscale-null\\\", \\\"type\\\": \\\"band\\\", \\\"range\\\": [{\\\"signal\\\": \\\"nullGap ? 0 : 1\\\"}, {\\\"signal\\\": \\\"nullGap ? barStep : 0\\\"}], \\\"round\\\": true, \\\"domain\\\": [{\\\"signal\\\": \\\"nullGap ? null : &apos;&apos;\\\"}]}], \\\"axes\\\": [{\\\"title\\\": \\\"Values\\\", \\\"orient\\\": \\\"bottom\\\", \\\"scale\\\": \\\"xscale\\\", \\\"tickMinStep\\\": 1, \\\"grid\\\": true}, {\\\"orient\\\": \\\"bottom\\\", \\\"scale\\\": \\\"xscale-null\\\"}, {\\\"title\\\": \\\"Count\\\", \\\"orient\\\": \\\"left\\\", \\\"scale\\\": \\\"yscale\\\", \\\"tickCount\\\": 5, \\\"offset\\\": {\\\"signal\\\": \\\"nullGap ? 5 : 0\\\"}, \\\"grid\\\": true}], \\\"config\\\": {\\\"axis\\\": {\\\"gridColor\\\": \\\"rgba(204,204,204,1.0)\\\", \\\"labelFont\\\": \\\"\\\\\\\"San Francisco\\\\\\\", HelveticaNeue, Arial\\\", \\\"labelFontSize\\\": 12, \\\"labelPadding\\\": 10, \\\"labelColor\\\": \\\"rgba(0,0,0,0.847)\\\", \\\"tickColor\\\": \\\"rgb(136,136,136)\\\", \\\"titleFont\\\": \\\"\\\\\\\"San Francisco\\\\\\\", HelveticaNeue, Arial\\\", \\\"titleFontWeight\\\": \\\"normal\\\", \\\"titlePadding\\\": 20, \\\"titleFontSize\\\": 14, \\\"titleColor\\\": \\\"rgba(0,0,0,0.847)\\\"}, \\\"axisY\\\": {\\\"minExtent\\\": 30}, \\\"legend\\\": {\\\"labelFont\\\": \\\"\\\\\\\"San Francisco\\\\\\\", HelveticaNeue, Arial\\\", \\\"labelColor\\\": \\\"rgba(0,0,0,0.847)\\\", \\\"titleFont\\\": \\\"\\\\\\\"San Francisco\\\\\\\", HelveticaNeue, Arial\\\", \\\"cornerRadius\\\": 30, \\\"gradientLength\\\": 608, \\\"titleColor\\\": \\\"rgba(0,0,0,0.847)\\\"}, \\\"range\\\": {\\\"heatmap\\\": {\\\"scheme\\\": \\\"greenblue\\\"}}, \\\"style\\\": {\\\"rect\\\": {\\\"stroke\\\": \\\"rgba(200, 200, 200, 0.5)\\\"}, \\\"cell\\\": {\\\"stroke\\\": \\\"transparent\\\"}, \\\"group-title\\\": {\\\"fontSize\\\": 29, \\\"font\\\": \\\"HelveticaNeue, Arial\\\", \\\"fontWeight\\\": \\\"normal\\\", \\\"fill\\\": \\\"rgba(0,0,0,0.65)\\\"}}, \\\"title\\\": {\\\"color\\\": \\\"rgba(0,0,0,0.847)\\\", \\\"font\\\": \\\"\\\\\\\"San Francisco\\\\\\\", HelveticaNeue, Arial\\\", \\\"fontSize\\\": 18, \\\"fontWeight\\\": \\\"normal\\\", \\\"offset\\\": 30}}}\";                                 var vega_json_parsed = JSON.parse(vega_json);                                 var toolTipOpts = {                                     showAllFields: true                                 };                                 if(vega_json_parsed[\"metadata\"] != null){                                     if(vega_json_parsed[\"metadata\"][\"bubbleOpts\"] != null){                                         toolTipOpts = vega_json_parsed[\"metadata\"][\"bubbleOpts\"];                                     };                                 };                                 vegaEmbed(\"#vis\", vega_json_parsed).then(function (result) {                                     vegaTooltip.vega(result.view, toolTipOpts);                                  });                             </script>                         </body>                     </html>' src=\"demo_iframe_srcdoc.htm\">                         <p>Your browser does not support iframes.</p>                     </iframe>                 </body>             </html>"
            ],
            "text/plain": [
              "<IPython.core.display.HTML object>"
            ]
          },
          "metadata": {}
        },
        {
          "output_type": "execute_result",
          "data": {
            "text/plain": [
              "<turicreate.visualization._plot.Plot at 0x7f95d9651910>"
            ]
          },
          "metadata": {},
          "execution_count": 87
        }
      ]
    },
    {
      "cell_type": "code",
      "metadata": {
        "colab": {
          "base_uri": "https://localhost:8080/",
          "height": 826
        },
        "id": "NOJO8viZCfeh",
        "outputId": "b0353ee7-d8d8-4df5-a01d-84d95c98eff9"
      },
      "source": [
        "cancer['mean_perimeter'].plot(title = 'perímetro medio',\n",
        "                                  xlabel = 'Values',  \n",
        "                                  ylabel = 'Count')"
      ],
      "execution_count": 86,
      "outputs": [
        {
          "output_type": "display_data",
          "data": {
            "text/html": [
              "<pre>Materializing SArray</pre>"
            ],
            "text/plain": [
              "Materializing SArray"
            ]
          },
          "metadata": {}
        },
        {
          "output_type": "display_data",
          "data": {
            "text/html": [
              "<html>                 <body>                     <iframe style=\"border:0;margin:0\" width=\"920\" height=\"770\" srcdoc='<html lang=\"en\">                         <head>                             <script src=\"https://cdnjs.cloudflare.com/ajax/libs/vega/5.4.0/vega.js\"></script>                             <script src=\"https://cdnjs.cloudflare.com/ajax/libs/vega-embed/4.0.0/vega-embed.js\"></script>                             <script src=\"https://cdnjs.cloudflare.com/ajax/libs/vega-tooltip/0.5.1/vega-tooltip.min.js\"></script>                             <link rel=\"stylesheet\" type=\"text/css\" href=\"https://cdnjs.cloudflare.com/ajax/libs/vega-tooltip/0.5.1/vega-tooltip.min.css\">                             <style>                             .vega-actions > a{                                 color:white;                                 text-decoration: none;                                 font-family: \"Arial\";                                 cursor:pointer;                                 padding:5px;                                 background:#AAAAAA;                                 border-radius:4px;                                 padding-left:10px;                                 padding-right:10px;                                 margin-right:5px;                             }                             .vega-actions{                                 margin-top:20px;                                 text-align:center                             }                            .vega-actions > a{                                 background:#999999;                            }                             </style>                         </head>                         <body>                             <div id=\"vis\">                             </div>                             <script>                                 var vega_json = \"{\\\"$schema\\\": \\\"https://vega.github.io/schema/vega/v4.json\\\", \\\"description\\\": \\\"A simple bar chart with embedded data.\\\", \\\"autosize\\\": {\\\"type\\\": \\\"fit\\\", \\\"resize\\\": false, \\\"contains\\\": \\\"padding\\\"}, \\\"width\\\": 720, \\\"height\\\": 550, \\\"padding\\\": 8, \\\"title\\\": \\\"per\\\\u00edmetro medio\\\", \\\"style\\\": \\\"cell\\\", \\\"signals\\\": [{\\\"name\\\": \\\"bins\\\", \\\"update\\\": \\\"data(\\\\\\\"bins_data\\\\\\\")[0]\\\"}, {\\\"name\\\": \\\"binCount\\\", \\\"update\\\": \\\"(bins.stop - bins.start) / bins.step\\\"}, {\\\"name\\\": \\\"nullGap\\\", \\\"update\\\": \\\"data(\\\\\\\"nulls\\\\\\\").length ? 10 : 0\\\"}, {\\\"name\\\": \\\"barStep\\\", \\\"update\\\": \\\"(width - nullGap) / (1 + binCount)\\\"}], \\\"data\\\": [{\\\"name\\\": \\\"source_2\\\", \\\"values\\\": [{\\\"left\\\": 41.8788, \\\"right\\\": 49.3124, \\\"count\\\": 4}, {\\\"left\\\": 49.3124, \\\"right\\\": 56.746, \\\"count\\\": 11}, {\\\"left\\\": 56.746, \\\"right\\\": 64.1796, \\\"count\\\": 33}, {\\\"left\\\": 64.1796, \\\"right\\\": 71.6132, \\\"count\\\": 50}, {\\\"left\\\": 71.6132, \\\"right\\\": 79.0468, \\\"count\\\": 102}, {\\\"left\\\": 79.0468, \\\"right\\\": 86.4804, \\\"count\\\": 86}, {\\\"left\\\": 86.4804, \\\"right\\\": 93.914, \\\"count\\\": 68}, {\\\"left\\\": 93.914, \\\"right\\\": 101.348, \\\"count\\\": 55}, {\\\"left\\\": 101.348, \\\"right\\\": 108.781, \\\"count\\\": 34}, {\\\"left\\\": 108.781, \\\"right\\\": 116.215, \\\"count\\\": 28}, {\\\"left\\\": 116.215, \\\"right\\\": 123.648, \\\"count\\\": 24}, {\\\"left\\\": 123.648, \\\"right\\\": 131.082, \\\"count\\\": 27}, {\\\"left\\\": 131.082, \\\"right\\\": 138.516, \\\"count\\\": 23}, {\\\"left\\\": 138.516, \\\"right\\\": 145.949, \\\"count\\\": 9}, {\\\"left\\\": 145.949, \\\"right\\\": 153.383, \\\"count\\\": 5}, {\\\"left\\\": 153.383, \\\"right\\\": 160.816, \\\"count\\\": 3}, {\\\"left\\\": 160.816, \\\"right\\\": 168.25, \\\"count\\\": 2}, {\\\"left\\\": 168.25, \\\"right\\\": 175.684, \\\"count\\\": 2}, {\\\"left\\\": 175.684, \\\"right\\\": 183.117, \\\"count\\\": 1}, {\\\"left\\\": 183.117, \\\"right\\\": 190.551, \\\"count\\\": 2}, {\\\"start\\\": 41.8788, \\\"stop\\\": 190.551, \\\"step\\\": 7.4336}]}, {\\\"name\\\": \\\"counts\\\", \\\"source\\\": \\\"source_2\\\", \\\"transform\\\": [{\\\"type\\\": \\\"filter\\\", \\\"expr\\\": \\\"datum[\\\\\\\"missing\\\\\\\"] !== true &amp;&amp; datum[\\\\\\\"count\\\\\\\"] != null\\\"}]}, {\\\"name\\\": \\\"nulls\\\", \\\"source\\\": \\\"source_2\\\", \\\"transform\\\": [{\\\"expr\\\": \\\"datum[\\\\\\\"missing\\\\\\\"] === true &amp;&amp; datum[\\\\\\\"count\\\\\\\"] != null\\\", \\\"type\\\": \\\"filter\\\"}]}, {\\\"name\\\": \\\"bins_data\\\", \\\"source\\\": \\\"source_2\\\", \\\"transform\\\": [{\\\"expr\\\": \\\"datum[\\\\\\\"start\\\\\\\"] != null &amp;&amp; datum[\\\\\\\"stop\\\\\\\"] != null &amp;&amp; datum[\\\\\\\"step\\\\\\\"] != null\\\", \\\"type\\\": \\\"filter\\\"}]}], \\\"marks\\\": [{\\\"type\\\": \\\"rect\\\", \\\"from\\\": {\\\"data\\\": \\\"counts\\\"}, \\\"encode\\\": {\\\"update\\\": {\\\"x\\\": {\\\"scale\\\": \\\"xscale\\\", \\\"field\\\": \\\"left\\\", \\\"offset\\\": 1}, \\\"x2\\\": {\\\"scale\\\": \\\"xscale\\\", \\\"field\\\": \\\"right\\\"}, \\\"y\\\": {\\\"scale\\\": \\\"yscale\\\", \\\"field\\\": \\\"count\\\"}, \\\"y2\\\": {\\\"scale\\\": \\\"yscale\\\", \\\"value\\\": 0}, \\\"fill\\\": {\\\"value\\\": \\\"#108EE9\\\"}}, \\\"hover\\\": {\\\"fill\\\": {\\\"value\\\": \\\"#7EC2F3\\\"}}}}, {\\\"type\\\": \\\"rect\\\", \\\"from\\\": {\\\"data\\\": \\\"nulls\\\"}, \\\"encode\\\": {\\\"update\\\": {\\\"x\\\": {\\\"scale\\\": \\\"xscale-null\\\", \\\"value\\\": null, \\\"offset\\\": 1}, \\\"x2\\\": {\\\"scale\\\": \\\"xscale-null\\\", \\\"band\\\": 1}, \\\"y\\\": {\\\"scale\\\": \\\"yscale\\\", \\\"field\\\": \\\"count\\\"}, \\\"y2\\\": {\\\"scale\\\": \\\"yscale\\\", \\\"value\\\": 0}, \\\"fill\\\": {\\\"value\\\": \\\"#108EE9\\\"}}, \\\"hover\\\": {\\\"fill\\\": {\\\"value\\\": \\\"#7EC2F3\\\"}}}}], \\\"scales\\\": [{\\\"name\\\": \\\"yscale\\\", \\\"type\\\": \\\"linear\\\", \\\"range\\\": \\\"height\\\", \\\"round\\\": true, \\\"nice\\\": true, \\\"domain\\\": {\\\"fields\\\": [{\\\"data\\\": \\\"counts\\\", \\\"field\\\": \\\"count\\\"}, {\\\"data\\\": \\\"nulls\\\", \\\"field\\\": \\\"count\\\"}]}}, {\\\"name\\\": \\\"xscale\\\", \\\"type\\\": \\\"linear\\\", \\\"range\\\": [{\\\"signal\\\": \\\"nullGap ? barStep + nullGap : 0\\\"}, {\\\"signal\\\": \\\"width\\\"}], \\\"round\\\": true, \\\"domain\\\": {\\\"signal\\\": \\\"[bins.start, bins.stop]\\\"}, \\\"bins\\\": {\\\"signal\\\": \\\"bins\\\"}}, {\\\"name\\\": \\\"xscale-null\\\", \\\"type\\\": \\\"band\\\", \\\"range\\\": [{\\\"signal\\\": \\\"nullGap ? 0 : 1\\\"}, {\\\"signal\\\": \\\"nullGap ? barStep : 0\\\"}], \\\"round\\\": true, \\\"domain\\\": [{\\\"signal\\\": \\\"nullGap ? null : &apos;&apos;\\\"}]}], \\\"axes\\\": [{\\\"title\\\": \\\"Values\\\", \\\"orient\\\": \\\"bottom\\\", \\\"scale\\\": \\\"xscale\\\", \\\"tickMinStep\\\": 1, \\\"grid\\\": true}, {\\\"orient\\\": \\\"bottom\\\", \\\"scale\\\": \\\"xscale-null\\\"}, {\\\"title\\\": \\\"Count\\\", \\\"orient\\\": \\\"left\\\", \\\"scale\\\": \\\"yscale\\\", \\\"tickCount\\\": 5, \\\"offset\\\": {\\\"signal\\\": \\\"nullGap ? 5 : 0\\\"}, \\\"grid\\\": true}], \\\"config\\\": {\\\"axis\\\": {\\\"gridColor\\\": \\\"rgba(204,204,204,1.0)\\\", \\\"labelFont\\\": \\\"\\\\\\\"San Francisco\\\\\\\", HelveticaNeue, Arial\\\", \\\"labelFontSize\\\": 12, \\\"labelPadding\\\": 10, \\\"labelColor\\\": \\\"rgba(0,0,0,0.847)\\\", \\\"tickColor\\\": \\\"rgb(136,136,136)\\\", \\\"titleFont\\\": \\\"\\\\\\\"San Francisco\\\\\\\", HelveticaNeue, Arial\\\", \\\"titleFontWeight\\\": \\\"normal\\\", \\\"titlePadding\\\": 20, \\\"titleFontSize\\\": 14, \\\"titleColor\\\": \\\"rgba(0,0,0,0.847)\\\"}, \\\"axisY\\\": {\\\"minExtent\\\": 30}, \\\"legend\\\": {\\\"labelFont\\\": \\\"\\\\\\\"San Francisco\\\\\\\", HelveticaNeue, Arial\\\", \\\"labelColor\\\": \\\"rgba(0,0,0,0.847)\\\", \\\"titleFont\\\": \\\"\\\\\\\"San Francisco\\\\\\\", HelveticaNeue, Arial\\\", \\\"cornerRadius\\\": 30, \\\"gradientLength\\\": 608, \\\"titleColor\\\": \\\"rgba(0,0,0,0.847)\\\"}, \\\"range\\\": {\\\"heatmap\\\": {\\\"scheme\\\": \\\"greenblue\\\"}}, \\\"style\\\": {\\\"rect\\\": {\\\"stroke\\\": \\\"rgba(200, 200, 200, 0.5)\\\"}, \\\"cell\\\": {\\\"stroke\\\": \\\"transparent\\\"}, \\\"group-title\\\": {\\\"fontSize\\\": 29, \\\"font\\\": \\\"HelveticaNeue, Arial\\\", \\\"fontWeight\\\": \\\"normal\\\", \\\"fill\\\": \\\"rgba(0,0,0,0.65)\\\"}}, \\\"title\\\": {\\\"color\\\": \\\"rgba(0,0,0,0.847)\\\", \\\"font\\\": \\\"\\\\\\\"San Francisco\\\\\\\", HelveticaNeue, Arial\\\", \\\"fontSize\\\": 18, \\\"fontWeight\\\": \\\"normal\\\", \\\"offset\\\": 30}}}\";                                 var vega_json_parsed = JSON.parse(vega_json);                                 var toolTipOpts = {                                     showAllFields: true                                 };                                 if(vega_json_parsed[\"metadata\"] != null){                                     if(vega_json_parsed[\"metadata\"][\"bubbleOpts\"] != null){                                         toolTipOpts = vega_json_parsed[\"metadata\"][\"bubbleOpts\"];                                     };                                 };                                 vegaEmbed(\"#vis\", vega_json_parsed).then(function (result) {                                     vegaTooltip.vega(result.view, toolTipOpts);                                  });                             </script>                         </body>                     </html>' src=\"demo_iframe_srcdoc.htm\">                         <p>Your browser does not support iframes.</p>                     </iframe>                 </body>             </html>"
            ],
            "text/plain": [
              "<IPython.core.display.HTML object>"
            ]
          },
          "metadata": {}
        },
        {
          "output_type": "execute_result",
          "data": {
            "text/plain": [
              "<turicreate.visualization._plot.Plot at 0x7f95d9648cd0>"
            ]
          },
          "metadata": {},
          "execution_count": 86
        }
      ]
    },
    {
      "cell_type": "code",
      "metadata": {
        "colab": {
          "base_uri": "https://localhost:8080/",
          "height": 1000
        },
        "id": "W3VwcZDX2ORU",
        "outputId": "575800bd-d23b-4601-a70c-e90fb666a1c7"
      },
      "source": [
        "modelo= tc.classifier.create(cancer, 'diagnosis',['mean_texture','mean_perimeter','mean_area','mean_smoothness','mean_radius'])"
      ],
      "execution_count": 85,
      "outputs": [
        {
          "output_type": "stream",
          "name": "stdout",
          "text": [
            "PROGRESS: Creating a validation set from 5 percent of training data. This may take a while.\n",
            "          You can set ``validation_set=None`` to disable validation tracking.\n",
            "\n",
            "PROGRESS: The following methods are available for this type of problem.\n",
            "PROGRESS: BoostedTreesClassifier, RandomForestClassifier, DecisionTreeClassifier, SVMClassifier, LogisticClassifier\n",
            "PROGRESS: The returned model will be chosen according to validation accuracy.\n"
          ]
        },
        {
          "output_type": "display_data",
          "data": {
            "text/html": [
              "<pre>Boosted trees classifier:</pre>"
            ],
            "text/plain": [
              "Boosted trees classifier:"
            ]
          },
          "metadata": {}
        },
        {
          "output_type": "display_data",
          "data": {
            "text/html": [
              "<pre>--------------------------------------------------------</pre>"
            ],
            "text/plain": [
              "--------------------------------------------------------"
            ]
          },
          "metadata": {}
        },
        {
          "output_type": "display_data",
          "data": {
            "text/html": [
              "<pre>Number of examples          : 540</pre>"
            ],
            "text/plain": [
              "Number of examples          : 540"
            ]
          },
          "metadata": {}
        },
        {
          "output_type": "display_data",
          "data": {
            "text/html": [
              "<pre>Number of classes           : 2</pre>"
            ],
            "text/plain": [
              "Number of classes           : 2"
            ]
          },
          "metadata": {}
        },
        {
          "output_type": "display_data",
          "data": {
            "text/html": [
              "<pre>Number of feature columns   : 5</pre>"
            ],
            "text/plain": [
              "Number of feature columns   : 5"
            ]
          },
          "metadata": {}
        },
        {
          "output_type": "display_data",
          "data": {
            "text/html": [
              "<pre>Number of unpacked features : 5</pre>"
            ],
            "text/plain": [
              "Number of unpacked features : 5"
            ]
          },
          "metadata": {}
        },
        {
          "output_type": "display_data",
          "data": {
            "text/html": [
              "<pre>+-----------+--------------+-------------------+---------------------+-------------------+---------------------+</pre>"
            ],
            "text/plain": [
              "+-----------+--------------+-------------------+---------------------+-------------------+---------------------+"
            ]
          },
          "metadata": {}
        },
        {
          "output_type": "display_data",
          "data": {
            "text/html": [
              "<pre>| Iteration | Elapsed Time | Training Accuracy | Validation Accuracy | Training Log Loss | Validation Log Loss |</pre>"
            ],
            "text/plain": [
              "| Iteration | Elapsed Time | Training Accuracy | Validation Accuracy | Training Log Loss | Validation Log Loss |"
            ]
          },
          "metadata": {}
        },
        {
          "output_type": "display_data",
          "data": {
            "text/html": [
              "<pre>+-----------+--------------+-------------------+---------------------+-------------------+---------------------+</pre>"
            ],
            "text/plain": [
              "+-----------+--------------+-------------------+---------------------+-------------------+---------------------+"
            ]
          },
          "metadata": {}
        },
        {
          "output_type": "display_data",
          "data": {
            "text/html": [
              "<pre>| 1         | 0.002059     | 0.968518          | 1.000000            | 0.479652          | 0.464225            |</pre>"
            ],
            "text/plain": [
              "| 1         | 0.002059     | 0.968518          | 1.000000            | 0.479652          | 0.464225            |"
            ]
          },
          "metadata": {}
        },
        {
          "output_type": "display_data",
          "data": {
            "text/html": [
              "<pre>| 2         | 0.004195     | 0.968518          | 1.000000            | 0.355392          | 0.363175            |</pre>"
            ],
            "text/plain": [
              "| 2         | 0.004195     | 0.968518          | 1.000000            | 0.355392          | 0.363175            |"
            ]
          },
          "metadata": {}
        },
        {
          "output_type": "display_data",
          "data": {
            "text/html": [
              "<pre>| 3         | 0.006256     | 0.975926          | 1.000000            | 0.275382          | 0.283518            |</pre>"
            ],
            "text/plain": [
              "| 3         | 0.006256     | 0.975926          | 1.000000            | 0.275382          | 0.283518            |"
            ]
          },
          "metadata": {}
        },
        {
          "output_type": "display_data",
          "data": {
            "text/html": [
              "<pre>| 4         | 0.021451     | 0.975926          | 1.000000            | 0.217796          | 0.210848            |</pre>"
            ],
            "text/plain": [
              "| 4         | 0.021451     | 0.975926          | 1.000000            | 0.217796          | 0.210848            |"
            ]
          },
          "metadata": {}
        },
        {
          "output_type": "display_data",
          "data": {
            "text/html": [
              "<pre>| 5         | 0.030128     | 0.977778          | 1.000000            | 0.177265          | 0.171356            |</pre>"
            ],
            "text/plain": [
              "| 5         | 0.030128     | 0.977778          | 1.000000            | 0.177265          | 0.171356            |"
            ]
          },
          "metadata": {}
        },
        {
          "output_type": "display_data",
          "data": {
            "text/html": [
              "<pre>| 10        | 0.069879     | 0.983333          | 1.000000            | 0.077197          | 0.081939            |</pre>"
            ],
            "text/plain": [
              "| 10        | 0.069879     | 0.983333          | 1.000000            | 0.077197          | 0.081939            |"
            ]
          },
          "metadata": {}
        },
        {
          "output_type": "display_data",
          "data": {
            "text/html": [
              "<pre>+-----------+--------------+-------------------+---------------------+-------------------+---------------------+</pre>"
            ],
            "text/plain": [
              "+-----------+--------------+-------------------+---------------------+-------------------+---------------------+"
            ]
          },
          "metadata": {}
        },
        {
          "output_type": "display_data",
          "data": {
            "text/html": [
              "<pre>Random forest classifier:</pre>"
            ],
            "text/plain": [
              "Random forest classifier:"
            ]
          },
          "metadata": {}
        },
        {
          "output_type": "display_data",
          "data": {
            "text/html": [
              "<pre>--------------------------------------------------------</pre>"
            ],
            "text/plain": [
              "--------------------------------------------------------"
            ]
          },
          "metadata": {}
        },
        {
          "output_type": "display_data",
          "data": {
            "text/html": [
              "<pre>Number of examples          : 540</pre>"
            ],
            "text/plain": [
              "Number of examples          : 540"
            ]
          },
          "metadata": {}
        },
        {
          "output_type": "display_data",
          "data": {
            "text/html": [
              "<pre>Number of classes           : 2</pre>"
            ],
            "text/plain": [
              "Number of classes           : 2"
            ]
          },
          "metadata": {}
        },
        {
          "output_type": "display_data",
          "data": {
            "text/html": [
              "<pre>Number of feature columns   : 5</pre>"
            ],
            "text/plain": [
              "Number of feature columns   : 5"
            ]
          },
          "metadata": {}
        },
        {
          "output_type": "display_data",
          "data": {
            "text/html": [
              "<pre>Number of unpacked features : 5</pre>"
            ],
            "text/plain": [
              "Number of unpacked features : 5"
            ]
          },
          "metadata": {}
        },
        {
          "output_type": "display_data",
          "data": {
            "text/html": [
              "<pre>+-----------+--------------+-------------------+---------------------+-------------------+---------------------+</pre>"
            ],
            "text/plain": [
              "+-----------+--------------+-------------------+---------------------+-------------------+---------------------+"
            ]
          },
          "metadata": {}
        },
        {
          "output_type": "display_data",
          "data": {
            "text/html": [
              "<pre>| Iteration | Elapsed Time | Training Accuracy | Validation Accuracy | Training Log Loss | Validation Log Loss |</pre>"
            ],
            "text/plain": [
              "| Iteration | Elapsed Time | Training Accuracy | Validation Accuracy | Training Log Loss | Validation Log Loss |"
            ]
          },
          "metadata": {}
        },
        {
          "output_type": "display_data",
          "data": {
            "text/html": [
              "<pre>+-----------+--------------+-------------------+---------------------+-------------------+---------------------+</pre>"
            ],
            "text/plain": [
              "+-----------+--------------+-------------------+---------------------+-------------------+---------------------+"
            ]
          },
          "metadata": {}
        },
        {
          "output_type": "display_data",
          "data": {
            "text/html": [
              "<pre>| 1         | 0.009451     | 0.940741          | 0.896552            | 0.258870          | 0.232016            |</pre>"
            ],
            "text/plain": [
              "| 1         | 0.009451     | 0.940741          | 0.896552            | 0.258870          | 0.232016            |"
            ]
          },
          "metadata": {}
        },
        {
          "output_type": "display_data",
          "data": {
            "text/html": [
              "<pre>| 2         | 0.013893     | 0.961111          | 0.931035            | 0.233041          | 0.224231            |</pre>"
            ],
            "text/plain": [
              "| 2         | 0.013893     | 0.961111          | 0.931035            | 0.233041          | 0.224231            |"
            ]
          },
          "metadata": {}
        },
        {
          "output_type": "display_data",
          "data": {
            "text/html": [
              "<pre>| 3         | 0.019886     | 0.968518          | 0.931035            | 0.225607          | 0.216602            |</pre>"
            ],
            "text/plain": [
              "| 3         | 0.019886     | 0.968518          | 0.931035            | 0.225607          | 0.216602            |"
            ]
          },
          "metadata": {}
        },
        {
          "output_type": "display_data",
          "data": {
            "text/html": [
              "<pre>| 4         | 0.024369     | 0.966667          | 0.965517            | 0.220074          | 0.198963            |</pre>"
            ],
            "text/plain": [
              "| 4         | 0.024369     | 0.966667          | 0.965517            | 0.220074          | 0.198963            |"
            ]
          },
          "metadata": {}
        },
        {
          "output_type": "display_data",
          "data": {
            "text/html": [
              "<pre>| 5         | 0.029873     | 0.964815          | 0.965517            | 0.223527          | 0.193955            |</pre>"
            ],
            "text/plain": [
              "| 5         | 0.029873     | 0.964815          | 0.965517            | 0.223527          | 0.193955            |"
            ]
          },
          "metadata": {}
        },
        {
          "output_type": "display_data",
          "data": {
            "text/html": [
              "<pre>| 10        | 0.061906     | 0.961111          | 0.965517            | 0.221890          | 0.199232            |</pre>"
            ],
            "text/plain": [
              "| 10        | 0.061906     | 0.961111          | 0.965517            | 0.221890          | 0.199232            |"
            ]
          },
          "metadata": {}
        },
        {
          "output_type": "display_data",
          "data": {
            "text/html": [
              "<pre>+-----------+--------------+-------------------+---------------------+-------------------+---------------------+</pre>"
            ],
            "text/plain": [
              "+-----------+--------------+-------------------+---------------------+-------------------+---------------------+"
            ]
          },
          "metadata": {}
        },
        {
          "output_type": "display_data",
          "data": {
            "text/html": [
              "<pre>Decision tree classifier:</pre>"
            ],
            "text/plain": [
              "Decision tree classifier:"
            ]
          },
          "metadata": {}
        },
        {
          "output_type": "display_data",
          "data": {
            "text/html": [
              "<pre>--------------------------------------------------------</pre>"
            ],
            "text/plain": [
              "--------------------------------------------------------"
            ]
          },
          "metadata": {}
        },
        {
          "output_type": "display_data",
          "data": {
            "text/html": [
              "<pre>Number of examples          : 540</pre>"
            ],
            "text/plain": [
              "Number of examples          : 540"
            ]
          },
          "metadata": {}
        },
        {
          "output_type": "display_data",
          "data": {
            "text/html": [
              "<pre>Number of classes           : 2</pre>"
            ],
            "text/plain": [
              "Number of classes           : 2"
            ]
          },
          "metadata": {}
        },
        {
          "output_type": "display_data",
          "data": {
            "text/html": [
              "<pre>Number of feature columns   : 5</pre>"
            ],
            "text/plain": [
              "Number of feature columns   : 5"
            ]
          },
          "metadata": {}
        },
        {
          "output_type": "display_data",
          "data": {
            "text/html": [
              "<pre>Number of unpacked features : 5</pre>"
            ],
            "text/plain": [
              "Number of unpacked features : 5"
            ]
          },
          "metadata": {}
        },
        {
          "output_type": "display_data",
          "data": {
            "text/html": [
              "<pre>+-----------+--------------+-------------------+---------------------+-------------------+---------------------+</pre>"
            ],
            "text/plain": [
              "+-----------+--------------+-------------------+---------------------+-------------------+---------------------+"
            ]
          },
          "metadata": {}
        },
        {
          "output_type": "display_data",
          "data": {
            "text/html": [
              "<pre>| Iteration | Elapsed Time | Training Accuracy | Validation Accuracy | Training Log Loss | Validation Log Loss |</pre>"
            ],
            "text/plain": [
              "| Iteration | Elapsed Time | Training Accuracy | Validation Accuracy | Training Log Loss | Validation Log Loss |"
            ]
          },
          "metadata": {}
        },
        {
          "output_type": "display_data",
          "data": {
            "text/html": [
              "<pre>+-----------+--------------+-------------------+---------------------+-------------------+---------------------+</pre>"
            ],
            "text/plain": [
              "+-----------+--------------+-------------------+---------------------+-------------------+---------------------+"
            ]
          },
          "metadata": {}
        },
        {
          "output_type": "display_data",
          "data": {
            "text/html": [
              "<pre>| 1         | 0.002281     | 0.968518          | 1.000000            | 0.209980          | 0.167124            |</pre>"
            ],
            "text/plain": [
              "| 1         | 0.002281     | 0.968518          | 1.000000            | 0.209980          | 0.167124            |"
            ]
          },
          "metadata": {}
        },
        {
          "output_type": "display_data",
          "data": {
            "text/html": [
              "<pre>+-----------+--------------+-------------------+---------------------+-------------------+---------------------+</pre>"
            ],
            "text/plain": [
              "+-----------+--------------+-------------------+---------------------+-------------------+---------------------+"
            ]
          },
          "metadata": {}
        },
        {
          "output_type": "display_data",
          "data": {
            "text/html": [
              "<pre>SVM:</pre>"
            ],
            "text/plain": [
              "SVM:"
            ]
          },
          "metadata": {}
        },
        {
          "output_type": "display_data",
          "data": {
            "text/html": [
              "<pre>--------------------------------------------------------</pre>"
            ],
            "text/plain": [
              "--------------------------------------------------------"
            ]
          },
          "metadata": {}
        },
        {
          "output_type": "display_data",
          "data": {
            "text/html": [
              "<pre>Number of examples          : 540</pre>"
            ],
            "text/plain": [
              "Number of examples          : 540"
            ]
          },
          "metadata": {}
        },
        {
          "output_type": "display_data",
          "data": {
            "text/html": [
              "<pre>Number of classes           : 2</pre>"
            ],
            "text/plain": [
              "Number of classes           : 2"
            ]
          },
          "metadata": {}
        },
        {
          "output_type": "display_data",
          "data": {
            "text/html": [
              "<pre>Number of feature columns   : 5</pre>"
            ],
            "text/plain": [
              "Number of feature columns   : 5"
            ]
          },
          "metadata": {}
        },
        {
          "output_type": "display_data",
          "data": {
            "text/html": [
              "<pre>Number of unpacked features : 5</pre>"
            ],
            "text/plain": [
              "Number of unpacked features : 5"
            ]
          },
          "metadata": {}
        },
        {
          "output_type": "display_data",
          "data": {
            "text/html": [
              "<pre>Number of coefficients    : 6</pre>"
            ],
            "text/plain": [
              "Number of coefficients    : 6"
            ]
          },
          "metadata": {}
        },
        {
          "output_type": "display_data",
          "data": {
            "text/html": [
              "<pre>Starting L-BFGS</pre>"
            ],
            "text/plain": [
              "Starting L-BFGS"
            ]
          },
          "metadata": {}
        },
        {
          "output_type": "display_data",
          "data": {
            "text/html": [
              "<pre>--------------------------------------------------------</pre>"
            ],
            "text/plain": [
              "--------------------------------------------------------"
            ]
          },
          "metadata": {}
        },
        {
          "output_type": "display_data",
          "data": {
            "text/html": [
              "<pre>+-----------+----------+-----------+--------------+-------------------+---------------------+</pre>"
            ],
            "text/plain": [
              "+-----------+----------+-----------+--------------+-------------------+---------------------+"
            ]
          },
          "metadata": {}
        },
        {
          "output_type": "display_data",
          "data": {
            "text/html": [
              "<pre>| Iteration | Passes   | Step size | Elapsed Time | Training Accuracy | Validation Accuracy |</pre>"
            ],
            "text/plain": [
              "| Iteration | Passes   | Step size | Elapsed Time | Training Accuracy | Validation Accuracy |"
            ]
          },
          "metadata": {}
        },
        {
          "output_type": "display_data",
          "data": {
            "text/html": [
              "<pre>+-----------+----------+-----------+--------------+-------------------+---------------------+</pre>"
            ],
            "text/plain": [
              "+-----------+----------+-----------+--------------+-------------------+---------------------+"
            ]
          },
          "metadata": {}
        },
        {
          "output_type": "display_data",
          "data": {
            "text/html": [
              "<pre>| 0         | 5        | 2.000000  | 0.002590     | 0.625926          | 0.655172            |</pre>"
            ],
            "text/plain": [
              "| 0         | 5        | 2.000000  | 0.002590     | 0.625926          | 0.655172            |"
            ]
          },
          "metadata": {}
        },
        {
          "output_type": "display_data",
          "data": {
            "text/html": [
              "<pre>| 1         | 8        | 1.000000  | 0.005121     | 0.629630          | 0.655172            |</pre>"
            ],
            "text/plain": [
              "| 1         | 8        | 1.000000  | 0.005121     | 0.629630          | 0.655172            |"
            ]
          },
          "metadata": {}
        },
        {
          "output_type": "display_data",
          "data": {
            "text/html": [
              "<pre>| 2         | 15       | 8.717164  | 0.011447     | 0.812963          | 0.862069            |</pre>"
            ],
            "text/plain": [
              "| 2         | 15       | 8.717164  | 0.011447     | 0.812963          | 0.862069            |"
            ]
          },
          "metadata": {}
        },
        {
          "output_type": "display_data",
          "data": {
            "text/html": [
              "<pre>| 3         | 20       | 6.152504  | 0.016586     | 0.833333          | 0.896552            |</pre>"
            ],
            "text/plain": [
              "| 3         | 20       | 6.152504  | 0.016586     | 0.833333          | 0.896552            |"
            ]
          },
          "metadata": {}
        },
        {
          "output_type": "display_data",
          "data": {
            "text/html": [
              "<pre>| 4         | 23       | 4.606680  | 0.020819     | 0.887037          | 0.965517            |</pre>"
            ],
            "text/plain": [
              "| 4         | 23       | 4.606680  | 0.020819     | 0.887037          | 0.965517            |"
            ]
          },
          "metadata": {}
        },
        {
          "output_type": "display_data",
          "data": {
            "text/html": [
              "<pre>| 9         | 31       | 1.914970  | 0.030851     | 0.918519          | 0.965517            |</pre>"
            ],
            "text/plain": [
              "| 9         | 31       | 1.914970  | 0.030851     | 0.918519          | 0.965517            |"
            ]
          },
          "metadata": {}
        },
        {
          "output_type": "display_data",
          "data": {
            "text/html": [
              "<pre>+-----------+----------+-----------+--------------+-------------------+---------------------+</pre>"
            ],
            "text/plain": [
              "+-----------+----------+-----------+--------------+-------------------+---------------------+"
            ]
          },
          "metadata": {}
        },
        {
          "output_type": "display_data",
          "data": {
            "text/html": [
              "<pre>Logistic regression:</pre>"
            ],
            "text/plain": [
              "Logistic regression:"
            ]
          },
          "metadata": {}
        },
        {
          "output_type": "display_data",
          "data": {
            "text/html": [
              "<pre>--------------------------------------------------------</pre>"
            ],
            "text/plain": [
              "--------------------------------------------------------"
            ]
          },
          "metadata": {}
        },
        {
          "output_type": "display_data",
          "data": {
            "text/html": [
              "<pre>Number of examples          : 540</pre>"
            ],
            "text/plain": [
              "Number of examples          : 540"
            ]
          },
          "metadata": {}
        },
        {
          "output_type": "display_data",
          "data": {
            "text/html": [
              "<pre>Number of classes           : 2</pre>"
            ],
            "text/plain": [
              "Number of classes           : 2"
            ]
          },
          "metadata": {}
        },
        {
          "output_type": "display_data",
          "data": {
            "text/html": [
              "<pre>Number of feature columns   : 5</pre>"
            ],
            "text/plain": [
              "Number of feature columns   : 5"
            ]
          },
          "metadata": {}
        },
        {
          "output_type": "display_data",
          "data": {
            "text/html": [
              "<pre>Number of unpacked features : 5</pre>"
            ],
            "text/plain": [
              "Number of unpacked features : 5"
            ]
          },
          "metadata": {}
        },
        {
          "output_type": "display_data",
          "data": {
            "text/html": [
              "<pre>Number of coefficients      : 6</pre>"
            ],
            "text/plain": [
              "Number of coefficients      : 6"
            ]
          },
          "metadata": {}
        },
        {
          "output_type": "display_data",
          "data": {
            "text/html": [
              "<pre>Starting Newton Method</pre>"
            ],
            "text/plain": [
              "Starting Newton Method"
            ]
          },
          "metadata": {}
        },
        {
          "output_type": "display_data",
          "data": {
            "text/html": [
              "<pre>--------------------------------------------------------</pre>"
            ],
            "text/plain": [
              "--------------------------------------------------------"
            ]
          },
          "metadata": {}
        },
        {
          "output_type": "display_data",
          "data": {
            "text/html": [
              "<pre>+-----------+----------+--------------+-------------------+---------------------+</pre>"
            ],
            "text/plain": [
              "+-----------+----------+--------------+-------------------+---------------------+"
            ]
          },
          "metadata": {}
        },
        {
          "output_type": "display_data",
          "data": {
            "text/html": [
              "<pre>| Iteration | Passes   | Elapsed Time | Training Accuracy | Validation Accuracy |</pre>"
            ],
            "text/plain": [
              "| Iteration | Passes   | Elapsed Time | Training Accuracy | Validation Accuracy |"
            ]
          },
          "metadata": {}
        },
        {
          "output_type": "display_data",
          "data": {
            "text/html": [
              "<pre>+-----------+----------+--------------+-------------------+---------------------+</pre>"
            ],
            "text/plain": [
              "+-----------+----------+--------------+-------------------+---------------------+"
            ]
          },
          "metadata": {}
        },
        {
          "output_type": "display_data",
          "data": {
            "text/html": [
              "<pre>| 1         | 2        | 0.002644     | 0.924074          | 1.000000            |</pre>"
            ],
            "text/plain": [
              "| 1         | 2        | 0.002644     | 0.924074          | 1.000000            |"
            ]
          },
          "metadata": {}
        },
        {
          "output_type": "display_data",
          "data": {
            "text/html": [
              "<pre>| 2         | 3        | 0.004783     | 0.924074          | 1.000000            |</pre>"
            ],
            "text/plain": [
              "| 2         | 3        | 0.004783     | 0.924074          | 1.000000            |"
            ]
          },
          "metadata": {}
        },
        {
          "output_type": "display_data",
          "data": {
            "text/html": [
              "<pre>| 3         | 4        | 0.006639     | 0.925926          | 1.000000            |</pre>"
            ],
            "text/plain": [
              "| 3         | 4        | 0.006639     | 0.925926          | 1.000000            |"
            ]
          },
          "metadata": {}
        },
        {
          "output_type": "display_data",
          "data": {
            "text/html": [
              "<pre>| 4         | 5        | 0.009875     | 0.929630          | 1.000000            |</pre>"
            ],
            "text/plain": [
              "| 4         | 5        | 0.009875     | 0.929630          | 1.000000            |"
            ]
          },
          "metadata": {}
        },
        {
          "output_type": "display_data",
          "data": {
            "text/html": [
              "<pre>| 5         | 6        | 0.011592     | 0.927778          | 1.000000            |</pre>"
            ],
            "text/plain": [
              "| 5         | 6        | 0.011592     | 0.927778          | 1.000000            |"
            ]
          },
          "metadata": {}
        },
        {
          "output_type": "display_data",
          "data": {
            "text/html": [
              "<pre>| 6         | 7        | 0.013261     | 0.927778          | 1.000000            |</pre>"
            ],
            "text/plain": [
              "| 6         | 7        | 0.013261     | 0.927778          | 1.000000            |"
            ]
          },
          "metadata": {}
        },
        {
          "output_type": "display_data",
          "data": {
            "text/html": [
              "<pre>+-----------+----------+--------------+-------------------+---------------------+</pre>"
            ],
            "text/plain": [
              "+-----------+----------+--------------+-------------------+---------------------+"
            ]
          },
          "metadata": {}
        },
        {
          "output_type": "display_data",
          "data": {
            "text/html": [
              "<pre>SUCCESS: Optimal solution found.</pre>"
            ],
            "text/plain": [
              "SUCCESS: Optimal solution found."
            ]
          },
          "metadata": {}
        },
        {
          "output_type": "display_data",
          "data": {
            "text/html": [
              "<pre></pre>"
            ],
            "text/plain": [
              ""
            ]
          },
          "metadata": {}
        },
        {
          "output_type": "stream",
          "name": "stdout",
          "text": [
            "PROGRESS: Model selection based on validation accuracy:\n",
            "PROGRESS: ---------------------------------------------\n",
            "PROGRESS: BoostedTreesClassifier          : 1.0\n",
            "PROGRESS: RandomForestClassifier          : 0.9655172413793104\n",
            "PROGRESS: DecisionTreeClassifier          : 1.0\n",
            "PROGRESS: SVMClassifier                   : 0.9655172413793104\n",
            "PROGRESS: LogisticClassifier              : 1.0\n",
            "PROGRESS: ---------------------------------------------\n",
            "PROGRESS: Selecting BoostedTreesClassifier based on validation set performance.\n"
          ]
        }
      ]
    },
    {
      "cell_type": "code",
      "metadata": {
        "colab": {
          "base_uri": "https://localhost:8080/",
          "height": 1000
        },
        "id": "XbOFJhv9OH2C",
        "outputId": "3f5fdb05-a249-43e2-a635-aefdd5b225ea"
      },
      "source": [
        "modelo= tc.classifier.create(cancer, 'diagnosis',['mean_perimeter','mean_area'])"
      ],
      "execution_count": 84,
      "outputs": [
        {
          "output_type": "stream",
          "name": "stdout",
          "text": [
            "PROGRESS: Creating a validation set from 5 percent of training data. This may take a while.\n",
            "          You can set ``validation_set=None`` to disable validation tracking.\n",
            "\n",
            "PROGRESS: The following methods are available for this type of problem.\n",
            "PROGRESS: BoostedTreesClassifier, RandomForestClassifier, DecisionTreeClassifier, SVMClassifier, LogisticClassifier\n",
            "PROGRESS: The returned model will be chosen according to validation accuracy.\n"
          ]
        },
        {
          "output_type": "display_data",
          "data": {
            "text/html": [
              "<pre>Boosted trees classifier:</pre>"
            ],
            "text/plain": [
              "Boosted trees classifier:"
            ]
          },
          "metadata": {}
        },
        {
          "output_type": "display_data",
          "data": {
            "text/html": [
              "<pre>--------------------------------------------------------</pre>"
            ],
            "text/plain": [
              "--------------------------------------------------------"
            ]
          },
          "metadata": {}
        },
        {
          "output_type": "display_data",
          "data": {
            "text/html": [
              "<pre>Number of examples          : 540</pre>"
            ],
            "text/plain": [
              "Number of examples          : 540"
            ]
          },
          "metadata": {}
        },
        {
          "output_type": "display_data",
          "data": {
            "text/html": [
              "<pre>Number of classes           : 2</pre>"
            ],
            "text/plain": [
              "Number of classes           : 2"
            ]
          },
          "metadata": {}
        },
        {
          "output_type": "display_data",
          "data": {
            "text/html": [
              "<pre>Number of feature columns   : 2</pre>"
            ],
            "text/plain": [
              "Number of feature columns   : 2"
            ]
          },
          "metadata": {}
        },
        {
          "output_type": "display_data",
          "data": {
            "text/html": [
              "<pre>Number of unpacked features : 2</pre>"
            ],
            "text/plain": [
              "Number of unpacked features : 2"
            ]
          },
          "metadata": {}
        },
        {
          "output_type": "display_data",
          "data": {
            "text/html": [
              "<pre>+-----------+--------------+-------------------+---------------------+-------------------+---------------------+</pre>"
            ],
            "text/plain": [
              "+-----------+--------------+-------------------+---------------------+-------------------+---------------------+"
            ]
          },
          "metadata": {}
        },
        {
          "output_type": "display_data",
          "data": {
            "text/html": [
              "<pre>| Iteration | Elapsed Time | Training Accuracy | Validation Accuracy | Training Log Loss | Validation Log Loss |</pre>"
            ],
            "text/plain": [
              "| Iteration | Elapsed Time | Training Accuracy | Validation Accuracy | Training Log Loss | Validation Log Loss |"
            ]
          },
          "metadata": {}
        },
        {
          "output_type": "display_data",
          "data": {
            "text/html": [
              "<pre>+-----------+--------------+-------------------+---------------------+-------------------+---------------------+</pre>"
            ],
            "text/plain": [
              "+-----------+--------------+-------------------+---------------------+-------------------+---------------------+"
            ]
          },
          "metadata": {}
        },
        {
          "output_type": "display_data",
          "data": {
            "text/html": [
              "<pre>| 1         | 0.008290     | 0.937037          | 0.931035            | 0.505231          | 0.503858            |</pre>"
            ],
            "text/plain": [
              "| 1         | 0.008290     | 0.937037          | 0.931035            | 0.505231          | 0.503858            |"
            ]
          },
          "metadata": {}
        },
        {
          "output_type": "display_data",
          "data": {
            "text/html": [
              "<pre>| 2         | 0.012492     | 0.931481          | 0.931035            | 0.399905          | 0.406851            |</pre>"
            ],
            "text/plain": [
              "| 2         | 0.012492     | 0.931481          | 0.931035            | 0.399905          | 0.406851            |"
            ]
          },
          "metadata": {}
        },
        {
          "output_type": "display_data",
          "data": {
            "text/html": [
              "<pre>| 3         | 0.015848     | 0.931481          | 0.931035            | 0.328845          | 0.350833            |</pre>"
            ],
            "text/plain": [
              "| 3         | 0.015848     | 0.931481          | 0.931035            | 0.328845          | 0.350833            |"
            ]
          },
          "metadata": {}
        },
        {
          "output_type": "display_data",
          "data": {
            "text/html": [
              "<pre>| 4         | 0.023384     | 0.938889          | 0.931035            | 0.281298          | 0.314398            |</pre>"
            ],
            "text/plain": [
              "| 4         | 0.023384     | 0.938889          | 0.931035            | 0.281298          | 0.314398            |"
            ]
          },
          "metadata": {}
        },
        {
          "output_type": "display_data",
          "data": {
            "text/html": [
              "<pre>| 5         | 0.025375     | 0.940741          | 0.931035            | 0.244997          | 0.298898            |</pre>"
            ],
            "text/plain": [
              "| 5         | 0.025375     | 0.940741          | 0.931035            | 0.244997          | 0.298898            |"
            ]
          },
          "metadata": {}
        },
        {
          "output_type": "display_data",
          "data": {
            "text/html": [
              "<pre>| 10        | 0.043078     | 0.942593          | 0.931035            | 0.165246          | 0.275227            |</pre>"
            ],
            "text/plain": [
              "| 10        | 0.043078     | 0.942593          | 0.931035            | 0.165246          | 0.275227            |"
            ]
          },
          "metadata": {}
        },
        {
          "output_type": "display_data",
          "data": {
            "text/html": [
              "<pre>+-----------+--------------+-------------------+---------------------+-------------------+---------------------+</pre>"
            ],
            "text/plain": [
              "+-----------+--------------+-------------------+---------------------+-------------------+---------------------+"
            ]
          },
          "metadata": {}
        },
        {
          "output_type": "display_data",
          "data": {
            "text/html": [
              "<pre>Random forest classifier:</pre>"
            ],
            "text/plain": [
              "Random forest classifier:"
            ]
          },
          "metadata": {}
        },
        {
          "output_type": "display_data",
          "data": {
            "text/html": [
              "<pre>--------------------------------------------------------</pre>"
            ],
            "text/plain": [
              "--------------------------------------------------------"
            ]
          },
          "metadata": {}
        },
        {
          "output_type": "display_data",
          "data": {
            "text/html": [
              "<pre>Number of examples          : 540</pre>"
            ],
            "text/plain": [
              "Number of examples          : 540"
            ]
          },
          "metadata": {}
        },
        {
          "output_type": "display_data",
          "data": {
            "text/html": [
              "<pre>Number of classes           : 2</pre>"
            ],
            "text/plain": [
              "Number of classes           : 2"
            ]
          },
          "metadata": {}
        },
        {
          "output_type": "display_data",
          "data": {
            "text/html": [
              "<pre>Number of feature columns   : 2</pre>"
            ],
            "text/plain": [
              "Number of feature columns   : 2"
            ]
          },
          "metadata": {}
        },
        {
          "output_type": "display_data",
          "data": {
            "text/html": [
              "<pre>Number of unpacked features : 2</pre>"
            ],
            "text/plain": [
              "Number of unpacked features : 2"
            ]
          },
          "metadata": {}
        },
        {
          "output_type": "display_data",
          "data": {
            "text/html": [
              "<pre>+-----------+--------------+-------------------+---------------------+-------------------+---------------------+</pre>"
            ],
            "text/plain": [
              "+-----------+--------------+-------------------+---------------------+-------------------+---------------------+"
            ]
          },
          "metadata": {}
        },
        {
          "output_type": "display_data",
          "data": {
            "text/html": [
              "<pre>| Iteration | Elapsed Time | Training Accuracy | Validation Accuracy | Training Log Loss | Validation Log Loss |</pre>"
            ],
            "text/plain": [
              "| Iteration | Elapsed Time | Training Accuracy | Validation Accuracy | Training Log Loss | Validation Log Loss |"
            ]
          },
          "metadata": {}
        },
        {
          "output_type": "display_data",
          "data": {
            "text/html": [
              "<pre>+-----------+--------------+-------------------+---------------------+-------------------+---------------------+</pre>"
            ],
            "text/plain": [
              "+-----------+--------------+-------------------+---------------------+-------------------+---------------------+"
            ]
          },
          "metadata": {}
        },
        {
          "output_type": "display_data",
          "data": {
            "text/html": [
              "<pre>| 1         | 0.002212     | 0.914815          | 0.931035            | 0.293752          | 0.291614            |</pre>"
            ],
            "text/plain": [
              "| 1         | 0.002212     | 0.914815          | 0.931035            | 0.293752          | 0.291614            |"
            ]
          },
          "metadata": {}
        },
        {
          "output_type": "display_data",
          "data": {
            "text/html": [
              "<pre>| 2         | 0.004287     | 0.916667          | 0.931035            | 0.297062          | 0.283959            |</pre>"
            ],
            "text/plain": [
              "| 2         | 0.004287     | 0.916667          | 0.931035            | 0.297062          | 0.283959            |"
            ]
          },
          "metadata": {}
        },
        {
          "output_type": "display_data",
          "data": {
            "text/html": [
              "<pre>| 3         | 0.005900     | 0.907407          | 0.931035            | 0.302286          | 0.292047            |</pre>"
            ],
            "text/plain": [
              "| 3         | 0.005900     | 0.907407          | 0.931035            | 0.302286          | 0.292047            |"
            ]
          },
          "metadata": {}
        },
        {
          "output_type": "display_data",
          "data": {
            "text/html": [
              "<pre>| 4         | 0.007527     | 0.912963          | 0.931035            | 0.296548          | 0.288705            |</pre>"
            ],
            "text/plain": [
              "| 4         | 0.007527     | 0.912963          | 0.931035            | 0.296548          | 0.288705            |"
            ]
          },
          "metadata": {}
        },
        {
          "output_type": "display_data",
          "data": {
            "text/html": [
              "<pre>| 5         | 0.009884     | 0.911111          | 0.931035            | 0.295799          | 0.287103            |</pre>"
            ],
            "text/plain": [
              "| 5         | 0.009884     | 0.911111          | 0.931035            | 0.295799          | 0.287103            |"
            ]
          },
          "metadata": {}
        },
        {
          "output_type": "display_data",
          "data": {
            "text/html": [
              "<pre>| 10        | 0.017770     | 0.905556          | 0.965517            | 0.299781          | 0.279922            |</pre>"
            ],
            "text/plain": [
              "| 10        | 0.017770     | 0.905556          | 0.965517            | 0.299781          | 0.279922            |"
            ]
          },
          "metadata": {}
        },
        {
          "output_type": "display_data",
          "data": {
            "text/html": [
              "<pre>+-----------+--------------+-------------------+---------------------+-------------------+---------------------+</pre>"
            ],
            "text/plain": [
              "+-----------+--------------+-------------------+---------------------+-------------------+---------------------+"
            ]
          },
          "metadata": {}
        },
        {
          "output_type": "display_data",
          "data": {
            "text/html": [
              "<pre>Decision tree classifier:</pre>"
            ],
            "text/plain": [
              "Decision tree classifier:"
            ]
          },
          "metadata": {}
        },
        {
          "output_type": "display_data",
          "data": {
            "text/html": [
              "<pre>--------------------------------------------------------</pre>"
            ],
            "text/plain": [
              "--------------------------------------------------------"
            ]
          },
          "metadata": {}
        },
        {
          "output_type": "display_data",
          "data": {
            "text/html": [
              "<pre>Number of examples          : 540</pre>"
            ],
            "text/plain": [
              "Number of examples          : 540"
            ]
          },
          "metadata": {}
        },
        {
          "output_type": "display_data",
          "data": {
            "text/html": [
              "<pre>Number of classes           : 2</pre>"
            ],
            "text/plain": [
              "Number of classes           : 2"
            ]
          },
          "metadata": {}
        },
        {
          "output_type": "display_data",
          "data": {
            "text/html": [
              "<pre>Number of feature columns   : 2</pre>"
            ],
            "text/plain": [
              "Number of feature columns   : 2"
            ]
          },
          "metadata": {}
        },
        {
          "output_type": "display_data",
          "data": {
            "text/html": [
              "<pre>Number of unpacked features : 2</pre>"
            ],
            "text/plain": [
              "Number of unpacked features : 2"
            ]
          },
          "metadata": {}
        },
        {
          "output_type": "display_data",
          "data": {
            "text/html": [
              "<pre>+-----------+--------------+-------------------+---------------------+-------------------+---------------------+</pre>"
            ],
            "text/plain": [
              "+-----------+--------------+-------------------+---------------------+-------------------+---------------------+"
            ]
          },
          "metadata": {}
        },
        {
          "output_type": "display_data",
          "data": {
            "text/html": [
              "<pre>| Iteration | Elapsed Time | Training Accuracy | Validation Accuracy | Training Log Loss | Validation Log Loss |</pre>"
            ],
            "text/plain": [
              "| Iteration | Elapsed Time | Training Accuracy | Validation Accuracy | Training Log Loss | Validation Log Loss |"
            ]
          },
          "metadata": {}
        },
        {
          "output_type": "display_data",
          "data": {
            "text/html": [
              "<pre>+-----------+--------------+-------------------+---------------------+-------------------+---------------------+</pre>"
            ],
            "text/plain": [
              "+-----------+--------------+-------------------+---------------------+-------------------+---------------------+"
            ]
          },
          "metadata": {}
        },
        {
          "output_type": "display_data",
          "data": {
            "text/html": [
              "<pre>| 1         | 0.001864     | 0.937037          | 0.931035            | 0.273232          | 0.272056            |</pre>"
            ],
            "text/plain": [
              "| 1         | 0.001864     | 0.937037          | 0.931035            | 0.273232          | 0.272056            |"
            ]
          },
          "metadata": {}
        },
        {
          "output_type": "display_data",
          "data": {
            "text/html": [
              "<pre>+-----------+--------------+-------------------+---------------------+-------------------+---------------------+</pre>"
            ],
            "text/plain": [
              "+-----------+--------------+-------------------+---------------------+-------------------+---------------------+"
            ]
          },
          "metadata": {}
        },
        {
          "output_type": "display_data",
          "data": {
            "text/html": [
              "<pre>SVM:</pre>"
            ],
            "text/plain": [
              "SVM:"
            ]
          },
          "metadata": {}
        },
        {
          "output_type": "display_data",
          "data": {
            "text/html": [
              "<pre>--------------------------------------------------------</pre>"
            ],
            "text/plain": [
              "--------------------------------------------------------"
            ]
          },
          "metadata": {}
        },
        {
          "output_type": "display_data",
          "data": {
            "text/html": [
              "<pre>Number of examples          : 540</pre>"
            ],
            "text/plain": [
              "Number of examples          : 540"
            ]
          },
          "metadata": {}
        },
        {
          "output_type": "display_data",
          "data": {
            "text/html": [
              "<pre>Number of classes           : 2</pre>"
            ],
            "text/plain": [
              "Number of classes           : 2"
            ]
          },
          "metadata": {}
        },
        {
          "output_type": "display_data",
          "data": {
            "text/html": [
              "<pre>Number of feature columns   : 2</pre>"
            ],
            "text/plain": [
              "Number of feature columns   : 2"
            ]
          },
          "metadata": {}
        },
        {
          "output_type": "display_data",
          "data": {
            "text/html": [
              "<pre>Number of unpacked features : 2</pre>"
            ],
            "text/plain": [
              "Number of unpacked features : 2"
            ]
          },
          "metadata": {}
        },
        {
          "output_type": "display_data",
          "data": {
            "text/html": [
              "<pre>Number of coefficients    : 3</pre>"
            ],
            "text/plain": [
              "Number of coefficients    : 3"
            ]
          },
          "metadata": {}
        },
        {
          "output_type": "display_data",
          "data": {
            "text/html": [
              "<pre>Starting L-BFGS</pre>"
            ],
            "text/plain": [
              "Starting L-BFGS"
            ]
          },
          "metadata": {}
        },
        {
          "output_type": "display_data",
          "data": {
            "text/html": [
              "<pre>--------------------------------------------------------</pre>"
            ],
            "text/plain": [
              "--------------------------------------------------------"
            ]
          },
          "metadata": {}
        },
        {
          "output_type": "display_data",
          "data": {
            "text/html": [
              "<pre>+-----------+----------+-----------+--------------+-------------------+---------------------+</pre>"
            ],
            "text/plain": [
              "+-----------+----------+-----------+--------------+-------------------+---------------------+"
            ]
          },
          "metadata": {}
        },
        {
          "output_type": "display_data",
          "data": {
            "text/html": [
              "<pre>| Iteration | Passes   | Step size | Elapsed Time | Training Accuracy | Validation Accuracy |</pre>"
            ],
            "text/plain": [
              "| Iteration | Passes   | Step size | Elapsed Time | Training Accuracy | Validation Accuracy |"
            ]
          },
          "metadata": {}
        },
        {
          "output_type": "display_data",
          "data": {
            "text/html": [
              "<pre>+-----------+----------+-----------+--------------+-------------------+---------------------+</pre>"
            ],
            "text/plain": [
              "+-----------+----------+-----------+--------------+-------------------+---------------------+"
            ]
          },
          "metadata": {}
        },
        {
          "output_type": "display_data",
          "data": {
            "text/html": [
              "<pre>| 0         | 6        | 9.000000  | 0.003599     | 0.624074          | 0.827586            |</pre>"
            ],
            "text/plain": [
              "| 0         | 6        | 9.000000  | 0.003599     | 0.624074          | 0.827586            |"
            ]
          },
          "metadata": {}
        },
        {
          "output_type": "display_data",
          "data": {
            "text/html": [
              "<pre>| 1         | 10       | 2.250000  | 0.005167     | 0.751852          | 0.586207            |</pre>"
            ],
            "text/plain": [
              "| 1         | 10       | 2.250000  | 0.005167     | 0.751852          | 0.586207            |"
            ]
          },
          "metadata": {}
        },
        {
          "output_type": "display_data",
          "data": {
            "text/html": [
              "<pre>| 2         | 15       | 1.169555  | 0.010226     | 0.875926          | 0.931034            |</pre>"
            ],
            "text/plain": [
              "| 2         | 15       | 1.169555  | 0.010226     | 0.875926          | 0.931034            |"
            ]
          },
          "metadata": {}
        },
        {
          "output_type": "display_data",
          "data": {
            "text/html": [
              "<pre>| 3         | 16       | 1.169555  | 0.012464     | 0.868519          | 0.931034            |</pre>"
            ],
            "text/plain": [
              "| 3         | 16       | 1.169555  | 0.012464     | 0.868519          | 0.931034            |"
            ]
          },
          "metadata": {}
        },
        {
          "output_type": "display_data",
          "data": {
            "text/html": [
              "<pre>| 4         | 17       | 1.169555  | 0.013187     | 0.874074          | 0.931034            |</pre>"
            ],
            "text/plain": [
              "| 4         | 17       | 1.169555  | 0.013187     | 0.874074          | 0.931034            |"
            ]
          },
          "metadata": {}
        },
        {
          "output_type": "display_data",
          "data": {
            "text/html": [
              "<pre>| 9         | 23       | 1.169555  | 0.020945     | 0.883333          | 0.965517            |</pre>"
            ],
            "text/plain": [
              "| 9         | 23       | 1.169555  | 0.020945     | 0.883333          | 0.965517            |"
            ]
          },
          "metadata": {}
        },
        {
          "output_type": "display_data",
          "data": {
            "text/html": [
              "<pre>+-----------+----------+-----------+--------------+-------------------+---------------------+</pre>"
            ],
            "text/plain": [
              "+-----------+----------+-----------+--------------+-------------------+---------------------+"
            ]
          },
          "metadata": {}
        },
        {
          "output_type": "display_data",
          "data": {
            "text/html": [
              "<pre>Logistic regression:</pre>"
            ],
            "text/plain": [
              "Logistic regression:"
            ]
          },
          "metadata": {}
        },
        {
          "output_type": "display_data",
          "data": {
            "text/html": [
              "<pre>--------------------------------------------------------</pre>"
            ],
            "text/plain": [
              "--------------------------------------------------------"
            ]
          },
          "metadata": {}
        },
        {
          "output_type": "display_data",
          "data": {
            "text/html": [
              "<pre>Number of examples          : 540</pre>"
            ],
            "text/plain": [
              "Number of examples          : 540"
            ]
          },
          "metadata": {}
        },
        {
          "output_type": "display_data",
          "data": {
            "text/html": [
              "<pre>Number of classes           : 2</pre>"
            ],
            "text/plain": [
              "Number of classes           : 2"
            ]
          },
          "metadata": {}
        },
        {
          "output_type": "display_data",
          "data": {
            "text/html": [
              "<pre>Number of feature columns   : 2</pre>"
            ],
            "text/plain": [
              "Number of feature columns   : 2"
            ]
          },
          "metadata": {}
        },
        {
          "output_type": "display_data",
          "data": {
            "text/html": [
              "<pre>Number of unpacked features : 2</pre>"
            ],
            "text/plain": [
              "Number of unpacked features : 2"
            ]
          },
          "metadata": {}
        },
        {
          "output_type": "display_data",
          "data": {
            "text/html": [
              "<pre>Number of coefficients      : 3</pre>"
            ],
            "text/plain": [
              "Number of coefficients      : 3"
            ]
          },
          "metadata": {}
        },
        {
          "output_type": "display_data",
          "data": {
            "text/html": [
              "<pre>Starting Newton Method</pre>"
            ],
            "text/plain": [
              "Starting Newton Method"
            ]
          },
          "metadata": {}
        },
        {
          "output_type": "display_data",
          "data": {
            "text/html": [
              "<pre>--------------------------------------------------------</pre>"
            ],
            "text/plain": [
              "--------------------------------------------------------"
            ]
          },
          "metadata": {}
        },
        {
          "output_type": "display_data",
          "data": {
            "text/html": [
              "<pre>+-----------+----------+--------------+-------------------+---------------------+</pre>"
            ],
            "text/plain": [
              "+-----------+----------+--------------+-------------------+---------------------+"
            ]
          },
          "metadata": {}
        },
        {
          "output_type": "display_data",
          "data": {
            "text/html": [
              "<pre>| Iteration | Passes   | Elapsed Time | Training Accuracy | Validation Accuracy |</pre>"
            ],
            "text/plain": [
              "| Iteration | Passes   | Elapsed Time | Training Accuracy | Validation Accuracy |"
            ]
          },
          "metadata": {}
        },
        {
          "output_type": "display_data",
          "data": {
            "text/html": [
              "<pre>+-----------+----------+--------------+-------------------+---------------------+</pre>"
            ],
            "text/plain": [
              "+-----------+----------+--------------+-------------------+---------------------+"
            ]
          },
          "metadata": {}
        },
        {
          "output_type": "display_data",
          "data": {
            "text/html": [
              "<pre>| 1         | 2        | 0.004097     | 0.887037          | 0.931034            |</pre>"
            ],
            "text/plain": [
              "| 1         | 2        | 0.004097     | 0.887037          | 0.931034            |"
            ]
          },
          "metadata": {}
        },
        {
          "output_type": "display_data",
          "data": {
            "text/html": [
              "<pre>| 2         | 3        | 0.006064     | 0.881481          | 0.965517            |</pre>"
            ],
            "text/plain": [
              "| 2         | 3        | 0.006064     | 0.881481          | 0.965517            |"
            ]
          },
          "metadata": {}
        },
        {
          "output_type": "display_data",
          "data": {
            "text/html": [
              "<pre>| 3         | 4        | 0.009252     | 0.883333          | 0.965517            |</pre>"
            ],
            "text/plain": [
              "| 3         | 4        | 0.009252     | 0.883333          | 0.965517            |"
            ]
          },
          "metadata": {}
        },
        {
          "output_type": "display_data",
          "data": {
            "text/html": [
              "<pre>| 4         | 5        | 0.010740     | 0.877778          | 0.931034            |</pre>"
            ],
            "text/plain": [
              "| 4         | 5        | 0.010740     | 0.877778          | 0.931034            |"
            ]
          },
          "metadata": {}
        },
        {
          "output_type": "display_data",
          "data": {
            "text/html": [
              "<pre>| 5         | 6        | 0.014161     | 0.877778          | 0.931034            |</pre>"
            ],
            "text/plain": [
              "| 5         | 6        | 0.014161     | 0.877778          | 0.931034            |"
            ]
          },
          "metadata": {}
        },
        {
          "output_type": "display_data",
          "data": {
            "text/html": [
              "<pre>| 6         | 7        | 0.015611     | 0.877778          | 0.931034            |</pre>"
            ],
            "text/plain": [
              "| 6         | 7        | 0.015611     | 0.877778          | 0.931034            |"
            ]
          },
          "metadata": {}
        },
        {
          "output_type": "display_data",
          "data": {
            "text/html": [
              "<pre>+-----------+----------+--------------+-------------------+---------------------+</pre>"
            ],
            "text/plain": [
              "+-----------+----------+--------------+-------------------+---------------------+"
            ]
          },
          "metadata": {}
        },
        {
          "output_type": "display_data",
          "data": {
            "text/html": [
              "<pre>SUCCESS: Optimal solution found.</pre>"
            ],
            "text/plain": [
              "SUCCESS: Optimal solution found."
            ]
          },
          "metadata": {}
        },
        {
          "output_type": "display_data",
          "data": {
            "text/html": [
              "<pre></pre>"
            ],
            "text/plain": [
              ""
            ]
          },
          "metadata": {}
        },
        {
          "output_type": "stream",
          "name": "stdout",
          "text": [
            "PROGRESS: Model selection based on validation accuracy:\n",
            "PROGRESS: ---------------------------------------------\n",
            "PROGRESS: BoostedTreesClassifier          : 0.9310344827586207\n",
            "PROGRESS: RandomForestClassifier          : 0.9655172413793104\n",
            "PROGRESS: DecisionTreeClassifier          : 0.9310344827586207\n",
            "PROGRESS: SVMClassifier                   : 0.9655172413793104\n",
            "PROGRESS: LogisticClassifier              : 0.9310344827586207\n",
            "PROGRESS: ---------------------------------------------\n",
            "PROGRESS: Selecting RandomForestClassifier based on validation set performance.\n"
          ]
        }
      ]
    },
    {
      "cell_type": "code",
      "metadata": {
        "colab": {
          "base_uri": "https://localhost:8080/",
          "height": 1000
        },
        "id": "uaeMz_s1OTgJ",
        "outputId": "94053da9-b9de-44a6-84ad-3e0216aa90aa"
      },
      "source": [
        "modelo= tc.classifier.create(cancer, 'diagnosis')"
      ],
      "execution_count": 83,
      "outputs": [
        {
          "output_type": "stream",
          "name": "stdout",
          "text": [
            "PROGRESS: Creating a validation set from 5 percent of training data. This may take a while.\n",
            "          You can set ``validation_set=None`` to disable validation tracking.\n",
            "\n",
            "PROGRESS: The following methods are available for this type of problem.\n",
            "PROGRESS: BoostedTreesClassifier, RandomForestClassifier, DecisionTreeClassifier, SVMClassifier, LogisticClassifier\n",
            "PROGRESS: The returned model will be chosen according to validation accuracy.\n"
          ]
        },
        {
          "output_type": "display_data",
          "data": {
            "text/html": [
              "<pre>Boosted trees classifier:</pre>"
            ],
            "text/plain": [
              "Boosted trees classifier:"
            ]
          },
          "metadata": {}
        },
        {
          "output_type": "display_data",
          "data": {
            "text/html": [
              "<pre>--------------------------------------------------------</pre>"
            ],
            "text/plain": [
              "--------------------------------------------------------"
            ]
          },
          "metadata": {}
        },
        {
          "output_type": "display_data",
          "data": {
            "text/html": [
              "<pre>Number of examples          : 540</pre>"
            ],
            "text/plain": [
              "Number of examples          : 540"
            ]
          },
          "metadata": {}
        },
        {
          "output_type": "display_data",
          "data": {
            "text/html": [
              "<pre>Number of classes           : 2</pre>"
            ],
            "text/plain": [
              "Number of classes           : 2"
            ]
          },
          "metadata": {}
        },
        {
          "output_type": "display_data",
          "data": {
            "text/html": [
              "<pre>Number of feature columns   : 5</pre>"
            ],
            "text/plain": [
              "Number of feature columns   : 5"
            ]
          },
          "metadata": {}
        },
        {
          "output_type": "display_data",
          "data": {
            "text/html": [
              "<pre>Number of unpacked features : 5</pre>"
            ],
            "text/plain": [
              "Number of unpacked features : 5"
            ]
          },
          "metadata": {}
        },
        {
          "output_type": "display_data",
          "data": {
            "text/html": [
              "<pre>+-----------+--------------+-------------------+---------------------+-------------------+---------------------+</pre>"
            ],
            "text/plain": [
              "+-----------+--------------+-------------------+---------------------+-------------------+---------------------+"
            ]
          },
          "metadata": {}
        },
        {
          "output_type": "display_data",
          "data": {
            "text/html": [
              "<pre>| Iteration | Elapsed Time | Training Accuracy | Validation Accuracy | Training Log Loss | Validation Log Loss |</pre>"
            ],
            "text/plain": [
              "| Iteration | Elapsed Time | Training Accuracy | Validation Accuracy | Training Log Loss | Validation Log Loss |"
            ]
          },
          "metadata": {}
        },
        {
          "output_type": "display_data",
          "data": {
            "text/html": [
              "<pre>+-----------+--------------+-------------------+---------------------+-------------------+---------------------+</pre>"
            ],
            "text/plain": [
              "+-----------+--------------+-------------------+---------------------+-------------------+---------------------+"
            ]
          },
          "metadata": {}
        },
        {
          "output_type": "display_data",
          "data": {
            "text/html": [
              "<pre>| 1         | 0.004988     | 0.968518          | 0.931035            | 0.479816          | 0.477026            |</pre>"
            ],
            "text/plain": [
              "| 1         | 0.004988     | 0.968518          | 0.931035            | 0.479816          | 0.477026            |"
            ]
          },
          "metadata": {}
        },
        {
          "output_type": "display_data",
          "data": {
            "text/html": [
              "<pre>| 2         | 0.009709     | 0.974074          | 0.965517            | 0.355831          | 0.366385            |</pre>"
            ],
            "text/plain": [
              "| 2         | 0.009709     | 0.974074          | 0.965517            | 0.355831          | 0.366385            |"
            ]
          },
          "metadata": {}
        },
        {
          "output_type": "display_data",
          "data": {
            "text/html": [
              "<pre>| 3         | 0.014030     | 0.977778          | 0.965517            | 0.273625          | 0.288156            |</pre>"
            ],
            "text/plain": [
              "| 3         | 0.014030     | 0.977778          | 0.965517            | 0.273625          | 0.288156            |"
            ]
          },
          "metadata": {}
        },
        {
          "output_type": "display_data",
          "data": {
            "text/html": [
              "<pre>| 4         | 0.019711     | 0.977778          | 0.965517            | 0.216196          | 0.238665            |</pre>"
            ],
            "text/plain": [
              "| 4         | 0.019711     | 0.977778          | 0.965517            | 0.216196          | 0.238665            |"
            ]
          },
          "metadata": {}
        },
        {
          "output_type": "display_data",
          "data": {
            "text/html": [
              "<pre>| 5         | 0.023997     | 0.981481          | 0.965517            | 0.175688          | 0.209310            |</pre>"
            ],
            "text/plain": [
              "| 5         | 0.023997     | 0.981481          | 0.965517            | 0.175688          | 0.209310            |"
            ]
          },
          "metadata": {}
        },
        {
          "output_type": "display_data",
          "data": {
            "text/html": [
              "<pre>| 10        | 0.045336     | 0.988889          | 0.965517            | 0.074520          | 0.137062            |</pre>"
            ],
            "text/plain": [
              "| 10        | 0.045336     | 0.988889          | 0.965517            | 0.074520          | 0.137062            |"
            ]
          },
          "metadata": {}
        },
        {
          "output_type": "display_data",
          "data": {
            "text/html": [
              "<pre>+-----------+--------------+-------------------+---------------------+-------------------+---------------------+</pre>"
            ],
            "text/plain": [
              "+-----------+--------------+-------------------+---------------------+-------------------+---------------------+"
            ]
          },
          "metadata": {}
        },
        {
          "output_type": "display_data",
          "data": {
            "text/html": [
              "<pre>Random forest classifier:</pre>"
            ],
            "text/plain": [
              "Random forest classifier:"
            ]
          },
          "metadata": {}
        },
        {
          "output_type": "display_data",
          "data": {
            "text/html": [
              "<pre>--------------------------------------------------------</pre>"
            ],
            "text/plain": [
              "--------------------------------------------------------"
            ]
          },
          "metadata": {}
        },
        {
          "output_type": "display_data",
          "data": {
            "text/html": [
              "<pre>Number of examples          : 540</pre>"
            ],
            "text/plain": [
              "Number of examples          : 540"
            ]
          },
          "metadata": {}
        },
        {
          "output_type": "display_data",
          "data": {
            "text/html": [
              "<pre>Number of classes           : 2</pre>"
            ],
            "text/plain": [
              "Number of classes           : 2"
            ]
          },
          "metadata": {}
        },
        {
          "output_type": "display_data",
          "data": {
            "text/html": [
              "<pre>Number of feature columns   : 5</pre>"
            ],
            "text/plain": [
              "Number of feature columns   : 5"
            ]
          },
          "metadata": {}
        },
        {
          "output_type": "display_data",
          "data": {
            "text/html": [
              "<pre>Number of unpacked features : 5</pre>"
            ],
            "text/plain": [
              "Number of unpacked features : 5"
            ]
          },
          "metadata": {}
        },
        {
          "output_type": "display_data",
          "data": {
            "text/html": [
              "<pre>+-----------+--------------+-------------------+---------------------+-------------------+---------------------+</pre>"
            ],
            "text/plain": [
              "+-----------+--------------+-------------------+---------------------+-------------------+---------------------+"
            ]
          },
          "metadata": {}
        },
        {
          "output_type": "display_data",
          "data": {
            "text/html": [
              "<pre>| Iteration | Elapsed Time | Training Accuracy | Validation Accuracy | Training Log Loss | Validation Log Loss |</pre>"
            ],
            "text/plain": [
              "| Iteration | Elapsed Time | Training Accuracy | Validation Accuracy | Training Log Loss | Validation Log Loss |"
            ]
          },
          "metadata": {}
        },
        {
          "output_type": "display_data",
          "data": {
            "text/html": [
              "<pre>+-----------+--------------+-------------------+---------------------+-------------------+---------------------+</pre>"
            ],
            "text/plain": [
              "+-----------+--------------+-------------------+---------------------+-------------------+---------------------+"
            ]
          },
          "metadata": {}
        },
        {
          "output_type": "display_data",
          "data": {
            "text/html": [
              "<pre>| 1         | 0.007828     | 0.957407          | 0.965517            | 0.238350          | 0.225461            |</pre>"
            ],
            "text/plain": [
              "| 1         | 0.007828     | 0.957407          | 0.965517            | 0.238350          | 0.225461            |"
            ]
          },
          "metadata": {}
        },
        {
          "output_type": "display_data",
          "data": {
            "text/html": [
              "<pre>| 2         | 0.010265     | 0.957407          | 0.931035            | 0.225404          | 0.217659            |</pre>"
            ],
            "text/plain": [
              "| 2         | 0.010265     | 0.957407          | 0.931035            | 0.225404          | 0.217659            |"
            ]
          },
          "metadata": {}
        },
        {
          "output_type": "display_data",
          "data": {
            "text/html": [
              "<pre>| 3         | 0.012624     | 0.966667          | 0.965517            | 0.220356          | 0.216872            |</pre>"
            ],
            "text/plain": [
              "| 3         | 0.012624     | 0.966667          | 0.965517            | 0.220356          | 0.216872            |"
            ]
          },
          "metadata": {}
        },
        {
          "output_type": "display_data",
          "data": {
            "text/html": [
              "<pre>| 4         | 0.014994     | 0.959259          | 0.965517            | 0.224449          | 0.211951            |</pre>"
            ],
            "text/plain": [
              "| 4         | 0.014994     | 0.959259          | 0.965517            | 0.224449          | 0.211951            |"
            ]
          },
          "metadata": {}
        },
        {
          "output_type": "display_data",
          "data": {
            "text/html": [
              "<pre>| 5         | 0.017391     | 0.966667          | 0.965517            | 0.221117          | 0.210757            |</pre>"
            ],
            "text/plain": [
              "| 5         | 0.017391     | 0.966667          | 0.965517            | 0.221117          | 0.210757            |"
            ]
          },
          "metadata": {}
        },
        {
          "output_type": "display_data",
          "data": {
            "text/html": [
              "<pre>| 10        | 0.028741     | 0.964815          | 0.965517            | 0.219279          | 0.213021            |</pre>"
            ],
            "text/plain": [
              "| 10        | 0.028741     | 0.964815          | 0.965517            | 0.219279          | 0.213021            |"
            ]
          },
          "metadata": {}
        },
        {
          "output_type": "display_data",
          "data": {
            "text/html": [
              "<pre>+-----------+--------------+-------------------+---------------------+-------------------+---------------------+</pre>"
            ],
            "text/plain": [
              "+-----------+--------------+-------------------+---------------------+-------------------+---------------------+"
            ]
          },
          "metadata": {}
        },
        {
          "output_type": "display_data",
          "data": {
            "text/html": [
              "<pre>Decision tree classifier:</pre>"
            ],
            "text/plain": [
              "Decision tree classifier:"
            ]
          },
          "metadata": {}
        },
        {
          "output_type": "display_data",
          "data": {
            "text/html": [
              "<pre>--------------------------------------------------------</pre>"
            ],
            "text/plain": [
              "--------------------------------------------------------"
            ]
          },
          "metadata": {}
        },
        {
          "output_type": "display_data",
          "data": {
            "text/html": [
              "<pre>Number of examples          : 540</pre>"
            ],
            "text/plain": [
              "Number of examples          : 540"
            ]
          },
          "metadata": {}
        },
        {
          "output_type": "display_data",
          "data": {
            "text/html": [
              "<pre>Number of classes           : 2</pre>"
            ],
            "text/plain": [
              "Number of classes           : 2"
            ]
          },
          "metadata": {}
        },
        {
          "output_type": "display_data",
          "data": {
            "text/html": [
              "<pre>Number of feature columns   : 5</pre>"
            ],
            "text/plain": [
              "Number of feature columns   : 5"
            ]
          },
          "metadata": {}
        },
        {
          "output_type": "display_data",
          "data": {
            "text/html": [
              "<pre>Number of unpacked features : 5</pre>"
            ],
            "text/plain": [
              "Number of unpacked features : 5"
            ]
          },
          "metadata": {}
        },
        {
          "output_type": "display_data",
          "data": {
            "text/html": [
              "<pre>+-----------+--------------+-------------------+---------------------+-------------------+---------------------+</pre>"
            ],
            "text/plain": [
              "+-----------+--------------+-------------------+---------------------+-------------------+---------------------+"
            ]
          },
          "metadata": {}
        },
        {
          "output_type": "display_data",
          "data": {
            "text/html": [
              "<pre>| Iteration | Elapsed Time | Training Accuracy | Validation Accuracy | Training Log Loss | Validation Log Loss |</pre>"
            ],
            "text/plain": [
              "| Iteration | Elapsed Time | Training Accuracy | Validation Accuracy | Training Log Loss | Validation Log Loss |"
            ]
          },
          "metadata": {}
        },
        {
          "output_type": "display_data",
          "data": {
            "text/html": [
              "<pre>+-----------+--------------+-------------------+---------------------+-------------------+---------------------+</pre>"
            ],
            "text/plain": [
              "+-----------+--------------+-------------------+---------------------+-------------------+---------------------+"
            ]
          },
          "metadata": {}
        },
        {
          "output_type": "display_data",
          "data": {
            "text/html": [
              "<pre>| 1         | 0.002558     | 0.968518          | 0.931035            | 0.209770          | 0.199982            |</pre>"
            ],
            "text/plain": [
              "| 1         | 0.002558     | 0.968518          | 0.931035            | 0.209770          | 0.199982            |"
            ]
          },
          "metadata": {}
        },
        {
          "output_type": "display_data",
          "data": {
            "text/html": [
              "<pre>+-----------+--------------+-------------------+---------------------+-------------------+---------------------+</pre>"
            ],
            "text/plain": [
              "+-----------+--------------+-------------------+---------------------+-------------------+---------------------+"
            ]
          },
          "metadata": {}
        },
        {
          "output_type": "display_data",
          "data": {
            "text/html": [
              "<pre>SVM:</pre>"
            ],
            "text/plain": [
              "SVM:"
            ]
          },
          "metadata": {}
        },
        {
          "output_type": "display_data",
          "data": {
            "text/html": [
              "<pre>--------------------------------------------------------</pre>"
            ],
            "text/plain": [
              "--------------------------------------------------------"
            ]
          },
          "metadata": {}
        },
        {
          "output_type": "display_data",
          "data": {
            "text/html": [
              "<pre>Number of examples          : 540</pre>"
            ],
            "text/plain": [
              "Number of examples          : 540"
            ]
          },
          "metadata": {}
        },
        {
          "output_type": "display_data",
          "data": {
            "text/html": [
              "<pre>Number of classes           : 2</pre>"
            ],
            "text/plain": [
              "Number of classes           : 2"
            ]
          },
          "metadata": {}
        },
        {
          "output_type": "display_data",
          "data": {
            "text/html": [
              "<pre>Number of feature columns   : 5</pre>"
            ],
            "text/plain": [
              "Number of feature columns   : 5"
            ]
          },
          "metadata": {}
        },
        {
          "output_type": "display_data",
          "data": {
            "text/html": [
              "<pre>Number of unpacked features : 5</pre>"
            ],
            "text/plain": [
              "Number of unpacked features : 5"
            ]
          },
          "metadata": {}
        },
        {
          "output_type": "display_data",
          "data": {
            "text/html": [
              "<pre>Number of coefficients    : 6</pre>"
            ],
            "text/plain": [
              "Number of coefficients    : 6"
            ]
          },
          "metadata": {}
        },
        {
          "output_type": "display_data",
          "data": {
            "text/html": [
              "<pre>Starting L-BFGS</pre>"
            ],
            "text/plain": [
              "Starting L-BFGS"
            ]
          },
          "metadata": {}
        },
        {
          "output_type": "display_data",
          "data": {
            "text/html": [
              "<pre>--------------------------------------------------------</pre>"
            ],
            "text/plain": [
              "--------------------------------------------------------"
            ]
          },
          "metadata": {}
        },
        {
          "output_type": "display_data",
          "data": {
            "text/html": [
              "<pre>+-----------+----------+-----------+--------------+-------------------+---------------------+</pre>"
            ],
            "text/plain": [
              "+-----------+----------+-----------+--------------+-------------------+---------------------+"
            ]
          },
          "metadata": {}
        },
        {
          "output_type": "display_data",
          "data": {
            "text/html": [
              "<pre>| Iteration | Passes   | Step size | Elapsed Time | Training Accuracy | Validation Accuracy |</pre>"
            ],
            "text/plain": [
              "| Iteration | Passes   | Step size | Elapsed Time | Training Accuracy | Validation Accuracy |"
            ]
          },
          "metadata": {}
        },
        {
          "output_type": "display_data",
          "data": {
            "text/html": [
              "<pre>+-----------+----------+-----------+--------------+-------------------+---------------------+</pre>"
            ],
            "text/plain": [
              "+-----------+----------+-----------+--------------+-------------------+---------------------+"
            ]
          },
          "metadata": {}
        },
        {
          "output_type": "display_data",
          "data": {
            "text/html": [
              "<pre>| 0         | 5        | 2.000000  | 0.002265     | 0.620370          | 0.758621            |</pre>"
            ],
            "text/plain": [
              "| 0         | 5        | 2.000000  | 0.002265     | 0.620370          | 0.758621            |"
            ]
          },
          "metadata": {}
        },
        {
          "output_type": "display_data",
          "data": {
            "text/html": [
              "<pre>| 1         | 9        | 0.500000  | 0.004358     | 0.620370          | 0.758621            |</pre>"
            ],
            "text/plain": [
              "| 1         | 9        | 0.500000  | 0.004358     | 0.620370          | 0.758621            |"
            ]
          },
          "metadata": {}
        },
        {
          "output_type": "display_data",
          "data": {
            "text/html": [
              "<pre>| 2         | 15       | 1.284998  | 0.007154     | 0.844444          | 0.931034            |</pre>"
            ],
            "text/plain": [
              "| 2         | 15       | 1.284998  | 0.007154     | 0.844444          | 0.931034            |"
            ]
          },
          "metadata": {}
        },
        {
          "output_type": "display_data",
          "data": {
            "text/html": [
              "<pre>| 3         | 16       | 1.284998  | 0.008020     | 0.844444          | 0.931034            |</pre>"
            ],
            "text/plain": [
              "| 3         | 16       | 1.284998  | 0.008020     | 0.844444          | 0.931034            |"
            ]
          },
          "metadata": {}
        },
        {
          "output_type": "display_data",
          "data": {
            "text/html": [
              "<pre>| 4         | 18       | 1.284998  | 0.009369     | 0.851852          | 0.931034            |</pre>"
            ],
            "text/plain": [
              "| 4         | 18       | 1.284998  | 0.009369     | 0.851852          | 0.931034            |"
            ]
          },
          "metadata": {}
        },
        {
          "output_type": "display_data",
          "data": {
            "text/html": [
              "<pre>| 9         | 30       | 1.091463  | 0.016603     | 0.912963          | 0.965517            |</pre>"
            ],
            "text/plain": [
              "| 9         | 30       | 1.091463  | 0.016603     | 0.912963          | 0.965517            |"
            ]
          },
          "metadata": {}
        },
        {
          "output_type": "display_data",
          "data": {
            "text/html": [
              "<pre>+-----------+----------+-----------+--------------+-------------------+---------------------+</pre>"
            ],
            "text/plain": [
              "+-----------+----------+-----------+--------------+-------------------+---------------------+"
            ]
          },
          "metadata": {}
        },
        {
          "output_type": "display_data",
          "data": {
            "text/html": [
              "<pre>Logistic regression:</pre>"
            ],
            "text/plain": [
              "Logistic regression:"
            ]
          },
          "metadata": {}
        },
        {
          "output_type": "display_data",
          "data": {
            "text/html": [
              "<pre>--------------------------------------------------------</pre>"
            ],
            "text/plain": [
              "--------------------------------------------------------"
            ]
          },
          "metadata": {}
        },
        {
          "output_type": "display_data",
          "data": {
            "text/html": [
              "<pre>Number of examples          : 540</pre>"
            ],
            "text/plain": [
              "Number of examples          : 540"
            ]
          },
          "metadata": {}
        },
        {
          "output_type": "display_data",
          "data": {
            "text/html": [
              "<pre>Number of classes           : 2</pre>"
            ],
            "text/plain": [
              "Number of classes           : 2"
            ]
          },
          "metadata": {}
        },
        {
          "output_type": "display_data",
          "data": {
            "text/html": [
              "<pre>Number of feature columns   : 5</pre>"
            ],
            "text/plain": [
              "Number of feature columns   : 5"
            ]
          },
          "metadata": {}
        },
        {
          "output_type": "display_data",
          "data": {
            "text/html": [
              "<pre>Number of unpacked features : 5</pre>"
            ],
            "text/plain": [
              "Number of unpacked features : 5"
            ]
          },
          "metadata": {}
        },
        {
          "output_type": "display_data",
          "data": {
            "text/html": [
              "<pre>Number of coefficients      : 6</pre>"
            ],
            "text/plain": [
              "Number of coefficients      : 6"
            ]
          },
          "metadata": {}
        },
        {
          "output_type": "display_data",
          "data": {
            "text/html": [
              "<pre>Starting Newton Method</pre>"
            ],
            "text/plain": [
              "Starting Newton Method"
            ]
          },
          "metadata": {}
        },
        {
          "output_type": "display_data",
          "data": {
            "text/html": [
              "<pre>--------------------------------------------------------</pre>"
            ],
            "text/plain": [
              "--------------------------------------------------------"
            ]
          },
          "metadata": {}
        },
        {
          "output_type": "display_data",
          "data": {
            "text/html": [
              "<pre>+-----------+----------+--------------+-------------------+---------------------+</pre>"
            ],
            "text/plain": [
              "+-----------+----------+--------------+-------------------+---------------------+"
            ]
          },
          "metadata": {}
        },
        {
          "output_type": "display_data",
          "data": {
            "text/html": [
              "<pre>| Iteration | Passes   | Elapsed Time | Training Accuracy | Validation Accuracy |</pre>"
            ],
            "text/plain": [
              "| Iteration | Passes   | Elapsed Time | Training Accuracy | Validation Accuracy |"
            ]
          },
          "metadata": {}
        },
        {
          "output_type": "display_data",
          "data": {
            "text/html": [
              "<pre>+-----------+----------+--------------+-------------------+---------------------+</pre>"
            ],
            "text/plain": [
              "+-----------+----------+--------------+-------------------+---------------------+"
            ]
          },
          "metadata": {}
        },
        {
          "output_type": "display_data",
          "data": {
            "text/html": [
              "<pre>| 1         | 2        | 0.001681     | 0.925926          | 0.965517            |</pre>"
            ],
            "text/plain": [
              "| 1         | 2        | 0.001681     | 0.925926          | 0.965517            |"
            ]
          },
          "metadata": {}
        },
        {
          "output_type": "display_data",
          "data": {
            "text/html": [
              "<pre>| 2         | 3        | 0.005725     | 0.929630          | 0.965517            |</pre>"
            ],
            "text/plain": [
              "| 2         | 3        | 0.005725     | 0.929630          | 0.965517            |"
            ]
          },
          "metadata": {}
        },
        {
          "output_type": "display_data",
          "data": {
            "text/html": [
              "<pre>| 3         | 4        | 0.009711     | 0.931481          | 0.965517            |</pre>"
            ],
            "text/plain": [
              "| 3         | 4        | 0.009711     | 0.931481          | 0.965517            |"
            ]
          },
          "metadata": {}
        },
        {
          "output_type": "display_data",
          "data": {
            "text/html": [
              "<pre>| 4         | 5        | 0.011129     | 0.933333          | 0.931034            |</pre>"
            ],
            "text/plain": [
              "| 4         | 5        | 0.011129     | 0.933333          | 0.931034            |"
            ]
          },
          "metadata": {}
        },
        {
          "output_type": "display_data",
          "data": {
            "text/html": [
              "<pre>| 5         | 6        | 0.016021     | 0.933333          | 0.931034            |</pre>"
            ],
            "text/plain": [
              "| 5         | 6        | 0.016021     | 0.933333          | 0.931034            |"
            ]
          },
          "metadata": {}
        },
        {
          "output_type": "display_data",
          "data": {
            "text/html": [
              "<pre>| 6         | 7        | 0.019645     | 0.933333          | 0.931034            |</pre>"
            ],
            "text/plain": [
              "| 6         | 7        | 0.019645     | 0.933333          | 0.931034            |"
            ]
          },
          "metadata": {}
        },
        {
          "output_type": "display_data",
          "data": {
            "text/html": [
              "<pre>+-----------+----------+--------------+-------------------+---------------------+</pre>"
            ],
            "text/plain": [
              "+-----------+----------+--------------+-------------------+---------------------+"
            ]
          },
          "metadata": {}
        },
        {
          "output_type": "display_data",
          "data": {
            "text/html": [
              "<pre>SUCCESS: Optimal solution found.</pre>"
            ],
            "text/plain": [
              "SUCCESS: Optimal solution found."
            ]
          },
          "metadata": {}
        },
        {
          "output_type": "display_data",
          "data": {
            "text/html": [
              "<pre></pre>"
            ],
            "text/plain": [
              ""
            ]
          },
          "metadata": {}
        },
        {
          "output_type": "stream",
          "name": "stdout",
          "text": [
            "PROGRESS: Model selection based on validation accuracy:\n",
            "PROGRESS: ---------------------------------------------\n",
            "PROGRESS: BoostedTreesClassifier          : 0.9655172413793104\n",
            "PROGRESS: RandomForestClassifier          : 0.9655172413793104\n",
            "PROGRESS: DecisionTreeClassifier          : 0.9655172413793104\n",
            "PROGRESS: SVMClassifier                   : 0.9655172413793104\n",
            "PROGRESS: LogisticClassifier              : 0.9310344827586207\n",
            "PROGRESS: ---------------------------------------------\n",
            "PROGRESS: Selecting BoostedTreesClassifier based on validation set performance.\n"
          ]
        }
      ]
    },
    {
      "cell_type": "code",
      "metadata": {
        "colab": {
          "base_uri": "https://localhost:8080/"
        },
        "id": "Ryo3EEeV6HFy",
        "outputId": "710b9441-4800-4df1-d1f6-720b0bea3249"
      },
      "source": [
        "cancer.dtype"
      ],
      "execution_count": 82,
      "outputs": [
        {
          "output_type": "execute_result",
          "data": {
            "text/plain": [
              "[float, float, float, float, float, int]"
            ]
          },
          "metadata": {},
          "execution_count": 82
        }
      ]
    },
    {
      "cell_type": "code",
      "metadata": {
        "colab": {
          "base_uri": "https://localhost:8080/",
          "height": 75
        },
        "id": "kf3wQCqS6JmU",
        "outputId": "b08e980f-965b-4fe5-f00c-dbead88a9df3"
      },
      "source": [
        " Mujer= {'mean_radius': 15, 'mean_texture': 2,'mean_perimeter': 9,'mean_area': 328,'mean_smoothness': 2000,'diagnosis':4}\n",
        " modelo.classify(Mujer)"
      ],
      "execution_count": 81,
      "outputs": [
        {
          "output_type": "execute_result",
          "data": {
            "text/html": [
              "<div style=\"max-height:1000px;max-width:1500px;overflow:auto;\"><table frame=\"box\" rules=\"cols\">\n",
              "    <tr>\n",
              "        <th style=\"padding-left: 1em; padding-right: 1em; text-align: center\">class</th>\n",
              "        <th style=\"padding-left: 1em; padding-right: 1em; text-align: center\">probability</th>\n",
              "    </tr>\n",
              "    <tr>\n",
              "        <td style=\"padding-left: 1em; padding-right: 1em; text-align: center; vertical-align: top\">1</td>\n",
              "        <td style=\"padding-left: 1em; padding-right: 1em; text-align: center; vertical-align: top\">0.8375633358955383</td>\n",
              "    </tr>\n",
              "</table>\n",
              "[1 rows x 2 columns]<br/>\n",
              "</div>"
            ],
            "text/plain": [
              "Columns:\n",
              "\tclass\tint\n",
              "\tprobability\tfloat\n",
              "\n",
              "Rows: 1\n",
              "\n",
              "Data:\n",
              "+-------+--------------------+\n",
              "| class |    probability     |\n",
              "+-------+--------------------+\n",
              "|   1   | 0.8375633358955383 |\n",
              "+-------+--------------------+\n",
              "[1 rows x 2 columns]"
            ]
          },
          "metadata": {},
          "execution_count": 81
        }
      ]
    },
    {
      "cell_type": "code",
      "metadata": {
        "colab": {
          "base_uri": "https://localhost:8080/",
          "height": 75
        },
        "id": "6s3bDEAl887T",
        "outputId": "1d7a8575-cb16-47da-e609-8861be91dd48"
      },
      "source": [
        " Persona= {'diagnosis': 67 ,'mean_texture': 58.2,'mean_perimeter': 100,'mean_area': 654.6,'mean_smoothness': 0.22000,'mean_radius': 19.9}\n",
        " modelo.classify(Persona)"
      ],
      "execution_count": 80,
      "outputs": [
        {
          "output_type": "execute_result",
          "data": {
            "text/html": [
              "<div style=\"max-height:1000px;max-width:1500px;overflow:auto;\"><table frame=\"box\" rules=\"cols\">\n",
              "    <tr>\n",
              "        <th style=\"padding-left: 1em; padding-right: 1em; text-align: center\">class</th>\n",
              "        <th style=\"padding-left: 1em; padding-right: 1em; text-align: center\">probability</th>\n",
              "    </tr>\n",
              "    <tr>\n",
              "        <td style=\"padding-left: 1em; padding-right: 1em; text-align: center; vertical-align: top\">0</td>\n",
              "        <td style=\"padding-left: 1em; padding-right: 1em; text-align: center; vertical-align: top\">0.8689995408058167</td>\n",
              "    </tr>\n",
              "</table>\n",
              "[1 rows x 2 columns]<br/>\n",
              "</div>"
            ],
            "text/plain": [
              "Columns:\n",
              "\tclass\tint\n",
              "\tprobability\tfloat\n",
              "\n",
              "Rows: 1\n",
              "\n",
              "Data:\n",
              "+-------+--------------------+\n",
              "| class |    probability     |\n",
              "+-------+--------------------+\n",
              "|   0   | 0.8689995408058167 |\n",
              "+-------+--------------------+\n",
              "[1 rows x 2 columns]"
            ]
          },
          "metadata": {},
          "execution_count": 80
        }
      ]
    },
    {
      "cell_type": "code",
      "metadata": {
        "id": "paAmU5q39xvK"
      },
      "source": [
        "predicion = modelo.predict(cancer)"
      ],
      "execution_count": 79,
      "outputs": []
    },
    {
      "cell_type": "code",
      "metadata": {
        "id": "QxrSAZ_v_z_x"
      },
      "source": [
        "results = modelo.evaluate(cancer)"
      ],
      "execution_count": 78,
      "outputs": []
    },
    {
      "cell_type": "code",
      "metadata": {
        "id": "YhGKxckC_4OO"
      },
      "source": [
        "predictions = modelo.classify(cancer)"
      ],
      "execution_count": 77,
      "outputs": []
    }
  ]
}